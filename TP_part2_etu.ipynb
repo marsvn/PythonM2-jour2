{
  "cells": [
    {
      "cell_type": "markdown",
      "metadata": {
        "id": "NAChl8kXgy9x"
      },
      "source": [
        "# TP Python Master IBM/RPM\n",
        "## 2ème partie : manipuler des images biomédicales à l'aide des bibliothèques `SimpleITK` et `pydicom`\n",
        "\n",
        "Février 2025\n",
        "\n",
        "### Albertine Dubois - <span class=\"glyphicon glyphicon-envelope\"></span> albertine.dubois@cea.fr et Marion Savanier - <span class=\"glyphicon glyphicon-envelope\"></span> marion.savanier@universite-paris-saclay.fr\n",
        "----"
      ]
    },
    {
      "cell_type": "markdown",
      "source": [
        "Téléchargez le contenu du TP et installez SimpleITK."
      ],
      "metadata": {
        "id": "pahlzl0khCl-"
      }
    },
    {
      "cell_type": "code",
      "source": [
        "!git clone https://github.com/marsvn/PythonM2-jour2.git\n",
        "!pip install SimpleITK"
      ],
      "metadata": {
        "id": "gTPCBEEOhBzo"
      },
      "execution_count": null,
      "outputs": []
    },
    {
      "cell_type": "markdown",
      "source": [
        "Les données pour ce TP sont hébergées sur Google drive. Pour les récupérer créez un raccourci du fichier partagé data.zip dans votre drive puis exécutez le code suivant."
      ],
      "metadata": {
        "id": "oNp4dPxMhPXA"
      }
    },
    {
      "cell_type": "code",
      "source": [
        "from google.colab import drive\n",
        "drive.mount('/content/drive', force_remount=True)\n",
        "!unzip /content/drive/MyDrive/data.zip -d /content"
      ],
      "metadata": {
        "id": "MAf9iNTMh38z"
      },
      "execution_count": null,
      "outputs": []
    },
    {
      "cell_type": "markdown",
      "metadata": {
        "id": "437yCOz1gy9z"
      },
      "source": [
        "## <a name=\"part1\"></a> 1. Manipuler des images biomédicales\n",
        "* [ITK](https://itk.org/) ou Insight Segmentation and Registration Toolkit est un système multi-plateforme open-source offrant aux développeurs une suite complète d’outils logiciels pour l’analyse d’images.\n",
        "* Parmi elles, [SimpleITK](https://simpleitk.org/) est une couche simplifiée construite sur ITK, destinée à faciliter son utilisation dans les langages interprétés.\n",
        "* SimpleITK est une boîte à outils d’analyse d’images comprenant un grand nombre de composants prenant en charge les opérations de filtrage générales, la segmentation et l’enregistrement des images.\n",
        "* SimpleITK lui-même est écrit en C++ mais est disponible pour un grand nombre de langages de programmation, y compris Python."
      ]
    },
    {
      "cell_type": "markdown",
      "metadata": {
        "id": "eBjl_8wngy9z"
      },
      "source": [
        "### Conventions SimpleITK et rappels sur l'encodage des images\n",
        "    \n",
        "L'accès au contenu d'une image se fait selon un ordre `x,y,z` classique avec `image.GetPixel(x,y,z)` ou `image[x,y,z]`.\n",
        "\n",
        "Les indices des images commencent à 0.\n",
        "\n",
        "Par convention, SimpleITK, à l'instar d'ITK, considère que les images sont des objets physiques qui occupent une région close dans un espace physique. Ce concept est illustré par la figure suivante :\n",
        "\n",
        "<figure>\n",
        "<center>\n",
        "<img src=\"https://github.com/marsvn/PythonM2-jour2/blob/main/data/ImageOriginAndSpacing.png?raw=1\">\n",
        "<!--img src=\"http://insightsoftwareconsortium.github.io/SimpleITK-Notebooks/Python_html/ImageOriginAndSpacing.png\" -->\n",
        "</figure>"
      ]
    },
    {
      "cell_type": "markdown",
      "metadata": {
        "id": "_QoiH2j2gy90"
      },
      "source": [
        "Le contenu de chaque pixel est encodé suivant un certain nombre de valeurs (ou niveaux) possibles, qui peuvent être positives, négatives, entières, décimales suivant la modalité d'imagerie considérée. Cet encodage caractérise ce qu'on appelle le **type** d'un pixel.\n",
        "\n",
        "Le nombre de niveaux possibles est défini par la profondeur de l'encodage c’est-à-dire le nombre de bits utilisés pour encoder la valeur d'un pixel.\n",
        "\n",
        "En imagerie médicale, la profondeur de l'encodage peut-être égale à :\n",
        "* $1$ bit ($2^1=2$ niveaux)\n",
        "* $2$ bits ($2^2=4$ niveaux)\n",
        "* $4$ bits ($2^4=16$ niveaux)\n",
        "* $5$ bits ($2^5=32$  niveaux)\n",
        "* $8$ bits ($2^8=256$  niveaux)\n",
        "* $16$ bits ($2^{16}=65536$ niveaux)\n",
        "* $32$ bits ($2^{32}=4294967296$ niveaux)\n",
        "\n",
        "<figure>\n",
        "<center>\n",
        "<img src=\"https://github.com/marsvn/PythonM2-jour2/blob/main/data/quantification_TPRX.png?raw=1\">\n",
        "</figure>\n",
        "    \n",
        "Voici la liste de types d'image que vous pourriez être amenés à rencontrer en médecine nucléaire. D'autres types existent bien sûr.\n",
        "\n",
        "<table>\n",
        "  <tr><td>Nomenclature SimpleITK</td><td>Description</td><td>Valeurs permises</td></tr>\n",
        "  <tr><td>sitkUInt8</td><td>Unsigned 8 bit integer</td><td>0,1,2,...,255</td></tr>\n",
        "  <tr><td>sitkUInt16</td><td>Unsigned 16 bit integer</td><td>0,1,2,...,65535</td></tr>\n",
        "  <tr><td>sitkInt16</td><td>Signed 16 bit integer</td><td>-32768,...,0,...,32767</td></tr>\n",
        "  <tr><td>sitkFloat32</td><td>32 bit float</td><td>-1.7976931348623157e+308,...,0,...,1.7976931348623157e+308</td></tr>\n",
        "  <tr><td>sitkFloat64</td><td>64 bit float</td><td>-1.7976931348623157e+308,...,0,...,1.7976931348623157e+308</td></tr>\n",
        "</table>"
      ]
    },
    {
      "cell_type": "markdown",
      "metadata": {
        "id": "7srWx6-rgy90"
      },
      "source": [
        "Au final, les composants suivants sont nécessaires pour définir complètement une image :\n",
        "1. Le **type** de pixel [défini à la création, pas de valeur par défaut] : pour la liste complète voir au dessus.\n",
        "2. Les **dimensions** [défini à la création, pas de valeur par défaut] : le nombre de pixels/voxels dans chaque direction. Cela définit les dimensions de l'image.\n",
        "3. L'**origine** [par défaut 0] : coordonnées du pixel/voxel ayant l'indice (0,0,0) en unité physique (mm).\n",
        "4. L'**espacement** [par défaut 1] : distance en mm séparant 2 pixels/voxels adjacents dans chaque dimension.\n",
        "5. **Matrice des directions** [par défaut la matrice identité] : matrice liant les vecteurs directeurs de l'image et les axes des coordonnées physiques."
      ]
    },
    {
      "cell_type": "markdown",
      "metadata": {
        "id": "3BWFdstJgy91"
      },
      "source": [
        "### 1.1 Accéder aux attributs d'une image SimpleITK"
      ]
    },
    {
      "cell_type": "markdown",
      "metadata": {
        "id": "YlHGMLptgy92"
      },
      "source": [
        "Importez le module `SimpleITK` pour pouvoir l'utiliser dans votre programme."
      ]
    },
    {
      "cell_type": "code",
      "execution_count": null,
      "metadata": {
        "id": "YJMfi5nDgy93"
      },
      "outputs": [],
      "source": [
        "import SimpleITK as sitk"
      ]
    },
    {
      "cell_type": "markdown",
      "metadata": {
        "id": "2Xo6pLpFgy94"
      },
      "source": [
        "Pour ouvrir une image d'un fichier présent sur le disque, il existe une fonction ```ReadImage```."
      ]
    },
    {
      "cell_type": "code",
      "execution_count": null,
      "metadata": {
        "id": "TrqJedt-gy95"
      },
      "outputs": [],
      "source": [
        "# Lecture d'une image CT au format mhd\n",
        "image_ct = sitk.ReadImage('./data/CT-Thorax.mhd') # Renvoie une image ou plus généralement un objet de type SimpleITK\n",
        "type(image_ct)"
      ]
    },
    {
      "cell_type": "markdown",
      "metadata": {
        "id": "RYQQMXnAgy96"
      },
      "source": [
        "Il est ensuite très simple d'accèder aux principales informations de l'image."
      ]
    },
    {
      "cell_type": "markdown",
      "metadata": {
        "id": "ii7_w1llgy96"
      },
      "source": [
        "#### 1.1.1 Origine, taille et résolution"
      ]
    },
    {
      "cell_type": "code",
      "execution_count": null,
      "metadata": {
        "id": "5nYUPNG4gy96"
      },
      "outputs": [],
      "source": [
        "print(\"Origine de l'image CT (en mm) :\", image_ct.GetOrigin(),'\\n')\n",
        "\n",
        "print(\"Résolution de l'image CT (taille du voxel en mm) :\",image_ct.GetSpacing(),'\\n')\n",
        "\n",
        "print(\"Taille de l'image CT (en nombre de pixels) :\",image_ct.GetSize())\n",
        "print(\"Nombre de lignes dans l'image CT :\",image_ct.GetSize()[0])\n",
        "print(\"Nombre de colonnes dans l'image CT :\",image_ct.GetSize()[1])\n",
        "print(\"Nombre de coupes/plans dans l'image CT :\",image_ct.GetSize()[2],'\\n')\n",
        "\n",
        "print(\"Direction de l'image CT :\",image_ct.GetDirection())"
      ]
    },
    {
      "cell_type": "markdown",
      "metadata": {
        "id": "zJpu8iTxgy97"
      },
      "source": [
        "#### 1.1.2 Dimensions"
      ]
    },
    {
      "cell_type": "code",
      "execution_count": null,
      "metadata": {
        "id": "gHKRZPV0gy97"
      },
      "outputs": [],
      "source": [
        "print(\"Dimension de l'image CT :\",image_ct.GetDimension(),'\\n')\n",
        "\n",
        "print(\"Largeur de l'image CT (en nombre de pixels) :\",image_ct.GetWidth())\n",
        "print(\"Hauteur de l'image CT (en nombre de pixels) :\",image_ct.GetHeight())\n",
        "print(\"Profondeur de l'image CT (en nombre de pixels) :\",image_ct.GetDepth())"
      ]
    },
    {
      "cell_type": "markdown",
      "metadata": {
        "id": "mkqXhhsYgy98"
      },
      "source": [
        "#### 1.1.3 Type des pixels"
      ]
    },
    {
      "cell_type": "code",
      "execution_count": null,
      "metadata": {
        "id": "ORQsD01Fgy98"
      },
      "outputs": [],
      "source": [
        "print(\"Nombre d'octets (1 octet = 8 bits) sur lequel sont encodés les pixels de l'image CT :\",image_ct.GetPixelIDValue())\n",
        "print(\"Type des pixels de l'image CT :\",image_ct.GetPixelIDTypeAsString())\n",
        "print(\"Nombre de composantes par pixel de l'image CT :\",image_ct.GetNumberOfComponentsPerPixel())"
      ]
    },
    {
      "cell_type": "markdown",
      "metadata": {
        "id": "iNXDJ7Qjgy99"
      },
      "source": [
        "### 1.2 Convertir une image SimpleITK en un array NumPy\n",
        "\n",
        "**<span style='color:red'>Attention, l'ordre d'accès aux indices d'une image SimpleITK et de la même image après conversion NumPy est inversé !</span>**\n",
        "\n",
        "* SimpleITK : <code>image[x,y,z]</code> **colonnes - lignes - plans**\n",
        "* NumPy : <code>image_numpy_array[z,y,x]</code> **plans - lignes - colonnes**\n",
        "\n",
        "Pour une image 2D après conversion en un array NumPy 2D :\n",
        "* Le premier indice, **i**, sélectionne la ligne\n",
        "* Le deuxième indice, **j**, sélectionne la colonne\n",
        "\n",
        "<center>\n",
        "<img width =200 src=\"https://github.com/marsvn/PythonM2-jour2/blob/main/data/2d-array.png?raw=1\">\n",
        "</center>\n",
        "\n",
        "Pour une image 3D après conversion en un array NumPy 3D :\n",
        "* Le premier indice, **i**, sélectionne le plan ou la coupe\n",
        "* Le second indice, **j**, sélectionne la ligne\n",
        "* Le troisième indice, **k**, sélectionne la colonne\n",
        "\n",
        "\n",
        "<figure>\n",
        "<center>\n",
        "<img height =120 src=\"https://github.com/marsvn/PythonM2-jour2/blob/main/data/3d-array-stack.png?raw=1\">\n",
        "<img height =120 src=\"https://github.com/marsvn/PythonM2-jour2/blob/main/data/3d-array.png?raw=1\">\n",
        "</figure>"
      ]
    },
    {
      "cell_type": "markdown",
      "metadata": {
        "id": "uYzf4CRtgy99"
      },
      "source": [
        "#### 1.2.1 De SimpleITK à NumPy\n",
        "\n",
        "Pour avoir accès aux fonctions de la bibliothèques NumPy et pouvoir les appliquer aux valeurs contenues dans l'image de travail, il faut récupérer le tableau multidimensionnel (2D ou 3D) associé à cette image. Pour cela, on fait appel aux fonctions `sitk.GetArrayFromImage()` ou `GetArrayViewFromImage()`.\n",
        "\n",
        "- `GetArrayFromImage()`: returns a copy of the image data. You can then freely modify the data as it has no effect on the original SimpleITK image.\n",
        "- `GetArrayViewFromImage()`: returns a view on the image data which is useful for display in a memory efficient manner. You cannot modify the data and __the view will be invalid if the original SimpleITK image is deleted__.\n",
        "    \n",
        "Après conversion de l'image en un array NumPy, la bibliothèque Matplotlib peut être utilisée pour la visualisation.\n",
        "\n",
        "Ainsi intégrée au sein d'un environnement Python scientifique, notre image peut être soumise à toutes sortes d'opérations de traitement d'images ultérieures."
      ]
    },
    {
      "cell_type": "code",
      "execution_count": null,
      "metadata": {
        "id": "MMgpl_HJgy99"
      },
      "outputs": [],
      "source": [
        "# Conversion d'une image SimpleITK en un array NumPy\n",
        "arr_image_ct = sitk.GetArrayFromImage(image_ct)\n",
        "print(\"Taille de l'image CT (SimpleITK) = \",image_ct.GetSize())\n",
        "print(\"Taille du tableau (NumPy) correspondant = \",arr_image_ct.shape,\" <--- attention à l'ordre des dimensions en x, y et z !\\n\")"
      ]
    },
    {
      "cell_type": "code",
      "execution_count": null,
      "metadata": {
        "id": "jgOKisLZgy99"
      },
      "outputs": [],
      "source": [
        "import matplotlib.pyplot as plt\n",
        "plt.imshow(arr_image_ct, cmap='gray')"
      ]
    },
    {
      "cell_type": "markdown",
      "metadata": {
        "id": "vePu4AhMgy99"
      },
      "source": [
        "---\n",
        "**Question 1.** Quel est le problème et comment le résoudre ?\n",
        "\n",
        "---"
      ]
    },
    {
      "cell_type": "markdown",
      "metadata": {
        "id": "Zqa7O0mzgy99"
      },
      "source": [
        "En sélectionnant un plan de coupe particulier puisque que la fonction `imshow` ne sait qu'afficher une image 2D..."
      ]
    },
    {
      "cell_type": "code",
      "execution_count": null,
      "metadata": {
        "id": "wXLOyziAgy9-"
      },
      "outputs": [],
      "source": [
        "plt.imshow(arr_image_ct[415,:,:], cmap='gray')"
      ]
    },
    {
      "cell_type": "markdown",
      "metadata": {
        "id": "Ch4rZ2tHgy9_"
      },
      "source": [
        "On peut ruser en créant une fonction qui permet l'affichage d'une image 3D selon ses 3 plans de coupe"
      ]
    },
    {
      "cell_type": "code",
      "execution_count": null,
      "metadata": {
        "id": "g3QsQVDrgy9_"
      },
      "outputs": [],
      "source": [
        "# Home-made function to show a 3D image in three views\n",
        "def show_image(arr,sx,sy,sz,color):\n",
        "    fig, ax = plt.subplots(1,3, figsize=(10, 10))\n",
        "    ax[0].imshow(arr[sz,:,:], cmap=str(color)) #\n",
        "    ax[0].set_title(\"Vue axiale (transverse)\")\n",
        "    ax[1].imshow(arr[:,sy,:], cmap=str(color), origin='lower')\n",
        "    ax[1].set_title(\"Vue coronale (frontale)\")\n",
        "    ax[2].imshow(arr[:,:,sx], cmap=str(color), origin='lower')\n",
        "    ax[2].set_title(\"Vue sagittale\")"
      ]
    },
    {
      "cell_type": "code",
      "execution_count": null,
      "metadata": {
        "id": "-vO8Slw8gy9_"
      },
      "outputs": [],
      "source": [
        "# View CT\n",
        "from ipywidgets import interact, interactive, fixed\n",
        "interact(show_image, arr=fixed(arr_image_ct), sx=(0,image_ct.GetSize()[0]-1), sy=(0,image_ct.GetSize()[1]-1), sz=(0,image_ct.GetSize()[2]-1),color='gray');"
      ]
    },
    {
      "cell_type": "markdown",
      "metadata": {
        "id": "ronzaGdhgy9_"
      },
      "source": [
        "#### 1.2.2 De Numpy à SimpleITK\n",
        "\n",
        "On utilise la fonction suivante :\n",
        "\n",
        "- `GetImageFromArray()`: Get a SimpleITK Image from a numpy array. If isVector is True, then the Image will have a Vector pixel type, and the last dimension of the array will be considered the component index. By default when isVector is None, 4D images are automatically considered 3D vector images.\n",
        "\n",
        "N'oubliez pas de définir l'origine de l'image (`SetOrigin([x,y])`), sa résolution (`SetSpacing([sx,sy,sz])`) et potentiellement sa matrice des directions (`SetDirection()`). Les valeurs par défaut peuvent ne pas correspondre aux dimensions physiques de votre image.\n",
        "\n",
        "Le plus simple, c'est d'appliquer la méthode `CopyInformation()` à l'image que l'on souhaite enregistrer avec pour paramètre le nom de l'image de référence dont on récupère les informations.\n",
        "\n",
        "Exemple : <code>new_img.CopyInformation(original_img)</code>   \n"
      ]
    },
    {
      "cell_type": "code",
      "execution_count": null,
      "metadata": {
        "id": "aKDaQlmKgy-A"
      },
      "outputs": [],
      "source": [
        "import numpy as np\n",
        "\n",
        "arr = np.zeros((10,20,3))\n",
        "print('Dimensions du tableau NumPy = ',arr.shape)\n",
        "\n",
        "# If this is supposed to be a 3D gray scale image [x=3, y=20, z=10]\n",
        "img = sitk.GetImageFromArray(arr)\n",
        "print(\"Taille de l'image 3D en niveaux de gris après conversion SimpleITK =\",img.GetSize())\n",
        "print(\"Nombre de composantes par pixel de cette image après conversion SimpleITK =\",img.GetNumberOfComponentsPerPixel())\n",
        "\n",
        "# If this is supposed to be a 2D color image [x=20,y=10]\n",
        "img = sitk.GetImageFromArray(arr, isVector=True)\n",
        "print(\"Taille de l'image 2D en couleurs après conversion SimpleITK =\",img.GetSize())\n",
        "print(\"Nombre de composantes par pixel de cette image après conversion SimpleITK =\",img.GetNumberOfComponentsPerPixel())"
      ]
    },
    {
      "cell_type": "markdown",
      "metadata": {
        "id": "Uakwhii9gy-A"
      },
      "source": [
        "### 1.3 Opérations basiques sur les images\n",
        "\n",
        "On peut profiter des fonctionnalités NumPy sur les tableaux pour réaliser des opérations telles que :\n",
        "1. la symétrie\n",
        "2. le sous-échantillonnage\n",
        "3. le recadrage"
      ]
    },
    {
      "cell_type": "code",
      "execution_count": null,
      "metadata": {
        "id": "nlLsjWXggy-A"
      },
      "outputs": [],
      "source": [
        "arr_200 = arr_image_ct[200,:,:] # Ici on sélectionne le plan de coupe d'indice 200\n",
        "plt.imshow(arr_200,cmap='gray')"
      ]
    },
    {
      "cell_type": "code",
      "execution_count": null,
      "metadata": {
        "id": "U-9xYjSOgy-A"
      },
      "outputs": [],
      "source": [
        "# Suppression des axes et ajout d'une colorbar\n",
        "plt.imshow(arr_200,cmap='gray')\n",
        "plt.axis('off')\n",
        "plt.colorbar()"
      ]
    },
    {
      "cell_type": "markdown",
      "metadata": {
        "id": "YPrAMqnFgy-B"
      },
      "source": [
        "#### 1.3.1 Symétrie"
      ]
    },
    {
      "cell_type": "code",
      "execution_count": null,
      "metadata": {
        "id": "Jx5iDxYdgy-B"
      },
      "outputs": [],
      "source": [
        "# Vertical flip (reverse the y axis)\n",
        "arr_200_vflip = arr_200[::-1,::] # [start:stop:step]\n",
        "# By default, start is 0 (first element), stop is last element index and step is 1.\n",
        "# A negative step can be used to obtain a reversed list. Negative step changes a way, slice notation works.\n",
        "# It makes the slice be built from the tail of the list.\n",
        "# So, it goes from the last element to the first element.\n",
        "# This way, we reverse the array order along y\n",
        "\n",
        "# Horizontal flip (reverse the x axis)\n",
        "arr_200_hflip = arr_200[::,::-1]\n",
        "\n",
        "plt.subplots(1, 3, figsize=(12, 6))\n",
        "plt.subplot(1,3,1)\n",
        "plt.imshow(arr_200,cmap='gray')\n",
        "plt.axis('off')\n",
        "plt.title('Image originale')\n",
        "plt.subplot(1,3,2)\n",
        "plt.imshow(arr_200_vflip,cmap='gray')\n",
        "plt.axis('off')\n",
        "plt.title('Symétrie miroir verticale')\n",
        "plt.subplot(1,3,3)\n",
        "plt.imshow(arr_200_hflip,cmap='gray')\n",
        "plt.axis('off')\n",
        "plt.title('Symétrie miroir horizontale')"
      ]
    },
    {
      "cell_type": "markdown",
      "metadata": {
        "id": "ru5r7qb0gy-B"
      },
      "source": [
        "#### 1.3.2 Sous-échantillonnage"
      ]
    },
    {
      "cell_type": "code",
      "execution_count": null,
      "metadata": {
        "id": "Tyk-X8Grgy-B"
      },
      "outputs": [],
      "source": [
        "# Subsampling\n",
        "# Here, we keep only every 4-th element of the array\n",
        "arr_200_subsample = arr_200[::4,::4]\n",
        "\n",
        "plt.subplots(1, 2, figsize=(10, 10))\n",
        "plt.subplot(1,2,1)\n",
        "plt.imshow(arr_200,cmap='gray')\n",
        "plt.title('Image originale')\n",
        "#plt.axis('off');\n",
        "plt.subplot(1,2,2)\n",
        "plt.imshow(arr_200_subsample,cmap='gray')\n",
        "plt.title('Image sous-échantillonnée')\n",
        "#plt.axis('off');"
      ]
    },
    {
      "cell_type": "markdown",
      "metadata": {
        "id": "w3mo8BAygy-B"
      },
      "source": [
        "#### 1.3.3 Recadrage"
      ]
    },
    {
      "cell_type": "code",
      "execution_count": null,
      "metadata": {
        "id": "p_Y-kh5kgy-B"
      },
      "outputs": [],
      "source": [
        "# Crop the original CT image so as to extract the heart\n",
        "heart = arr_200[100:260,180:380]\n",
        "plt.imshow(heart,cmap='gray')\n",
        "plt.title('Image du coeur')"
      ]
    },
    {
      "cell_type": "markdown",
      "metadata": {
        "id": "bxCMNZHdgy-C"
      },
      "source": [
        "## Exercice 1\n",
        "---\n",
        "\n",
        "* Charger l'image `1-PT.nii` contenue dans le sous-dossier `data`\n",
        "* Afficher les dimensions de cette image\n",
        "* Convertir l'image en un tableau (array) NumPy de la même taille\n",
        "* Afficher les dimensions de ce tableau\n",
        "* Identifier un plan de coupe sur lequel on voit nettement la tumeur qui se trouve dans le poumon\n",
        "* Rogner l'image afin d'effecteur un zoom sur cette tumeur et afficher le résultat\n"
      ]
    },
    {
      "cell_type": "code",
      "execution_count": null,
      "metadata": {
        "id": "jwAvtKA2gy-C"
      },
      "outputs": [],
      "source": [
        "image_pet = sitk.ReadImage(...)\n",
        "print(\"Taille de l'image CT (SimpleITK) = \",...)"
      ]
    },
    {
      "cell_type": "code",
      "execution_count": null,
      "metadata": {
        "id": "ohPUwOrogy-C"
      },
      "outputs": [],
      "source": [
        "arr_image_pet = sitk.GetArrayFromImage(...)\n",
        "print(\"Taille du tableau (NumPy) correspondant = \",...)"
      ]
    },
    {
      "cell_type": "code",
      "execution_count": null,
      "metadata": {
        "id": "XOqbOjpmgy-C"
      },
      "outputs": [],
      "source": [
        "plan = ...\n",
        "tumeur = arr_image_pet[plan,...:...,...:...]\n",
        "plt.imshow(tumeur,cmap='...')"
      ]
    },
    {
      "cell_type": "markdown",
      "metadata": {
        "id": "F3TGIcnCKd8M"
      },
      "source": [
        "## 2. Structure d'un fichier DICOM\n",
        "\n",
        "L'extension .dcm désigne un fichier DICOM.\n",
        "\n",
        "Dans un fichier DICOM, les données sont organisées de façon séquentielle en commencant par une **entête** (1%), suivie des **données brutes** de l'image (99%).\n",
        "\n",
        "<center>\n",
        "<img width=500 src=\"https://github.com/marsvn/PythonM2-jour2/blob/main/data/dicom2.png?raw=1\">\n",
        "</center>\n",
        "\n",
        "L'entête DICOM ou *DICOM Tag Header* contient un ensemble d'informations spécifiques appelées **meta-données**, renseignées par des attributs aussi appelés étiquettes ou *tags* en anglais.\n",
        "\n",
        "* Attributs constructeur\n",
        "* Attributs patient (état civil, âge, poids etc.)\n",
        "* Attributs examen (région explorée, technique d'imagerie utilisée, date d'acquisition, praticien etc.)\n",
        "\n",
        "Lire l'entête DICOM peut s'avérer utile pour :\n",
        "* Contrôler l'origine d'une image\n",
        "* Vérifier des paramètres d'acquisition (traceur, kV, champ magnétique)\n",
        "* Extraire des données pour la recherche (traitement d'images)\n",
        "\n",
        "Les données brutes de l'image peuvent être :\n",
        "* Non comprimées (RAW)\n",
        "* ...ou comprimées (24 types différents)\n",
        "    * RLE\n",
        "    * JPEG Lossless (1:2 sans perte)\n",
        "    * JPEG lossy (1:20 avec perte)\n",
        "    * JPEG2000...\n",
        "\n",
        "A l'issue d'un examen médical, un dossier parfois nommé *DICOMDIR* contient la liste des fichiers générés (images, compressées ou non, parfois des vidéos voire des compte-rendus). Il est possible de visualiser la totalité d'un examen dans l'ordre chronologique et par série (par exemple, coupes avant injection, coupes après injection, reconstruction selon un autre plan de coupe etc.).\n",
        "\n",
        "<center>\n",
        "<img width=600 src=\"https://github.com/marsvn/PythonM2-jour2/blob/main/data/dicomstructure.jpg?raw=1\">\n",
        "</center>\n",
        "    \n",
        "Les particularités des fichiers DICOM ainsi que les besoins spécifiques des médecins qui les utilisent justifient l'existence de logiciels dédiés pour les manipuler mais aussi pour les classer et pour les partager en réseau (PACS - Picture Archiving and Communication Systems).\n",
        "\n",
        "Les consoles d'acquisition et de nombreux logiciels libres de visualisation et de traitement d'images permettent aujourd'hui la lecture des entêtes et des images DICOM. Le site de la NEMA en propose une large sélection, régulièrement mise à jour (http://idoimaging.com/programs)."
      ]
    },
    {
      "cell_type": "markdown",
      "metadata": {
        "id": "EhkxpKTbgy-D"
      },
      "source": [
        "## Préambule\n",
        "\n",
        "Il peut être parfois utile de commencer par créer une cellule permettant de définir l'environnement de travail nécessaire à l'exécution du notebook : import des bibliothèques et des fonctions utiles, définition des répertoires (répertoire courant, données d'entrée et de sortie) etc."
      ]
    },
    {
      "cell_type": "code",
      "execution_count": null,
      "metadata": {
        "id": "eiMLMG55wbWa"
      },
      "outputs": [],
      "source": [
        "# Import des librairies de base\n",
        "import numpy as np\n",
        "import matplotlib.pyplot as plt\n",
        "import os\n",
        "\n",
        "# Import de la librairie SimpleITK\n",
        "import SimpleITK as sitk\n",
        "\n",
        "# Import some interactive IPython widgets\n",
        "# The interact function (ipywidgets.interact) automatically creates user interface (UI) controls for exploring code and data interactively.\n",
        "from ipywidgets import interact, interactive, fixed\n",
        "\n",
        "# Definition du répertoire de travail courant\n",
        "PWD_DIR = os.getcwd()\n",
        "\n",
        "# Definition du répertoire dans lequel on stockera les données de sortie\n",
        "OUTPUT_DIR = '/content/PythonM2-jour2/output'\n",
        "# S'il n'existe pas, on le crée\n",
        "if not os.path.exists(OUTPUT_DIR):\n",
        "    os.makedirs(OUTPUT_DIR)"
      ]
    },
    {
      "cell_type": "markdown",
      "metadata": {
        "id": "3OUX_zlzwbWZ"
      },
      "source": [
        "## Première méthode pour charger des séries d'images DICOM\n",
        "\n",
        "Dans les cellules suivantes, nous allons procéder à la **lecture** de séries d'images DICOM obtenues après une acquisition TEP/TDM, à leur **affichage** et à leur **sauvegarde** sous la forme de fichiers image 3D au format mhd/mha ou nii. Dans notre exemple, les deux séries d'images sont stockées dans un seul et même répertoire (mais ce n'est pas toujours le cas)."
      ]
    },
    {
      "cell_type": "markdown",
      "metadata": {
        "id": "LGyT3uf1gy-D"
      },
      "source": [
        "### 1. Lecture des séries d'images DICOM TEP et TDM"
      ]
    },
    {
      "cell_type": "markdown",
      "metadata": {
        "id": "WcePQLWGgy-D"
      },
      "source": [
        "#### 1.1 Identification des numéros de séries corresondant aux données TEP et TDM"
      ]
    },
    {
      "cell_type": "code",
      "execution_count": null,
      "metadata": {
        "id": "HQUZlQXxwbWe"
      },
      "outputs": [],
      "source": [
        "# Define DICOM data directory\n",
        "data_dcm_directory = './data/patient2/'\n",
        "print(\"Path to DICOM data directory:\",data_dcm_directory)\n",
        "\n",
        "# Provide a file name that belongs to the DICOM CT series you want to read\n",
        "#!ls './data/patient2/'\n",
        "file_name_ct= os.path.join(data_dcm_directory,'Patient2.CT._.4.1.2019.11.21.11.52.34.596.71223801.dcm')\n",
        "\n",
        "# Read the file's meta-information without reading bulk pixel data\n",
        "file_reader_ct=sitk.ImageFileReader()\n",
        "file_reader_ct.SetFileName(file_name_ct)\n",
        "file_reader_ct.ReadImageInformation()\n",
        "\n",
        "# Get the sorted file names, open all files in the directory and read the meta-information without reading the bulk pixel data\n",
        "series_ID_ct=file_reader_ct.GetMetaData('0020|000e')\n",
        "sorted_file_names_ct=sitk.ImageSeriesReader.GetGDCMSeriesFileNames(data_dcm_directory,series_ID_ct)\n",
        "print(\"Series ID corresponding to CT data:\",series_ID_ct)\n",
        "\n",
        "# Provide a file name that belongs to the DICOM PET series you want to read\n",
        "file_name_pet=os.path.join(data_dcm_directory,'Patient2.PT._.3.144.2019.11.21.11.52.34.596.71220765.dcm')\n",
        "# Read the file's meta-information without reading bulk pixel data\n",
        "file_reader_pet=sitk.ImageFileReader()\n",
        "file_reader_pet.SetFileName(file_name_pet)\n",
        "file_reader_pet.ReadImageInformation()\n",
        "\n",
        "# Get the sorted file names, open all files in the directory and read the meta-information without reading the bulk pixel data\n",
        "series_ID_pet=file_reader_pet.GetMetaData('0020|000e')\n",
        "sorted_file_names_pet=sitk.ImageSeriesReader.GetGDCMSeriesFileNames(data_dcm_directory,series_ID_pet)\n",
        "print(\"Series ID corresponding to PET data:\",series_ID_pet)"
      ]
    },
    {
      "cell_type": "markdown",
      "metadata": {
        "id": "TflQMynDgy-E"
      },
      "source": [
        "#### 1.2 Lecture des images et de leurs attributs"
      ]
    },
    {
      "cell_type": "code",
      "execution_count": null,
      "metadata": {
        "id": "KhynQw6PwbWi"
      },
      "outputs": [],
      "source": [
        "# Read DICOM CT and PET images and convert them to NumPy arrays\n",
        "# Access to their attributes (size, origin and spacing)\n",
        "img_ct=sitk.ReadImage(sorted_file_names_ct)\n",
        "print('Image CT size: ', img_ct.GetSize())\n",
        "print('Image CT origin: ', img_ct.GetOrigin())\n",
        "print('Image CT spacing: ', img_ct.GetSpacing(),'\\n')\n",
        "\n",
        "img_pet=sitk.ReadImage(sorted_file_names_pet)\n",
        "print('Image PET size: ', img_pet.GetSize())\n",
        "print('Image PET origin: ', img_pet.GetOrigin())\n",
        "print('Image PET spacing: ', img_pet.GetSpacing())"
      ]
    },
    {
      "cell_type": "markdown",
      "metadata": {
        "id": "oi9rhs2cwbWo"
      },
      "source": [
        "### 2. Affichage des images DICOM"
      ]
    },
    {
      "cell_type": "markdown",
      "metadata": {
        "id": "63dijj1QaGAA"
      },
      "source": [
        "#### 2.1 Utilisation de Matplotlib et de la fonction interact\n",
        "\n",
        "Comme dans le notebook précédent, on va d'abord convertir les images qui sont toujours des objets SimpleITK en arrays NumPy."
      ]
    },
    {
      "cell_type": "code",
      "execution_count": null,
      "metadata": {
        "id": "0wShWMg-gy-F"
      },
      "outputs": [],
      "source": [
        "nimg_ct = sitk.GetArrayFromImage(img_ct)\n",
        "print(nimg_ct.shape)\n",
        "nimg_pet = sitk.GetArrayFromImage(img_pet)\n",
        "print(nimg_pet.shape)"
      ]
    },
    {
      "cell_type": "markdown",
      "metadata": {
        "id": "tuPC1jjEgy-F"
      },
      "source": [
        "Ci-dessous, on crée une fonction permettant l'affichage d'une image 3D selon ses 3 plans de coupe"
      ]
    },
    {
      "cell_type": "code",
      "execution_count": null,
      "metadata": {
        "id": "YgbxmozHwbWp"
      },
      "outputs": [],
      "source": [
        "# Home-made function to show a 3D image in three views\n",
        "def show_image(arr,sx,sy,sz,color):\n",
        "    fig, ax = plt.subplots(1,3, figsize=(10, 10))\n",
        "    ax[0].imshow(arr[sz,:,:], cmap=str(color)) #\n",
        "    ax[0].set_title(\"Vue axiale (transverse)\")\n",
        "    ax[1].imshow(arr[:,sy,:], cmap=str(color), origin='lower')\n",
        "    ax[1].set_title(\"Vue coronale (frontale)\")\n",
        "    ax[2].imshow(arr[:,:,sx], cmap=str(color), origin='lower')\n",
        "    ax[2].set_title(\"Vue sagittale\")"
      ]
    },
    {
      "cell_type": "code",
      "execution_count": null,
      "metadata": {
        "id": "CI1JY4TTwbWs"
      },
      "outputs": [],
      "source": [
        "# View CT\n",
        "interact(show_image, arr=fixed(nimg_ct), sx=(0,img_ct.GetSize()[0]-1), sy=(0,img_ct.GetSize()[1]-1), sz=(0,img_ct.GetSize()[2]-1),color='gray');"
      ]
    },
    {
      "cell_type": "code",
      "execution_count": null,
      "metadata": {
        "id": "5_dZoTJFwbWv"
      },
      "outputs": [],
      "source": [
        "# View PET\n",
        "interact(show_image, arr=fixed(nimg_pet), sx=(0,img_pet.GetSize()[0]-1), sy=(0,img_pet.GetSize()[1]-1), sz=(0,img_pet.GetSize()[2]-1),color='jet');"
      ]
    },
    {
      "cell_type": "markdown",
      "metadata": {
        "id": "7NPgMQ2Ygy-G"
      },
      "source": [
        "Comme vous pouvez le constater, l'utilisation de la fonction `imshow` de Matplotlib (très efficace par ailleurs) devient problématique dès lors qu'on travaille avec des images qui ont une haute dynamique ou qui ont un voxel size non isotrope, ce qui est le cas de la plupart des images médicales 3D. L'image apparait ainsi déformée à l'affichage."
      ]
    },
    {
      "cell_type": "markdown",
      "metadata": {
        "id": "AkDMjb0Fgy-G"
      },
      "source": [
        "Dans les cellules suivantes, on affiche les deux modalités d'imagerie superposées l'une sur l'autre."
      ]
    },
    {
      "cell_type": "code",
      "execution_count": null,
      "metadata": {
        "id": "mp1fpYWHwbWy"
      },
      "outputs": [],
      "source": [
        "# Home-made function to overlay two 3D images from different modality imaging (here, CT and PET)\n",
        "def show_fusion(arr, nslice, opacity=0.7 ):\n",
        "    plt.imshow(nimg_pet[nslice,:,:], cmap=plt.cm.jet)\n",
        "    plt.colorbar()\n",
        "    a = arr[nslice,:,:]\n",
        "    plt.imshow(a, alpha=opacity, cmap=plt.cm.gray)\n",
        "    plt.colorbar()\n",
        "    #plt.savefig('fusion.png',dpi=300,transparent=True,bbox_inches=\"tight\")"
      ]
    },
    {
      "cell_type": "code",
      "execution_count": null,
      "metadata": {
        "id": "ldBQI_LHwbW1"
      },
      "outputs": [],
      "source": [
        "# View overlaid CT and PET images\n",
        "interact(show_fusion, arr=fixed(nimg_ct), nslice=(0,len(nimg_pet)-1), opacity=(0,1,0.1));"
      ]
    },
    {
      "cell_type": "markdown",
      "metadata": {
        "id": "BhoRfJwwgy-G"
      },
      "source": [
        "----\n",
        "**Question 2.** Quel est le problème et comment le résoudre ?\n",
        "\n",
        "----"
      ]
    },
    {
      "cell_type": "code",
      "execution_count": null,
      "metadata": {
        "id": "kIZcFtBjwbW4"
      },
      "outputs": [],
      "source": [
        "# Assuming these two images are already registered, we can resample the CT volume according to the origin, spacing and dimensions of the PET volume.\n",
        "# Hence, we preserve their individual locations as each has a different origin, spacing and orientation in the same space.\n",
        "print(\"Transformation appliquée :\",sitk.Transform())\n",
        "img_resampled_ct = sitk.Resample(img_ct, img_pet, sitk.Transform(), sitk.sitkLinear, 0)\n",
        "print(\"On peut vérifer les dimensions de l'image CT après rééchantillonnage\\n\")\n",
        "print(\"Taille de l'image CT après rééchantillonnage : \", img_resampled_ct.GetSize())\n",
        "print(\"Taille des pixels de l'image CT après rééchantillonnage :\" , img_resampled_ct.GetSpacing())\n",
        "nimg_resampled_ct = sitk.GetArrayFromImage(img_resampled_ct)\n",
        "output_file_name_3D_resampled_ct = os.path.join(OUTPUT_DIR, '3DImageResampledCT.nii')\n",
        "sitk.WriteImage(img_resampled_ct, output_file_name_3D_resampled_ct)"
      ]
    },
    {
      "cell_type": "code",
      "execution_count": null,
      "metadata": {
        "id": "hBkbA0JzwbW6"
      },
      "outputs": [],
      "source": [
        "# View overlaid resampled CT and PET images\n",
        "interact(show_fusion, arr=fixed(nimg_resampled_ct), nslice=(0,len(nimg_pet)-1), opacity=(0,1,0.1));"
      ]
    },
    {
      "cell_type": "markdown",
      "metadata": {
        "id": "YSY4mSuLgy-H"
      },
      "source": [
        "### 2.2 Sauvegarder les series d'images DICOM en images directement 3D"
      ]
    },
    {
      "cell_type": "code",
      "execution_count": null,
      "metadata": {
        "id": "HvQJIzVXwbWm"
      },
      "outputs": [],
      "source": [
        "# Read the bulk pixel data and write them as a single 3D nii or mha file\n",
        "output_file_name_3D_ct = os.path.join(OUTPUT_DIR, '3DImageCT.nii') #'3DImageCT.mha'\n",
        "sitk.WriteImage(img_ct, output_file_name_3D_ct)\n",
        "output_file_name_3D_pet = os.path.join(OUTPUT_DIR, '3DImagePET.nii') #'3DImagePET.mha'\n",
        "sitk.WriteImage(img_pet, output_file_name_3D_pet)"
      ]
    },
    {
      "cell_type": "markdown",
      "metadata": {
        "id": "whIjvqIRwbW9"
      },
      "source": [
        "### 2.3 Utilisation d'autres logiciels\n",
        "Quand on travaille avec des images médicales, il est recommandé de les visualiser à l'aide de logiciels dédiés comme par exemple [3D Slicer](https://www.slicer.org/), [ITK-SNAP](http://www.itksnap.org/pmwiki/pmwiki.php) ou [ImageJ](http://imagej.nih.gov/ij/), tous téléchargeables gratuitement.\n",
        "Téléchargez un de ces logiciels et ouvrez ```output_file_name_3D_pet``` ainsi que ```output_file_name_3D_ct```.\n",
        "\n"
      ]
    },
    {
      "cell_type": "markdown",
      "metadata": {
        "id": "PaecJ5cIwbXF"
      },
      "source": [
        "## Deuxième méthode pour charger des séries d'images DICOM\n",
        "\n",
        "Dans les cellules suivantes, vous allez découvrir comment avec **une seule boucle**, on peut **lire**, **afficher** et **sauvegarder** des séries d'images DICOM (à réutiliser sans modération)"
      ]
    },
    {
      "cell_type": "code",
      "execution_count": null,
      "metadata": {
        "id": "mL3bk7l5wbXF"
      },
      "outputs": [],
      "source": [
        "data_dcm_directory = './data/patient2/'\n",
        "print(\"Path to DICOM data directory:\",data_dcm_directory)\n",
        "\n",
        "# Directory contains multiple DICOM studies/series, store in dictionary with key being the series ID\n",
        "reader = sitk.ImageSeriesReader()\n",
        "series_file_names = {}\n",
        "series_IDs = reader.GetGDCMSeriesIDs(data_dcm_directory)"
      ]
    },
    {
      "cell_type": "code",
      "execution_count": null,
      "metadata": {
        "id": "XFfZEvsfwbXI"
      },
      "outputs": [],
      "source": [
        "# Display both modality imaging side by side\n",
        "plt.subplots(1,2,figsize=(10,5))\n",
        "# Check that we have at least one series\n",
        "if series_IDs:\n",
        "    print(\"Il y a \" + str(len(series_IDs)) + \" serie(s) dans le dossier \" + data_dcm_directory+'\\n')\n",
        "    for i, series in enumerate(series_IDs):\n",
        "        print(\"Serie numéro\", i+1)\n",
        "        print('Series ID:', series)\n",
        "        series_file_names[series] = reader.GetGDCMSeriesFileNames(data_dcm_directory, series)\n",
        "        reader.SetFileNames(series_file_names[series])\n",
        "        reader.MetaDataDictionaryArrayUpdateOn()\n",
        "        reader.LoadPrivateTagsOn()\n",
        "        img = reader.Execute()\n",
        "        modality=reader.GetMetaData(2,'0008|0060')\n",
        "        print('Modality:',modality)\n",
        "        sitk.WriteImage(img,os.path.join(OUTPUT_DIR,str(modality)+\".nii\"))\n",
        "        print(\"-> Sauvegarde de l'image \"+str(modality)+\".nii \"+\"-> OK\\n\")\n",
        "        # Display the image slice from the middle of the stack, z axis\n",
        "        z = int(img.GetDepth()/2)\n",
        "        plt.subplot(1,2,i+1)\n",
        "        if modality == 'CT':\n",
        "            plt.imshow(sitk.GetArrayViewFromImage(img)[z,:,:], cmap='gray')\n",
        "        if modality == 'PT':\n",
        "            plt.imshow(sitk.GetArrayViewFromImage(img)[z,:,:], cmap='jet')\n",
        "        plt.title('Modality: ' + modality)\n",
        "        plt.axis('off')\n",
        "        plt.colorbar(shrink=0.7)\n",
        "else:\n",
        "    print('Data directory does not contain any DICOM series.')"
      ]
    },
    {
      "cell_type": "markdown",
      "source": [
        "# 3. Lecture des en-têtes DICOM à l'aide de la librairie pydicom"
      ],
      "metadata": {
        "id": "hiETRN7IWQDb"
      }
    },
    {
      "cell_type": "markdown",
      "metadata": {
        "id": "L6ndlng8gy-K"
      },
      "source": [
        "La librairie [pydicom](https://pydicom.github.io/) offre de nombreuses fonctionnalités pour manipuler assez simplement des fichiers DICOM en Python, en particulier leurs meta-données.\n",
        "\n",
        "Dans le notebook précédent, nous avons ouvert et analysé le fichier image intitulé `PosteriorStatic001_DS.dcm`. L'extension de ce fichier nous indique qu'il s'agit d'une image DICOM et son nom qu'il s'agit certainement d'une image de scintigraphie. Nous allons vérifier cela et plus généralement nous intéresser aux meta-données de cette image en l'ouvrant cette fois-ci non plus avec `SimpleITK` mais avec avec le module `pydicom`."
      ]
    },
    {
      "cell_type": "markdown",
      "metadata": {
        "id": "7yx_ZtCtgy-L"
      },
      "source": [
        "Importez le module `pydicom` pour pouvoir l'utiliser dans votre programme."
      ]
    },
    {
      "cell_type": "code",
      "execution_count": null,
      "metadata": {
        "id": "UV3ce1T5gy-L"
      },
      "outputs": [],
      "source": [
        "!pip install pydicom\n",
        "import pydicom as dcm"
      ]
    },
    {
      "cell_type": "markdown",
      "metadata": {
        "id": "xAm8JXcGgy-L"
      },
      "source": [
        "La commande suivante execute la fonction `read_file` du module pydicom qu'on a renommé dcm."
      ]
    },
    {
      "cell_type": "code",
      "execution_count": null,
      "metadata": {
        "id": "KgX4grgagy-L"
      },
      "outputs": [],
      "source": [
        "dataset = dcm.dcmread('./data/rein/PosteriorStatic001_DS.dcm')"
      ]
    },
    {
      "cell_type": "markdown",
      "metadata": {
        "id": "qR3boZnygy-L"
      },
      "source": [
        "En tapant `dataset`, on affiche l'ensemble des meta-données du fichier DICOM."
      ]
    },
    {
      "cell_type": "code",
      "execution_count": null,
      "metadata": {
        "id": "QaLZf60hgy-L"
      },
      "outputs": [],
      "source": [
        "dataset"
      ]
    },
    {
      "cell_type": "markdown",
      "metadata": {
        "id": "JTZYoD_Hgy-L"
      },
      "source": [
        "* Les meta-données sont organisées en plusieurs **groupes d'informations**\n",
        "* Chaque groupe d'informations contient plusieurs **éléments** ou **attributs**\n",
        "\n",
        "L'ensemble de ces meta-données constitue un dictionnaire de données DICOM.\n",
        "\n",
        "<center>\n",
        "<img src=\"https://github.com/marsvn/PythonM2-jour2/blob/main/data/dicomstructure.png?raw=1\">\n",
        "</center>\n",
        "\n",
        "| Groupe d'information     |     Signification  |\n",
        "| ------------- |: -------------: |\n",
        "| 0008 |  Meta-information (File Meta Information Version, SOP Class UID, SOP Instance UID, Transfert Syntax UID, ...)<br>Identification du centre (date d'examen, type d'examen, fabricant de la machine, hôpital, identification de la machine, ...) |\n",
        "| 0010 | Informations sur le patient (nom, identification, date de naissance, sexe, ...) |\n",
        "| 0018 | Informations sur l'acquisition de l'information (épaisseur de coupe, bolus, inclinaison du statif,<br> paramètres kV, temps d'écho, position du patient, etc...). |\n",
        "| 0020 | Positionnement et informations relatives à l'acquisition (orientation du patient, série, plan de référence, <br>nombre d'images dans l'acquisition, Study Instance UID, Series Instance UID,...) |\n",
        "| 0028 | Présentation de l'image (dimensions, niveaux de gris, tables de couleurs, bits alloués, <br>bits stockés, bit le plus significatif, WindowWidth, WindowCenter...) |\n",
        "| 4000 | Texte |\n",
        "| 7FE0 | Pixels de l'image (pixel data) |"
      ]
    },
    {
      "cell_type": "markdown",
      "metadata": {
        "id": "OVOEBLvqgy-L"
      },
      "source": [
        "Choisissons un attribut particulier"
      ]
    },
    {
      "cell_type": "code",
      "execution_count": null,
      "metadata": {
        "id": "_isNWllcgy-M"
      },
      "outputs": [],
      "source": [
        "dataset[0x008,0x060]"
      ]
    },
    {
      "cell_type": "markdown",
      "metadata": {
        "id": "vq-uaf_Rgy-M"
      },
      "source": [
        "La commande précédente affiche la ligne correspondant à l'élément ou attribut ou *tag element* (0008, 0060).\n",
        "\n",
        "Le format de cette ligne est le suivant :\n",
        "\n",
        "- **(0008, 0060)** : numéro de l'attribut (*tag number*), codé en hexadecimal suivant (numéro du groupe, numéro de l'attribut)\n",
        "\n",
        "- **Modality** : nom de cet attribut, s'il est connu\n",
        "\n",
        "- **CS**: valeur de représentation de l'attribut, si elle est connue\n",
        "\n",
        "- **'NM'**: valeur de l'attribut considéré\n"
      ]
    },
    {
      "cell_type": "markdown",
      "metadata": {
        "id": "7iMjO87kgy-M"
      },
      "source": [
        "Pour accéder à un attribut spécifique, on peut utiliser son numéro (dans l'exemple ci-dessus, c'est (0x008,0x060)) ou le mot-clé DICOM correspondant (dans l'exemple ci-dessus, c'est `Modality`).\n",
        "\n",
        "Le mot-clé est généralement le même que le nom de l'élément sans espace. Quelques exceptions néanmoins comme `(0010,0010) Patient’s Name` dont le mot-clé correspondant est `PatientName`.\n",
        "\n",
        "Une liste de tous les mots-clé peut être consultée [ici](http://dicom.nema.org/medical/dicom/current/output/chtml/part06/chapter_6.html)."
      ]
    },
    {
      "cell_type": "code",
      "execution_count": null,
      "metadata": {
        "id": "ikHBYO7lgy-M"
      },
      "outputs": [],
      "source": [
        "dataset['Modality']"
      ]
    },
    {
      "cell_type": "code",
      "execution_count": null,
      "metadata": {
        "id": "kASPwD6Bgy-M"
      },
      "outputs": [],
      "source": [
        "dataset[0x008,0x060].value"
      ]
    },
    {
      "cell_type": "code",
      "execution_count": null,
      "metadata": {
        "id": "OLvHNYvxgy-M"
      },
      "outputs": [],
      "source": [
        "dataset.Modality"
      ]
    },
    {
      "cell_type": "code",
      "execution_count": null,
      "metadata": {
        "id": "gSYaHAkggy-N"
      },
      "outputs": [],
      "source": [
        "print(\"Patient's Name:\", dataset.PatientName)\n",
        "print('Patient ID:', dataset[0x10,0x20].value)"
      ]
    },
    {
      "cell_type": "markdown",
      "metadata": {
        "id": "rW4VuvJ-gy-N"
      },
      "source": [
        "La commande suivante permet de trier le dataset, en affichant uniquement l'ensemble des éléments du groupe d'informations `0010`"
      ]
    },
    {
      "cell_type": "code",
      "execution_count": null,
      "metadata": {
        "id": "ueDtf1zJgy-N"
      },
      "outputs": [],
      "source": [
        "dataset.group_dataset(0x0010)"
      ]
    },
    {
      "cell_type": "markdown",
      "metadata": {
        "id": "dcDd0hRggy-N"
      },
      "source": [
        "La commande suivante permet d'afficher la valeur du tag number associé à l'attribut `Patient ID`."
      ]
    },
    {
      "cell_type": "code",
      "execution_count": null,
      "metadata": {
        "id": "OVNjuVcXgy-O"
      },
      "outputs": [],
      "source": [
        "print(dataset.data_element(\"PatientID\").tag)"
      ]
    },
    {
      "cell_type": "markdown",
      "metadata": {
        "id": "AHAVA08Zgy-O"
      },
      "source": [
        "Vérifions"
      ]
    },
    {
      "cell_type": "code",
      "execution_count": null,
      "metadata": {
        "id": "eBCrnAz8gy-P"
      },
      "outputs": [],
      "source": [
        "print(dataset[0x0010,0x0020].value)"
      ]
    },
    {
      "cell_type": "markdown",
      "metadata": {
        "id": "zjd8BCYWKd9o"
      },
      "source": [
        "La fonction `dataset.dir()` permet de retrouver tous les mots-clés contenant une chaîne de caractère donnée."
      ]
    },
    {
      "cell_type": "code",
      "execution_count": null,
      "metadata": {
        "id": "Qkl3BI13gy-P"
      },
      "outputs": [],
      "source": [
        "dataset.dir(\"UID\")"
      ]
    },
    {
      "cell_type": "code",
      "execution_count": null,
      "metadata": {
        "id": "ubW6GCdzgy-P"
      },
      "outputs": [],
      "source": [
        "liste = dataset.dir('patien')\n",
        "print(liste)"
      ]
    },
    {
      "cell_type": "code",
      "execution_count": null,
      "metadata": {
        "id": "BNvLLYrCgy-P"
      },
      "outputs": [],
      "source": [
        "for i in liste:\n",
        "    print(i,\"=>\",dataset[i].value)"
      ]
    },
    {
      "cell_type": "markdown",
      "metadata": {
        "id": "0fTf-vdLKd9t"
      },
      "source": [
        "## Utilisation de pydicom conjointement avec Matplotlib"
      ]
    },
    {
      "cell_type": "markdown",
      "metadata": {
        "id": "tG121CcuKd9u"
      },
      "source": [
        "L'utilisation de la bibliothèque pydicom est principalement dédiée à l'exploration et la manipulation des meta-données DICOM.\n",
        "\n",
        "Il peut être utile de visualiser les données image.\n",
        "\n",
        "Pour cela, plusieurs options :\n",
        "\n",
        "* Utiliser un logiciel capable de lire le DICOM (3D Slicer, ImageJ, ITK-SNAP)\n",
        "* Utiliser pydicom avec Matplotlib\n",
        "\n",
        "L'attribut `(7FE0,0010) Pixel Data` donne accès aux données images brutes d'un fichier DICOM.\n",
        "\n",
        "L'attribut `Dataset.pixel_array` retourne directement un tableau Numpy.\n"
      ]
    },
    {
      "cell_type": "code",
      "execution_count": null,
      "metadata": {
        "id": "uFZWuxT9gy-Q"
      },
      "outputs": [],
      "source": [
        "pixel_bytes = dataset.PixelData"
      ]
    },
    {
      "cell_type": "code",
      "execution_count": null,
      "metadata": {
        "id": "jvkLacSCgy-Q"
      },
      "outputs": [],
      "source": [
        "pixel_bytes"
      ]
    },
    {
      "cell_type": "code",
      "execution_count": null,
      "metadata": {
        "id": "uyblzICZgy-Q"
      },
      "outputs": [],
      "source": [
        "arr = dataset.pixel_array"
      ]
    },
    {
      "cell_type": "code",
      "execution_count": null,
      "metadata": {
        "id": "avTOeF4lgy-Q"
      },
      "outputs": [],
      "source": [
        "arr"
      ]
    },
    {
      "cell_type": "code",
      "execution_count": null,
      "metadata": {
        "id": "ybicBY45gy-Q"
      },
      "outputs": [],
      "source": [
        "print(arr.shape, arr.size)"
      ]
    },
    {
      "cell_type": "markdown",
      "metadata": {
        "id": "NHGNTSMRKd-C"
      },
      "source": [
        "Taille de l'image : 128 x 128 (16394 pixels)"
      ]
    },
    {
      "cell_type": "markdown",
      "metadata": {
        "id": "hMF6T85aKd-E"
      },
      "source": [
        "De cette façon, Matplotlib peut accéder à l'information contenue dans cette image 2D et l'afficher."
      ]
    },
    {
      "cell_type": "code",
      "execution_count": null,
      "metadata": {
        "id": "7xs_6AO7gy-R"
      },
      "outputs": [],
      "source": [
        "import matplotlib.pyplot as plt\n",
        "plt.imshow(arr, cmap='jet')\n",
        "plt.colorbar()"
      ]
    },
    {
      "cell_type": "markdown",
      "metadata": {
        "id": "tfxhOdcLKd-e"
      },
      "source": [
        "## Modification de fichiers par lot\n",
        "\n",
        "On peut aussi utiliser pydicom pour modififier certains tags d'une série de fichiers DICOM.\n",
        "\n",
        "Une utilisation potentielle de cette fonctionnalité est l'**anonymisation** de fichiers.\n",
        "\n",
        "Les fichiers présents dans le répertoire `data/patient2` sont déjà anonymisés mais on va à nouveau modifier l'attribut `PatientName` comme on pourrait le faire pour anonymiser ces fichiers."
      ]
    },
    {
      "cell_type": "code",
      "execution_count": null,
      "metadata": {
        "id": "NCfhsWAhgy-R"
      },
      "outputs": [],
      "source": [
        "import pydicom as dcm\n",
        "from pathlib import Path\n",
        "\n",
        "# La syntaxe suivante permet de rechercher une chaîne de caractères précise dans un liste de fichiers\n",
        "dcm_files = Path('./data/patient2/').rglob('*.dcm')\n",
        "dcm_files_CT = Path('./data/patient2/').rglob('*CT*.dcm')\n",
        "dcm_files_PT = Path('./data/patient2/').rglob('*PT*.dcm')\n",
        "\n",
        "# La fonction len() affiche la longueur d'une liste (donc ici le nombre de fichiers)\n",
        "print('Nombre de fichiers total dans la série :',len(list(dcm_files)))\n",
        "print('Nombre de fichiers TDM dans la serie :',len(list(dcm_files_CT)))\n",
        "print('Nombre de fichiers TEP dans la serie :',len(list(dcm_files_PT)))"
      ]
    },
    {
      "cell_type": "code",
      "execution_count": null,
      "metadata": {
        "id": "aykftxhngy-S"
      },
      "outputs": [],
      "source": [
        "# Liste contenant tous les fichiers DICOM du dossier patient2\n",
        "dcm_files = Path('./data/patient2/').rglob('*.dcm')\n",
        "\n",
        "# Création du nouveau répertoire patient2_anonymised s'il n'existe pas (s'il existe, on ne fait rien)\n",
        "output_dir = Path('./data/patient2_anonymised/')\n",
        "output_dir.mkdir(exist_ok=True)\n",
        "\n",
        "# Boucle sur l'ensemble des fichiers DICOM du répertoire patient2\n",
        "for file_dcm in dcm_files:\n",
        "    # Lecture de l'entête DICOM de chaque fichier\n",
        "    ds = dcm.dcmread(str(file_dcm))\n",
        "    #print(ds.PatientName)\n",
        "    # Les images DICOM de sortie (après anonymisation) auront le même nom\n",
        "    out_file = file_dcm.name\n",
        "    # Modification de l'attribut PatientName : patient2 --> M2\n",
        "    ds.PatientName = \"M2\"\n",
        "    # Réécriture des nouveaux fichiers DICOM et stockage dans le dossier patient2_anonymised\n",
        "    out_file = output_dir / file_dcm.name\n",
        "    ds.save_as(out_file)"
      ]
    },
    {
      "cell_type": "code",
      "execution_count": null,
      "metadata": {
        "id": "1bnwPan3gy-S"
      },
      "outputs": [],
      "source": [
        "# On vérifie que l'attribut PatientName a bien été modifié\n",
        "newdcm_files = Path('./data/patient2_anonymised/').rglob('*.dcm')\n",
        "# Nom du patient après anonymisation\n",
        "print(\"Vérification --> nom du patient après anonymisation :\",dcm.dcmread(str(list(newdcm_files)[0])).PatientName)"
      ]
    },
    {
      "cell_type": "markdown",
      "metadata": {
        "id": "AqxSrRzsKd-I"
      },
      "source": [
        "## Exercice 1\n",
        "---\n",
        "\n",
        "1. Retrouver les dimensions de l'image `PosteriorStatic001_DS.dcm` et sa résolution\n",
        "2. Retrouver quel était le radiopharmaceutique injecté"
      ]
    },
    {
      "cell_type": "code",
      "execution_count": null,
      "metadata": {
        "id": "f3fReQykgy-S"
      },
      "outputs": [],
      "source": [
        "..."
      ]
    },
    {
      "cell_type": "code",
      "execution_count": null,
      "metadata": {
        "id": "cvwxnvkcgy-S"
      },
      "outputs": [],
      "source": [
        "print(dataset...)\n",
        "print(dataset.data_element(...).tag)"
      ]
    },
    {
      "cell_type": "code",
      "execution_count": null,
      "metadata": {
        "id": "-2-bezEAgy-S"
      },
      "outputs": [],
      "source": [
        "print(dataset[...,...][0][...,...][0][...,...].value)"
      ]
    },
    {
      "cell_type": "markdown",
      "metadata": {
        "id": "10fWEM--gy-S"
      },
      "source": [
        "## Exercice 2\n",
        "---\n",
        "\n",
        "Objectifs de l'exercice :\n",
        "\n",
        "1. Lecture d'images TEP et CT préalablement sauvegardées au format DICOM\n",
        "2. Identification de la modalité TEP\n",
        "3. Ajout d'une étape de calcul du facteur de conversion en unités SUV\n",
        "4. Sauvegarde du fichier SUV\n",
        "\n",
        "Pour cela, il est nécessaire d'accéder aux valeurs des attributs DICOM suivants :\n",
        "\n",
        "* `Series Time`: Time the series started. Series Date and Series Time are used as the reference time for all PET Image Attributes that are temporally related, including activity measurements.\n",
        "* `Radiopharmaceutical Start Time`: Time of start of administration. The actual time of radiopharmaceutical administration to the patient for imaging purposes, using the same time base as Series Time. Example: \"070907.0705\" represents a time of 7 hours, 9 minutes and 7.0705 seconds.\n",
        "* `Radionuclide Total Dose`: The radiopharmaceutical dose administered to the patient measured in Becquerels (Bq) at the Radiopharmaceutical Start Time.\n",
        "* `Radionuclide Half Life`: The radionuclide half life, in seconds, to be used in the correction of this image.\n",
        "* `Patient's Weight`: Weight of the Patient, in kilograms.\n",
        "\n",
        "Le site internet https://dicom.innolitics.com/ciods/pet-image regroupe l'ensemble des attributs DICOM relatif à la modalité d'imagerie TEP et renseigne les valeurs de tag number correspondants."
      ]
    },
    {
      "cell_type": "markdown",
      "metadata": {
        "id": "vHJROILqgy-S"
      },
      "source": [
        "## Rappels sur le SUV (Standardized Uptake Value)\n",
        "\n",
        "La valeur de fixation normalisée (SUV en anglais pour Standardized Uptake Value) est l'index semi-quantitatif le plus communément utilisé en routine clinique pour caractériser la fixation du FDG en TEP.\n",
        "\n",
        "Dans  sa  définition  la  plus  classique,  le  SUV  se  calcule comme   le   rapport   de   la   concentration moyenne du radiotraceur dans   un   tissu   d’intérêt (en Bq/mL) à un instant donné à l'activité totale injectée au patient (en Bq), rapporté à son volume (en mL). En supposant que le patient a une masse volumique de 1 g/mL, la valeur du volume en mL est la même que celle de la masse en grammes.\n",
        "\n",
        "Le SUV est calculé en pratique en rapportant l'activité injectée au poids du patient.\n",
        "\n",
        "$$ SUV_{BW}=\\frac{[^{18}F-FDG]}{\\frac{A_{inj}(t_{acq})}{W}} $$\n",
        "\n",
        "Bien sûr, il faut tenir compte dans la formule ci-dessus du délai de temps $\\Delta t$ entre l'injection et l'acquisition.\n",
        "\n",
        "$$ A_{inj_{c}}=A_{inj}(t_{acq})\\times 2^{(\\frac{-\\Delta t}{T_{1/2}})} $$\n",
        "\n",
        "Le SUV est donc une quantité sans dimension, dont l’usage fréquent est en particulier dû à la simplicité de sa méthode de calcul.\n",
        "* Si le radiotraceur se répartissait uniformément dans tout l’organisme,   le   SUV   serait   identique   en   tout   point   de l’organisme  et  égal  à 1.Tout  écart  du  SUV à 1  traduit  une répartition non uniforme du radiotraceur dans le volume dans lequel il s’est distribué.\n",
        "* Le pouvoir de normalisation du SUV facilite l’interprétation   semi-quantitative   des   images.   En   effet,   même   si   la normalisation sous-jacente au calcul du SUV est grossière, elle est   tout   de   même   largement   préférable   à l’absence   de normalisation.  \n",
        "* L’expression  des  images  en  échelle  SUV  rend comparables des images acquises chez différents patients, et des images acquises chez un patient à différents stades de la prise en charge thérapeutique.\n",
        "* La normalisation n’est certes pas parfaite mais elle réduit tout de même considérablement la variabilité inter-patients et inter-examens.  \n",
        "* Le SUV reste donc un index simpliste pour caractériser le métabolisme du glucose.\n",
        "\n",
        "NB. Cette formule suppose que les images TEP ont été préalablement calibrées (conversion des valeurs d'intensité en activité). On peut le vérifier à partir de l'attribut `Units`. Dans le cas contraire, il faudrait ajouter une conversion supplémentaire :\n",
        "\n",
        "$PET_{activity} = PET_{raw} \\times rescale\\_ slope + rescale\\_intercept$\n",
        "\n",
        "$rescale\\_ slope$ et $rescale\\_intercept$ sont deux attributs DICOM accessibles (numéro (0028,1052) et (0028,1053) respectivement)."
      ]
    },
    {
      "cell_type": "code",
      "execution_count": null,
      "metadata": {
        "id": "igWq2v2ugy-S"
      },
      "outputs": [],
      "source": [
        "import pydicom\n",
        "\n",
        "data_dir = './data/patient4'\n",
        "\n",
        "# Define current working directory\n",
        "pwd_dir = os.getcwd()\n",
        "\n",
        "# Define target directory\n",
        "target_dir = '/content/PythonM2-jour2/output'\n",
        "\n",
        "# Liste de toutes les series DICOM du répertoire source\n",
        "series_IDs = sitk.ImageSeriesReader.GetGDCMSeriesIDs(...)\n",
        "\n",
        "print(\"Il y a \" + str(len(series_IDs)) + \" série(s) présentes dans le répertoire \" + data_dir)\n",
        "print(*series_IDs,sep='\\n')\n",
        "\n",
        "for i, serie in enumerate(series_IDs): # Pour chaque série du répertoire source\n",
        "    print(str(i) + \"...\",end = '')\n",
        "    reader=sitk.ImageSeriesReader() # Définition du reader\n",
        "    # Liste de tous les fichiers concernant la série considérée\n",
        "    series_file_names = sitk.ImageSeriesReader.GetGDCMSeriesFileNames(...,...)\n",
        "    reader.SetFileNames(...)\n",
        "    # On va récupérer tous les tags DICOM de la série en lisant le 1er fichier de la série\n",
        "    ds = ...\n",
        "    print(ds[0x0008,0x0060].value,end='-')\n",
        "    print(ds.Modality,end='|')\n",
        "    print(ds.pixel_array.itemsize,end='|')\n",
        "    print(ds.ProcedureCodeSequence[0][0x0008,0x0104].value,end='')\n",
        "    if ds.pixel_array.itemsize!=1: # itemsize() function return the length of one array element in bytes (octets)\n",
        "        try:                       # 1 <=> (u)int8 et 2 <=> (u)int16\n",
        "            IMAGE=reader.Execute()\n",
        "            chaine=str(i)+\"-\"+ds.Modality+\".nii\"\n",
        "            sitk.WriteImage(IMAGE,os.path.join(target_dir,chaine))\n",
        "            print(\"->\"+chaine+\"-> OK\")\n",
        "            #break\n",
        "        except:\n",
        "            print(\"->fail\")\n",
        "        verif_flag = True\n",
        "        if ... == \"PT\":\n",
        "            # Calcul du scale factor permettant la conversion Bq/mL<=>SUV\n",
        "            RST = ... # RadiopharmaceuticalStartTime\n",
        "            RST = ... # string to numerical value in sec\n",
        "            RTD = ... # RadionuclideTotalDose [Bq]\n",
        "            RHL = ... # RadionuclideHalfLife [s]\n",
        "            ST  = ...                   # SeriesTime\n",
        "            ST  = ... # string to numerical value in sec\n",
        "            PW  = ...                  # PatientWeight [kg]\n",
        "            # RSD=(ds[0x0054,0x0016][0][0x0018,0x1078].value) #\n",
        "            CD = ...            # CorrectedDose\n",
        "            PET_SUV_ScaleFactor = ... # On multiplie par 1000 pour avoir le poids en g\n",
        "            print(\"PET_SUV_ScaleFactor = \",PET_SUV_ScaleFactor)\n",
        "            if verif_flag:\n",
        "                print(\"Series Time       : \" + (...)\n",
        "                print(\"Dose              : \" + str(...) + \" Bq ou \" + str(.../1e6) + \" MBq\")\n",
        "                print(\"Patient's Weight  : \" + str(...)+\" kg\")\n",
        "                print(\"Half-life         : \" + str(...) + \" sec ou \" + str(.../60) + \" min\")\n",
        "                print(\"Start Time        : \" + ...)\n",
        "    else:\n",
        "        print()\n",
        "print(\"Fin\")"
      ]
    },
    {
      "cell_type": "code",
      "execution_count": null,
      "metadata": {
        "id": "DPH9RQTxgy-S"
      },
      "outputs": [],
      "source": [
        "# Sauvegarde de l'image TEP après conversion en unités SUV\n",
        "..."
      ]
    },
    {
      "cell_type": "code",
      "execution_count": null,
      "metadata": {
        "id": "2jn2Um6Fgy-T"
      },
      "outputs": [],
      "source": []
    }
  ],
  "metadata": {
    "colab": {
      "provenance": []
    },
    "kernelspec": {
      "display_name": "Python 3 (ipykernel)",
      "language": "python",
      "name": "python3"
    },
    "language_info": {
      "codemirror_mode": {
        "name": "ipython",
        "version": 3
      },
      "file_extension": ".py",
      "mimetype": "text/x-python",
      "name": "python",
      "nbconvert_exporter": "python",
      "pygments_lexer": "ipython3",
      "version": "3.9.13"
    }
  },
  "nbformat": 4,
  "nbformat_minor": 0
}