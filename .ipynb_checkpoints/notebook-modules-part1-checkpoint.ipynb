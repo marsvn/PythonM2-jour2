{
 "cells": [
  {
   "cell_type": "markdown",
   "metadata": {},
   "source": [
    "# The `NumPy` module\n",
    "\n",
    "- Arrays are provided by a separate _module_ called NumPy.\n",
    "\n",
    "- NumPy is shortened from Numerical Python, it is the most universal and versatile library both for pros and beginners. \n",
    "\n",
    "- Using this tool we are up to operate with multi-dimensional arrays and matrices with ease and comfort. \n",
    "\n",
    "- Such functions like linear algebra operations and numerical conversions are also available.\n",
    "\n",
    "- We can import the module and then give it a shorter _alias_."
   ]
  },
  {
   "cell_type": "code",
   "execution_count": 1,
   "metadata": {},
   "outputs": [],
   "source": [
    "import numpy as np"
   ]
  },
  {
   "cell_type": "markdown",
   "metadata": {},
   "source": [
    "- We can now use the functions defined in this package by prefixing them with `np`.  \n",
    "\n",
    "- The function `array()` creates an array given a list."
   ]
  },
  {
   "cell_type": "markdown",
   "metadata": {},
   "source": [
    "## Creating an array\n",
    "\n",
    "- We can create an array from a list by using the `array()` function defined in the `numpy` module:"
   ]
  },
  {
   "cell_type": "code",
   "execution_count": 2,
   "metadata": {},
   "outputs": [
    {
     "data": {
      "text/plain": [
       "array([0, 1, 2, 3, 4])"
      ]
     },
     "execution_count": 2,
     "metadata": {},
     "output_type": "execute_result"
    }
   ],
   "source": [
    "x = np.array([0, 1, 2, 3, 4])\n",
    "x"
   ]
  },
  {
   "cell_type": "code",
   "execution_count": 3,
   "metadata": {},
   "outputs": [
    {
     "data": {
      "text/plain": [
       "numpy.ndarray"
      ]
     },
     "execution_count": 3,
     "metadata": {},
     "output_type": "execute_result"
    }
   ],
   "source": [
    "type(x)"
   ]
  },
  {
   "cell_type": "markdown",
   "metadata": {},
   "source": [
    "## Functions over arrays\n",
    "\n",
    "- When we use arithmetic operators on arrays, we create a new array with the result of applying the operator to each element."
   ]
  },
  {
   "cell_type": "code",
   "execution_count": 4,
   "metadata": {},
   "outputs": [
    {
     "data": {
      "text/plain": [
       "array([0, 2, 4, 6, 8])"
      ]
     },
     "execution_count": 4,
     "metadata": {},
     "output_type": "execute_result"
    }
   ],
   "source": [
    "y = x * 2\n",
    "y"
   ]
  },
  {
   "cell_type": "markdown",
   "metadata": {},
   "source": [
    "- The same goes for functions"
   ]
  },
  {
   "cell_type": "code",
   "execution_count": 5,
   "metadata": {},
   "outputs": [
    {
     "data": {
      "text/plain": [
       "array([1, 2, 3, 4])"
      ]
     },
     "execution_count": 5,
     "metadata": {},
     "output_type": "execute_result"
    }
   ],
   "source": [
    "x = np.array([-1, 2, 3, -4])\n",
    "y = abs(x)\n",
    "y"
   ]
  },
  {
   "cell_type": "markdown",
   "metadata": {},
   "source": [
    "## Descriptive statistics"
   ]
  },
  {
   "cell_type": "code",
   "execution_count": 6,
   "metadata": {},
   "outputs": [
    {
     "data": {
      "text/plain": [
       "array([2. , 3.2, 4.6, 8.6, 3.6, 3. ])"
      ]
     },
     "execution_count": 6,
     "metadata": {},
     "output_type": "execute_result"
    }
   ],
   "source": [
    "data = np.array([2.0 , 3.2 , 4.6 , 8.6 , 3.6 , 3])\n",
    "data"
   ]
  },
  {
   "cell_type": "code",
   "execution_count": 7,
   "metadata": {},
   "outputs": [
    {
     "name": "stdout",
     "output_type": "stream",
     "text": [
      "data values:  [2.  3.2 4.6 8.6 3.6 3. ]\n",
      "data min/max:  2.0 / 8.6\n",
      "data > 3:  [False  True  True  True  True False]\n",
      "data > max/2:  [False False  True  True False False]\n",
      "data > max/2:  [0.  0.  4.6 8.6 0.  0. ]\n",
      "data > max/2:  [4.6 8.6]\n"
     ]
    }
   ],
   "source": [
    "print(\"data values: \",data)\n",
    "print(\"data min/max: \",data.min(),\"/\",data.max())      # get  min and max values of data array\n",
    "print(\"data > 3: \",data > 3)                           # keep values greater than 3\n",
    "print(\"data > max/2: \",data > data.max()/2)            # keep values greater than max/2\n",
    "print(\"data > max/2: \",data * (data > data.max()/2))   # original array *  previous array = put the values outside the condition to 0\n",
    "print(\"data > max/2: \",data [data > data.max()/2])     # only keep the values corresponding to the condition"
   ]
  },
  {
   "cell_type": "markdown",
   "metadata": {},
   "source": [
    "## Populating Arrays\n",
    "\n",
    "- To populate an array with a range of values we use the `np.arange()` function:"
   ]
  },
  {
   "cell_type": "code",
   "execution_count": 8,
   "metadata": {},
   "outputs": [
    {
     "data": {
      "text/plain": [
       "array([0, 1, 2, 3, 4, 5, 6, 7, 8, 9])"
      ]
     },
     "execution_count": 8,
     "metadata": {},
     "output_type": "execute_result"
    }
   ],
   "source": [
    "x = np.arange(0, 10)\n",
    "x"
   ]
  },
  {
   "cell_type": "markdown",
   "metadata": {},
   "source": [
    "- We can also use floating point increments."
   ]
  },
  {
   "cell_type": "code",
   "execution_count": 9,
   "metadata": {},
   "outputs": [
    {
     "data": {
      "text/plain": [
       "array([0. , 0.1, 0.2, 0.3, 0.4, 0.5, 0.6, 0.7, 0.8, 0.9])"
      ]
     },
     "execution_count": 9,
     "metadata": {},
     "output_type": "execute_result"
    }
   ],
   "source": [
    "x = np.arange(0, 1, 0.1)\n",
    "x"
   ]
  },
  {
   "cell_type": "markdown",
   "metadata": {},
   "source": [
    "# The `matplotlib` module\n",
    "\n",
    "Matplotlib is a flexible library for creating graphs and visualization. "
   ]
  },
  {
   "cell_type": "markdown",
   "metadata": {},
   "source": [
    "## Basic Plotting\n",
    "\n",
    "- Plotting is not part of standard Python, but a nice package exist to create pretty graphics.\n",
    "\n",
    "- We will use a module called `matplotlib` to plot some simple graphs.\n",
    "\n",
    "- This module provides functions which are very similar to MATLAB plotting commands.\n"
   ]
  },
  {
   "cell_type": "code",
   "execution_count": 10,
   "metadata": {},
   "outputs": [
    {
     "data": {
      "text/plain": [
       "[<matplotlib.lines.Line2D at 0x7f6131966240>]"
      ]
     },
     "execution_count": 10,
     "metadata": {},
     "output_type": "execute_result"
    },
    {
     "data": {
      "image/png": "[encoded data removed]",
      "text/plain": [
       "<Figure size 432x288 with 1 Axes>"
      ]
     },
     "metadata": {
      "needs_background": "light"
     },
     "output_type": "display_data"
    }
   ],
   "source": [
    "import matplotlib.pyplot as plt # pyplot is a sub-module of matplotlib module\n",
    "\n",
    "plt.plot([1, 2, 4, 2]) # plot list [1,2, 4, 2] using x as index list 0..N-1"
   ]
  },
  {
   "cell_type": "code",
   "execution_count": 11,
   "metadata": {},
   "outputs": [
    {
     "data": {
      "text/plain": [
       "[<matplotlib.lines.Line2D at 0x7f61314addd8>]"
      ]
     },
     "execution_count": 11,
     "metadata": {},
     "output_type": "execute_result"
    },
    {
     "data": {
      "image/png": "[encoded data removed]",
      "text/plain": [
       "<Figure size 432x288 with 1 Axes>"
      ]
     },
     "metadata": {
      "needs_background": "light"
     },
     "output_type": "display_data"
    }
   ],
   "source": [
    "plt.plot([1, 2, 3], [2, 4, 3])"
   ]
  },
  {
   "cell_type": "code",
   "execution_count": 12,
   "metadata": {},
   "outputs": [
    {
     "data": {
      "text/plain": [
       "<matplotlib.collections.PathCollection at 0x7f61314301d0>"
      ]
     },
     "execution_count": 12,
     "metadata": {},
     "output_type": "execute_result"
    },
    {
     "data": {
      "image/png": "[encoded data removed]",
      "text/plain": [
       "<Figure size 432x288 with 1 Axes>"
      ]
     },
     "metadata": {
      "needs_background": "light"
     },
     "output_type": "display_data"
    }
   ],
   "source": [
    "plt.scatter([1, 2, 3, 4, 5, 6, 7, 8], [2, 4, 3, 12, 8, 5, 7, 9], marker='x', color='red')"
   ]
  },
  {
   "cell_type": "code",
   "execution_count": 13,
   "metadata": {},
   "outputs": [
    {
     "data": {
      "text/plain": [
       "[<matplotlib.lines.Line2D at 0x7f6131392f98>]"
      ]
     },
     "execution_count": 13,
     "metadata": {},
     "output_type": "execute_result"
    },
    {
     "data": {
      "image/png": "[encoded data removed]",
      "text/plain": [
       "<Figure size 432x288 with 1 Axes>"
      ]
     },
     "metadata": {
      "needs_background": "light"
     },
     "output_type": "display_data"
    }
   ],
   "source": [
    "y = x*2 + 5\n",
    "plt.plot(x, y) # plot x and y variables (both defined as arrays) using default line style and color"
   ]
  },
  {
   "cell_type": "code",
   "execution_count": 14,
   "metadata": {},
   "outputs": [
    {
     "data": {
      "text/plain": [
       "[<matplotlib.lines.Line2D at 0x7f6131375e80>]"
      ]
     },
     "execution_count": 14,
     "metadata": {},
     "output_type": "execute_result"
    },
    {
     "data": {
      "image/png": "[encoded data removed]",
      "text/plain": [
       "<Figure size 432x288 with 1 Axes>"
      ]
     },
     "metadata": {
      "needs_background": "light"
     },
     "output_type": "display_data"
    }
   ],
   "source": [
    "plt.plot(x, y,'--', linewidth=6, color='green')"
   ]
  },
  {
   "cell_type": "code",
   "execution_count": 15,
   "metadata": {},
   "outputs": [
    {
     "name": "stdout",
     "output_type": "stream",
     "text": [
      "[-4. -2.  0.  2.  4.]\n"
     ]
    }
   ],
   "source": [
    "x = np.linspace(-4, 4, 5) # x is an array of 5 floats from -4 to +4\n",
    "print(x)"
   ]
  },
  {
   "cell_type": "code",
   "execution_count": 16,
   "metadata": {},
   "outputs": [
    {
     "data": {
      "text/plain": [
       "[<matplotlib.lines.Line2D at 0x7f61312e2400>]"
      ]
     },
     "execution_count": 16,
     "metadata": {},
     "output_type": "execute_result"
    },
    {
     "data": {
      "image/png": "[encoded data removed]",
      "text/plain": [
       "<Figure size 432x288 with 1 Axes>"
      ]
     },
     "metadata": {
      "needs_background": "light"
     },
     "output_type": "display_data"
    }
   ],
   "source": [
    "a = 1\n",
    "b = 1\n",
    "c = -6\n",
    "x = np.linspace(-4, 4, 100) # Use 100 x values from -4 to +4\n",
    "y = a * x ** 2 + b * x + c  # Compute y for all x values\n",
    "plt.plot(x, y)"
   ]
  },
  {
   "cell_type": "markdown",
   "metadata": {},
   "source": [
    "## New figure and figure size\n",
    "\n",
    "- Whenever we give a plotting statement in a code cell, a figure with a default size is automatically created.\n",
    "- All subsequent plotting statements in the code cell are added to the same figure. \n",
    "- If we want a different size of the figure, we can create a figure first with the desired figure size using the \n",
    "syntax:\n",
    "```python\n",
    "plt.figure(figsize=(width, height))\n",
    "```\n",
    "- Any subsequent plotting statement in the code cell is then added to the figure. "
   ]
  },
  {
   "cell_type": "code",
   "execution_count": 17,
   "metadata": {
    "scrolled": true
   },
   "outputs": [
    {
     "data": {
      "image/png": "[encoded data removed]",
      "text/plain": [
       "<Figure size 720x216 with 1 Axes>"
      ]
     },
     "metadata": {
      "needs_background": "light"
     },
     "output_type": "display_data"
    },
    {
     "data": {
      "image/png": "[encoded data removed]",
      "text/plain": [
       "<Figure size 432x288 with 1 Axes>"
      ]
     },
     "metadata": {
      "needs_background": "light"
     },
     "output_type": "display_data"
    }
   ],
   "source": [
    "plt.figure(figsize=(10,3))\n",
    "plt.plot([1, 2, 3], [2, 4, 3], linewidth=6)\n",
    "plt.title('Very wide figure')\n",
    "plt.figure()  # new figure of default size\n",
    "plt.plot([1, 2, 3], [1, 3, 1], 'r')\n",
    "plt.title('Second figure')\n",
    "plt.savefig('figure.png') # only the second plot is saved"
   ]
  },
  {
   "cell_type": "code",
   "execution_count": 18,
   "metadata": {
    "scrolled": true
   },
   "outputs": [
    {
     "data": {
      "image/png": "[encoded data removed]",
      "text/plain": [
       "<Figure size 504x504 with 2 Axes>"
      ]
     },
     "metadata": {
      "needs_background": "light"
     },
     "output_type": "display_data"
    }
   ],
   "source": [
    "plt.subplots(2,1,figsize=(7, 7))\n",
    "plt.subplot(2,1,1)\n",
    "plt.plot([1, 2, 3], [2, 4, 3], linewidth=6)\n",
    "plt.title('First figure')\n",
    "plt.subplot(2,1,2)\n",
    "plt.plot([1, 2, 3], [1, 3, 1], 'r')\n",
    "plt.title('Second figure')\n",
    "plt.savefig('figure2.png') # both plots are saved "
   ]
  },
  {
   "cell_type": "markdown",
   "metadata": {},
   "source": [
    "## <a name=\"ex1\"></a> Exercise 1 - First graph\n",
    "\n",
    "- Plot $y=(x+2)(x-1)(x-2)$ for $x$ going from $-3$ to $+3$ using a dashed red line.\n",
    "- On the same figure, plot a blue circle for every point where $y$ equals zero (i.e $x=-2$, $x=1$ and $x=2$)\n",
    "- Set the size of the markers to 10 (you may need to read the help of [`plt.plot`](https://matplotlib.org/3.1.3/api/_as_gen/matplotlib.pyplot.plot.html) to find out how to do that). \n",
    "- Label the axes as 'x-axis' and 'y-axis'. \n",
    "- Add the title 'My first nice Python figure'."
   ]
  },
  {
   "cell_type": "code",
   "execution_count": null,
   "metadata": {},
   "outputs": [],
   "source": [
    "x = np.linspace(...)\n",
    "y = ...\n",
    "plt.plot(..., ..., 'r--')\n",
    "plt.plot([...], [...], 'bo', ...)\n",
    "..."
   ]
  },
  {
   "cell_type": "markdown",
   "metadata": {},
   "source": [
    "<a href=\"#ex1answer\">Answer to Exercise 1</a>"
   ]
  },
  {
   "cell_type": "markdown",
   "metadata": {},
   "source": [
    "## Plotting a sine curve"
   ]
  },
  {
   "cell_type": "code",
   "execution_count": 20,
   "metadata": {},
   "outputs": [
    {
     "data": {
      "text/plain": [
       "[<matplotlib.lines.Line2D at 0x7f613113a6d8>]"
      ]
     },
     "execution_count": 20,
     "metadata": {},
     "output_type": "execute_result"
    },
    {
     "data": {
      "image/png": "[encoded data removed]",
      "text/plain": [
       "<Figure size 432x288 with 1 Axes>"
      ]
     },
     "metadata": {
      "needs_background": "light"
     },
     "output_type": "display_data"
    }
   ],
   "source": [
    "from numpy import pi, sin\n",
    "\n",
    "x = np.arange(0, 2*pi, 0.01)\n",
    "y = sin(x)\n",
    "plt.plot(x, y)"
   ]
  },
  {
   "cell_type": "markdown",
   "metadata": {},
   "source": [
    "## Plotting a histogram\n",
    "\n",
    "- We can use the `hist()` function in `matplotlib` to plot a histogram"
   ]
  },
  {
   "cell_type": "code",
   "execution_count": 21,
   "metadata": {},
   "outputs": [
    {
     "data": {
      "image/png": "[encoded data removed]",
      "text/plain": [
       "<Figure size 432x288 with 1 Axes>"
      ]
     },
     "metadata": {
      "needs_background": "light"
     },
     "output_type": "display_data"
    }
   ],
   "source": [
    "# Generate some random data\n",
    "data = np.random.randn(1000)\n",
    "\n",
    "ax = plt.hist(data,color='blue',edgecolor='red')"
   ]
  },
  {
   "cell_type": "markdown",
   "metadata": {},
   "source": [
    "## Computing histograms as matrices\n",
    "\n",
    "- The function `histogram()` in the `numpy` module will count frequencies into bins and return the result as a 2-dimensional array."
   ]
  },
  {
   "cell_type": "code",
   "execution_count": 22,
   "metadata": {},
   "outputs": [
    {
     "data": {
      "text/plain": [
       "(array([  3,   4,  46, 128, 266, 260, 186,  88,  18,   1]),\n",
       " array([-3.7824437 , -3.05844701, -2.33445032, -1.61045363, -0.88645694,\n",
       "        -0.16246025,  0.56153644,  1.28553312,  2.00952981,  2.7335265 ,\n",
       "         3.45752319]))"
      ]
     },
     "execution_count": 22,
     "metadata": {},
     "output_type": "execute_result"
    }
   ],
   "source": [
    "np.histogram(data)"
   ]
  },
  {
   "cell_type": "markdown",
   "metadata": {},
   "source": [
    "## Loading data files\n",
    "\n",
    "- Numerical data can be loaded from a data file using the `loadtxt` function of `numpy`: `np.loadtxt`. \n",
    "- You need to make sure the file is in the same directory as your notebook, or provide the full path. \n",
    "- The filename (or path plus filename) needs to be between quotes. "
   ]
  },
  {
   "cell_type": "markdown",
   "metadata": {},
   "source": [
    "## <a name=\"ex2\"></a> Exercise 2 - Loading data and adding a legend\n",
    "We are provided with the data files containing the mean montly temperature of Holland, New York City, and Beijing. \n",
    "\n",
    "The Dutch data is stored in `holland_temperature.dat`, and the other filenames are similar.\n",
    "\n",
    "- Plot the temperature for each location against the number of the month (starting with 1 for January) all in a single graph. \n",
    "- Add a legend by using the function `plt.legend(['line1','line2'])`, etc., but then with more descriptive names. \n",
    "- Find out about the `legend` command using `plt.legend?`. \n",
    "- Place the legend in an appropriate spot (the upper left-hand corner may be nice, or let Python figure out the best place). "
   ]
  },
  {
   "cell_type": "code",
   "execution_count": null,
   "metadata": {},
   "outputs": [],
   "source": [
    "holland = ...\n",
    "newyork= ...\n",
    "beijing = ...\n",
    "plt.plot(np.linspace(1, 12, 12), holland)\n",
    "...\n",
    "plt.xlabel('Number of the month')\n",
    "plt.ylabel('Mean monthly temperature (Celcius)')\n",
    "plt.xticks(...)\n",
    "..."
   ]
  },
  {
   "cell_type": "markdown",
   "metadata": {},
   "source": [
    "<a href=\"#ex2answer\">Answer to Exercise 2</a>"
   ]
  },
  {
   "cell_type": "markdown",
   "metadata": {},
   "source": [
    "## <a name=\"ex3\"></a> Exercise 3 - Subplots and fancy tick markers\n",
    "\n",
    "- Load the average monthly air temperature and seawater temperature for Holland.\n",
    "- Create one plot with two graphs above each other using the subplot command (use `plt.subplot?` to find out how).\n",
    "- On the top graph, plot the air and sea temperature. Label the ticks on the horizontal axis as 'jan', 'feb', 'mar', etc., rather than 0,1,2,etc. Use `plt.xticks?` to find out how. \n",
    "- In the bottom graph, plot the difference between the air and seawater temperature. \n",
    "- Add legends, axes labels, the whole shebang."
   ]
  },
  {
   "cell_type": "code",
   "execution_count": null,
   "metadata": {},
   "outputs": [],
   "source": [
    "air = np.loadtxt('./data/holland_temperature.dat') \n",
    "sea = ...\n",
    "plt.subplot(...)\n",
    "plt.plot(...)\n",
    "plt.plot(...)\n",
    "plt.legend(loc='best')\n",
    "plt.ylabel('temp (Celcius)')\n",
    "plt.xlim(0, 11)\n",
    "plt.xticks(...)\n",
    "plt.subplot(...)\n",
    "plt.plot(..., 'ko')\n",
    "plt.xticks(...)\n",
    "plt.xlim(0, 11)\n",
    "plt.ylabel('air - sea temp (Celcius)');"
   ]
  },
  {
   "cell_type": "markdown",
   "metadata": {},
   "source": [
    "<a href=\"#ex3answer\">Answer to Exercise 3</a>"
   ]
  },
  {
   "cell_type": "markdown",
   "metadata": {},
   "source": [
    "# The `Pandas` module\n",
    "\n",
    "This tool is essentially your data’s home. Through pandas, you get acquainted with your data by cleaning, transforming, and analyzing it.\n",
    "\n",
    "For example, say you want to explore a dataset stored in a CSV on your computer. Pandas will extract the data from that CSV into a `DataFrame` — a table, basically — then let you do things like:\n",
    "\n",
    "* Calculate statistics and answer questions about the data, like\n",
    " * What's the average, median, max, or min of each column?\n",
    " * Does column A correlate with column B?\n",
    " * What does the distribution of data in column C look like?\n",
    "* Clean the data by doing things like removing missing values and filtering rows or columns by some criteria\n",
    "* Visualize the data with help from Matplotlib. Plot bars, lines, histograms, bubbles, and more.\n",
    "* Store the cleaned, transformed data back into a CSV, other file or database\n",
    "\n",
    "Before you jump into the modeling or the complex visualizations you need to have a good understanding of the nature of your dataset and pandas is the best avenue through which to do that."
   ]
  },
  {
   "cell_type": "markdown",
   "metadata": {},
   "source": [
    "## Creating DataFrames\n",
    "\n",
    "* `DataFrames` are the central concept in pandas. \n",
    "* In essence, a dataframe is table with labeled rows and columns. \n",
    "* Dataframes can be created from multiple sources - e.g. CSV file, Excel file and JSON"
   ]
  },
  {
   "cell_type": "markdown",
   "metadata": {},
   "source": [
    "## Loading CSV files\n",
    "\n",
    "Loading a CSV file as a DataFrame is pretty easy:\n",
    "    \n",
    "```python\n",
    "data_frame = pandas.read_csv('file.csv', sep=';')\n",
    "```\n",
    "Sometimes the CSV file contains padding spaces in front of the values. To ignore them use the `skipinitialspaces` parameter:\n",
    "\n",
    "```python\n",
    "pandas.read_csv('file.csv', sep=';', skipinitialspace=True)\n",
    "```"
   ]
  },
  {
   "cell_type": "markdown",
   "metadata": {},
   "source": [
    "## Hardcoded DataFrames\n",
    "\n",
    "Hardcoded DataFrames can be constructed by providing a hash of columns and their values."
   ]
  },
  {
   "cell_type": "code",
   "execution_count": 25,
   "metadata": {},
   "outputs": [],
   "source": [
    "import pandas as pd\n",
    "\n",
    "df = pd.DataFrame({\n",
    "   'col1': ['Item0', 'Item0', 'Item1', 'Item1'],\n",
    "   'col2': ['Gold', 'Bronze', 'Gold', 'Silver'],\n",
    "   'col3': [1, 2, np.nan, 4]\n",
    "})"
   ]
  },
  {
   "cell_type": "markdown",
   "metadata": {},
   "source": [
    "We will reuse this dataframe in some subsequent examples."
   ]
  },
  {
   "cell_type": "markdown",
   "metadata": {},
   "source": [
    "## Previewing Data\n",
    "\n",
    "To preview the data and the metadata of a dataframe you can use the following functions:"
   ]
  },
  {
   "cell_type": "code",
   "execution_count": 26,
   "metadata": {},
   "outputs": [
    {
     "name": "stdout",
     "output_type": "stream",
     "text": [
      "    col1    col2  col3\n",
      "0  Item0    Gold   1.0\n",
      "1  Item0  Bronze   2.0\n",
      "2  Item1    Gold   NaN\n",
      "3  Item1  Silver   4.0 \n",
      "\n",
      "    col1    col2  col3\n",
      "0  Item0    Gold   1.0\n",
      "1  Item0  Bronze   2.0\n",
      "2  Item1    Gold   NaN\n",
      "3  Item1  Silver   4.0 \n",
      "\n",
      "(4, 3) \n",
      "\n",
      "4 \n",
      "\n",
      "Index(['col1', 'col2', 'col3'], dtype='object') \n",
      "\n",
      "col1     object\n",
      "col2     object\n",
      "col3    float64\n",
      "dtype: object \n",
      "\n",
      "[['Item0' 'Gold' 1.0]\n",
      " ['Item0' 'Bronze' 2.0]\n",
      " ['Item1' 'Gold' nan]\n",
      " ['Item1' 'Silver' 4.0]] \n",
      "\n",
      "           col3\n",
      "count  3.000000\n",
      "mean   2.333333\n",
      "std    1.527525\n",
      "min    1.000000\n",
      "25%    1.500000\n",
      "50%    2.000000\n",
      "75%    3.000000\n",
      "max    4.000000 \n",
      "\n"
     ]
    }
   ],
   "source": [
    "# Displays the top 5 rows. Accepts an optional int parameter - num. of rows to show\n",
    "print(df.head(),'\\n')\n",
    "\n",
    "# Similar to head, but displays the last rows\n",
    "print(df.tail(),'\\n')\n",
    "\n",
    "# The dimensions of the dataframe as a (rows, cols) tuple\n",
    "print(df.shape,'\\n')\n",
    "\n",
    "# The number of columns. Equal to df.shape[0]\n",
    "print(len(df),'\\n')\n",
    "\n",
    "# An array of the column names\n",
    "print(df.columns,'\\n')\n",
    "\n",
    "# Columns and their types\n",
    "print(df.dtypes,'\\n')\n",
    "\n",
    "# Converts the frame to a two-dimensional table\n",
    "print(df.values,'\\n')\n",
    "\n",
    "# Displays descriptive stats for all columns\n",
    "print(df.describe(),'\\n')"
   ]
  },
  {
   "cell_type": "markdown",
   "metadata": {},
   "source": [
    "## Sorting\n",
    "\n",
    "* The `sort_index` method is used to sort the frame by one of its axis indices. \n",
    "* The axis is either `0` or `1` - *row/column* axis respectively:"
   ]
  },
  {
   "cell_type": "code",
   "execution_count": 27,
   "metadata": {},
   "outputs": [
    {
     "data": {
      "text/html": [
       "<div>\n",
       "<style scoped>\n",
       "    .dataframe tbody tr th:only-of-type {\n",
       "        vertical-align: middle;\n",
       "    }\n",
       "\n",
       "    .dataframe tbody tr th {\n",
       "        vertical-align: top;\n",
       "    }\n",
       "\n",
       "    .dataframe thead th {\n",
       "        text-align: right;\n",
       "    }\n",
       "</style>\n",
       "<table border=\"1\" class=\"dataframe\">\n",
       "  <thead>\n",
       "    <tr style=\"text-align: right;\">\n",
       "      <th></th>\n",
       "      <th>col1</th>\n",
       "      <th>col2</th>\n",
       "      <th>col3</th>\n",
       "    </tr>\n",
       "  </thead>\n",
       "  <tbody>\n",
       "    <tr>\n",
       "      <th>3</th>\n",
       "      <td>Item1</td>\n",
       "      <td>Silver</td>\n",
       "      <td>4.0</td>\n",
       "    </tr>\n",
       "    <tr>\n",
       "      <th>2</th>\n",
       "      <td>Item1</td>\n",
       "      <td>Gold</td>\n",
       "      <td>NaN</td>\n",
       "    </tr>\n",
       "    <tr>\n",
       "      <th>1</th>\n",
       "      <td>Item0</td>\n",
       "      <td>Bronze</td>\n",
       "      <td>2.0</td>\n",
       "    </tr>\n",
       "    <tr>\n",
       "      <th>0</th>\n",
       "      <td>Item0</td>\n",
       "      <td>Gold</td>\n",
       "      <td>1.0</td>\n",
       "    </tr>\n",
       "  </tbody>\n",
       "</table>\n",
       "</div>"
      ],
      "text/plain": [
       "    col1    col2  col3\n",
       "3  Item1  Silver   4.0\n",
       "2  Item1    Gold   NaN\n",
       "1  Item0  Bronze   2.0\n",
       "0  Item0    Gold   1.0"
      ]
     },
     "execution_count": 27,
     "metadata": {},
     "output_type": "execute_result"
    }
   ],
   "source": [
    "df.sort_index(axis=0, ascending=False)"
   ]
  },
  {
   "cell_type": "markdown",
   "metadata": {},
   "source": [
    "We can also sort by one or multiple columns:"
   ]
  },
  {
   "cell_type": "code",
   "execution_count": 28,
   "metadata": {},
   "outputs": [
    {
     "data": {
      "text/html": [
       "<div>\n",
       "<style scoped>\n",
       "    .dataframe tbody tr th:only-of-type {\n",
       "        vertical-align: middle;\n",
       "    }\n",
       "\n",
       "    .dataframe tbody tr th {\n",
       "        vertical-align: top;\n",
       "    }\n",
       "\n",
       "    .dataframe thead th {\n",
       "        text-align: right;\n",
       "    }\n",
       "</style>\n",
       "<table border=\"1\" class=\"dataframe\">\n",
       "  <thead>\n",
       "    <tr style=\"text-align: right;\">\n",
       "      <th></th>\n",
       "      <th>col1</th>\n",
       "      <th>col2</th>\n",
       "      <th>col3</th>\n",
       "    </tr>\n",
       "  </thead>\n",
       "  <tbody>\n",
       "    <tr>\n",
       "      <th>3</th>\n",
       "      <td>Item1</td>\n",
       "      <td>Silver</td>\n",
       "      <td>4.0</td>\n",
       "    </tr>\n",
       "    <tr>\n",
       "      <th>2</th>\n",
       "      <td>Item1</td>\n",
       "      <td>Gold</td>\n",
       "      <td>NaN</td>\n",
       "    </tr>\n",
       "    <tr>\n",
       "      <th>0</th>\n",
       "      <td>Item0</td>\n",
       "      <td>Gold</td>\n",
       "      <td>1.0</td>\n",
       "    </tr>\n",
       "    <tr>\n",
       "      <th>1</th>\n",
       "      <td>Item0</td>\n",
       "      <td>Bronze</td>\n",
       "      <td>2.0</td>\n",
       "    </tr>\n",
       "  </tbody>\n",
       "</table>\n",
       "</div>"
      ],
      "text/plain": [
       "    col1    col2  col3\n",
       "3  Item1  Silver   4.0\n",
       "2  Item1    Gold   NaN\n",
       "0  Item0    Gold   1.0\n",
       "1  Item0  Bronze   2.0"
      ]
     },
     "execution_count": 28,
     "metadata": {},
     "output_type": "execute_result"
    }
   ],
   "source": [
    "df.sort_values(by=['col2', 'col1'], ascending=False)"
   ]
  },
  {
   "cell_type": "markdown",
   "metadata": {},
   "source": [
    "## Selecting/Querying\n",
    "\n",
    "Individual columns can be selected with the `[]` operator or directly as attributes:"
   ]
  },
  {
   "cell_type": "code",
   "execution_count": 29,
   "metadata": {},
   "outputs": [
    {
     "data": {
      "text/html": [
       "<div>\n",
       "<style scoped>\n",
       "    .dataframe tbody tr th:only-of-type {\n",
       "        vertical-align: middle;\n",
       "    }\n",
       "\n",
       "    .dataframe tbody tr th {\n",
       "        vertical-align: top;\n",
       "    }\n",
       "\n",
       "    .dataframe thead th {\n",
       "        text-align: right;\n",
       "    }\n",
       "</style>\n",
       "<table border=\"1\" class=\"dataframe\">\n",
       "  <thead>\n",
       "    <tr style=\"text-align: right;\">\n",
       "      <th></th>\n",
       "      <th>col1</th>\n",
       "      <th>col2</th>\n",
       "    </tr>\n",
       "  </thead>\n",
       "  <tbody>\n",
       "    <tr>\n",
       "      <th>0</th>\n",
       "      <td>Item0</td>\n",
       "      <td>Gold</td>\n",
       "    </tr>\n",
       "    <tr>\n",
       "      <th>1</th>\n",
       "      <td>Item0</td>\n",
       "      <td>Bronze</td>\n",
       "    </tr>\n",
       "    <tr>\n",
       "      <th>2</th>\n",
       "      <td>Item1</td>\n",
       "      <td>Gold</td>\n",
       "    </tr>\n",
       "    <tr>\n",
       "      <th>3</th>\n",
       "      <td>Item1</td>\n",
       "      <td>Silver</td>\n",
       "    </tr>\n",
       "  </tbody>\n",
       "</table>\n",
       "</div>"
      ],
      "text/plain": [
       "    col1    col2\n",
       "0  Item0    Gold\n",
       "1  Item0  Bronze\n",
       "2  Item1    Gold\n",
       "3  Item1  Silver"
      ]
     },
     "execution_count": 29,
     "metadata": {},
     "output_type": "execute_result"
    }
   ],
   "source": [
    "# Selects only the column named 'col1';\n",
    "df.col1 \n",
    "\n",
    "# Same as previous\n",
    "df['col1'] \n",
    "\n",
    "# Select two columns\n",
    "df[['col1', 'col2']]"
   ]
  },
  {
   "cell_type": "markdown",
   "metadata": {},
   "source": [
    "You can also select by absolute coordinates/position in the frame. Indices are zero based:"
   ]
  },
  {
   "cell_type": "code",
   "execution_count": 30,
   "metadata": {},
   "outputs": [
    {
     "data": {
      "text/html": [
       "<div>\n",
       "<style scoped>\n",
       "    .dataframe tbody tr th:only-of-type {\n",
       "        vertical-align: middle;\n",
       "    }\n",
       "\n",
       "    .dataframe tbody tr th {\n",
       "        vertical-align: top;\n",
       "    }\n",
       "\n",
       "    .dataframe thead th {\n",
       "        text-align: right;\n",
       "    }\n",
       "</style>\n",
       "<table border=\"1\" class=\"dataframe\">\n",
       "  <thead>\n",
       "    <tr style=\"text-align: right;\">\n",
       "      <th></th>\n",
       "      <th>col1</th>\n",
       "      <th>col2</th>\n",
       "    </tr>\n",
       "  </thead>\n",
       "  <tbody>\n",
       "    <tr>\n",
       "      <th>0</th>\n",
       "      <td>Item0</td>\n",
       "      <td>Gold</td>\n",
       "    </tr>\n",
       "    <tr>\n",
       "      <th>1</th>\n",
       "      <td>Item0</td>\n",
       "      <td>Bronze</td>\n",
       "    </tr>\n",
       "    <tr>\n",
       "      <th>2</th>\n",
       "      <td>Item1</td>\n",
       "      <td>Gold</td>\n",
       "    </tr>\n",
       "    <tr>\n",
       "      <th>3</th>\n",
       "      <td>Item1</td>\n",
       "      <td>Silver</td>\n",
       "    </tr>\n",
       "  </tbody>\n",
       "</table>\n",
       "</div>"
      ],
      "text/plain": [
       "    col1    col2\n",
       "0  Item0    Gold\n",
       "1  Item0  Bronze\n",
       "2  Item1    Gold\n",
       "3  Item1  Silver"
      ]
     },
     "execution_count": 30,
     "metadata": {},
     "output_type": "execute_result"
    }
   ],
   "source": [
    "# Selects second row\n",
    "df.iloc[1]\n",
    "# Selects rows 1-to-3\n",
    "df.iloc[1:3]\n",
    "# First row, first column\n",
    "df.iloc[0,0]\n",
    "# First 4 rows and first 2 columns\n",
    "df.iloc[0:4, 0:2]"
   ]
  },
  {
   "cell_type": "markdown",
   "metadata": {},
   "source": [
    "Most often, we need to select by a condition on the cell values. To do so, we provide a boolean array denoting which rows will be selected. The trick is that pandas predefines many boolean operators for its data frames and series. For example the following expression produces a boolean array:"
   ]
  },
  {
   "cell_type": "code",
   "execution_count": 31,
   "metadata": {},
   "outputs": [
    {
     "data": {
      "text/plain": [
       "0     True\n",
       "1     True\n",
       "2    False\n",
       "3     True\n",
       "Name: col3, dtype: bool"
      ]
     },
     "execution_count": 31,
     "metadata": {},
     "output_type": "execute_result"
    }
   ],
   "source": [
    "# Produces and array, not a single value!\n",
    "df.col3 > 0"
   ]
  },
  {
   "cell_type": "markdown",
   "metadata": {},
   "source": [
    "This allows us to write queries like these:"
   ]
  },
  {
   "cell_type": "code",
   "execution_count": 32,
   "metadata": {},
   "outputs": [
    {
     "data": {
      "text/html": [
       "<div>\n",
       "<style scoped>\n",
       "    .dataframe tbody tr th:only-of-type {\n",
       "        vertical-align: middle;\n",
       "    }\n",
       "\n",
       "    .dataframe tbody tr th {\n",
       "        vertical-align: top;\n",
       "    }\n",
       "\n",
       "    .dataframe thead th {\n",
       "        text-align: right;\n",
       "    }\n",
       "</style>\n",
       "<table border=\"1\" class=\"dataframe\">\n",
       "  <thead>\n",
       "    <tr style=\"text-align: right;\">\n",
       "      <th></th>\n",
       "      <th>col1</th>\n",
       "      <th>col2</th>\n",
       "      <th>col3</th>\n",
       "    </tr>\n",
       "  </thead>\n",
       "  <tbody>\n",
       "    <tr>\n",
       "      <th>3</th>\n",
       "      <td>Item1</td>\n",
       "      <td>Silver</td>\n",
       "      <td>4.0</td>\n",
       "    </tr>\n",
       "  </tbody>\n",
       "</table>\n",
       "</div>"
      ],
      "text/plain": [
       "    col1    col2  col3\n",
       "3  Item1  Silver   4.0"
      ]
     },
     "execution_count": 32,
     "metadata": {},
     "output_type": "execute_result"
    }
   ],
   "source": [
    "#Query by a single column value\n",
    "df[df.col3 > 0] \n",
    "\n",
    "# Query by a single column, if it is in a list of predefined values\n",
    "df[df['col2'].isin(['Gold', 'Silver'])] \n",
    "\n",
    "# A conjunction query using two columns\n",
    "df[(df['col3'] > 0) & (df['col2'] == 'Silver')] \n",
    "\n",
    "# A disjunction query using two columns\n",
    "df[(df['col3'] > 0) | (df['col2'] == 'Silver')]\n",
    "\n",
    "# A query checking the textual content of the cells\n",
    "df[df.col2.str.contains('ilver')]"
   ]
  },
  {
   "cell_type": "markdown",
   "metadata": {},
   "source": [
    "## Modifying DataFrames\n",
    "\n",
    "Pandas' operations tend to produce new data frames instead of modifying the provided ones. Many operations have the optional boolean inplace parameter which we can use to force pandas to apply the changes to subject data frame.\n",
    "\n",
    "It is also possible to directly assign manipulate the values in cells, columns, and selections as follows:"
   ]
  },
  {
   "cell_type": "code",
   "execution_count": 33,
   "metadata": {},
   "outputs": [
    {
     "data": {
      "text/html": [
       "<div>\n",
       "<style scoped>\n",
       "    .dataframe tbody tr th:only-of-type {\n",
       "        vertical-align: middle;\n",
       "    }\n",
       "\n",
       "    .dataframe tbody tr th {\n",
       "        vertical-align: top;\n",
       "    }\n",
       "\n",
       "    .dataframe thead th {\n",
       "        text-align: right;\n",
       "    }\n",
       "</style>\n",
       "<table border=\"1\" class=\"dataframe\">\n",
       "  <thead>\n",
       "    <tr style=\"text-align: right;\">\n",
       "      <th></th>\n",
       "      <th>col1</th>\n",
       "      <th>col2</th>\n",
       "      <th>col3</th>\n",
       "    </tr>\n",
       "  </thead>\n",
       "  <tbody>\n",
       "    <tr>\n",
       "      <th>0</th>\n",
       "      <td>Item0</td>\n",
       "      <td>Gold</td>\n",
       "      <td>Unknown</td>\n",
       "    </tr>\n",
       "    <tr>\n",
       "      <th>1</th>\n",
       "      <td>Item0</td>\n",
       "      <td>Bronze again</td>\n",
       "      <td>Unknown</td>\n",
       "    </tr>\n",
       "    <tr>\n",
       "      <th>2</th>\n",
       "      <td>Item1</td>\n",
       "      <td>Gold</td>\n",
       "      <td>Unknown</td>\n",
       "    </tr>\n",
       "    <tr>\n",
       "      <th>3</th>\n",
       "      <td>Item1</td>\n",
       "      <td>Silver</td>\n",
       "      <td>Unknown</td>\n",
       "    </tr>\n",
       "  </tbody>\n",
       "</table>\n",
       "</div>"
      ],
      "text/plain": [
       "    col1          col2     col3\n",
       "0  Item0          Gold  Unknown\n",
       "1  Item0  Bronze again  Unknown\n",
       "2  Item1          Gold  Unknown\n",
       "3  Item1        Silver  Unknown"
      ]
     },
     "execution_count": 33,
     "metadata": {},
     "output_type": "execute_result"
    }
   ],
   "source": [
    "# Modifies the cell identified by its row index and column name\n",
    "df.at[1, 'col2'] = 'Bronze and Gold' \n",
    "\n",
    "# Modifies the cell identified by its absolute row and column indices\n",
    "df.iat[1,1] = 'Bronze again' \n",
    "\n",
    "# Replaces the column with the array. It could be a numpy array or a simple list.\n",
    "#Could also be used to create new columns\n",
    "df.loc[:,'col3'] = ['Unknown'] * len(df) \n",
    "\n",
    "# Equivalent to the previous\n",
    "df.col3 = ['Unknown'] * len(df) \n",
    "\n",
    "# Removes all rows with any missing values.\n",
    "df.dropna(how='any') \n",
    "\n",
    "# Removes all rows with all missing values.\n",
    "df.dropna(how='all')"
   ]
  },
  {
   "cell_type": "markdown",
   "metadata": {},
   "source": [
    "## Basic Plotting\n",
    "\n",
    "In the rest of this section we’ll use the following dataframe:"
   ]
  },
  {
   "cell_type": "code",
   "execution_count": 34,
   "metadata": {},
   "outputs": [],
   "source": [
    "plot_df = pd.DataFrame({\n",
    "    'col1': [1, 3, 2, 4],\n",
    "    'col2': [3, 6, 5, 1],\n",
    "    'col3': [4, 7, 6, 2],\n",
    "})"
   ]
  },
  {
   "cell_type": "markdown",
   "metadata": {},
   "source": [
    "Dataframes have a method called plot. By default, it plots a line chart with all numerical columns. The x-axis is the row index of the dataframe. In other words, you’re plotting :"
   ]
  },
  {
   "cell_type": "code",
   "execution_count": 35,
   "metadata": {},
   "outputs": [
    {
     "data": {
      "text/plain": [
       "<matplotlib.axes._subplots.AxesSubplot at 0x7f612a217e80>"
      ]
     },
     "execution_count": 35,
     "metadata": {},
     "output_type": "execute_result"
    },
    {
     "data": {
      "image/png": "[encoded data removed]",
      "text/plain": [
       "<Figure size 432x288 with 1 Axes>"
      ]
     },
     "metadata": {
      "needs_background": "light"
     },
     "output_type": "display_data"
    }
   ],
   "source": [
    "plot_df.plot()"
   ]
  },
  {
   "cell_type": "markdown",
   "metadata": {},
   "source": [
    "We can also specify a column for the x-axis:"
   ]
  },
  {
   "cell_type": "code",
   "execution_count": 36,
   "metadata": {},
   "outputs": [
    {
     "data": {
      "text/plain": [
       "<matplotlib.axes._subplots.AxesSubplot at 0x7f612a1a17b8>"
      ]
     },
     "execution_count": 36,
     "metadata": {},
     "output_type": "execute_result"
    },
    {
     "data": {
      "image/png": "[encoded data removed]",
      "text/plain": [
       "<Figure size 432x288 with 1 Axes>"
      ]
     },
     "metadata": {
      "needs_background": "light"
     },
     "output_type": "display_data"
    }
   ],
   "source": [
    "plot_df.plot(x='col1')"
   ]
  },
  {
   "cell_type": "markdown",
   "metadata": {},
   "source": [
    "The plot has an optional parameter kind which can be used to plot the data in different type of visualisation - e.g. bar harts, pie chart, or histograms.\n",
    "\n",
    "Using `kind=’bar’` produces multiple plots - one for each row. In each plot, there’s a bar for each cell."
   ]
  },
  {
   "cell_type": "code",
   "execution_count": 37,
   "metadata": {},
   "outputs": [
    {
     "data": {
      "text/plain": [
       "<matplotlib.axes._subplots.AxesSubplot at 0x7f612a0f5828>"
      ]
     },
     "execution_count": 37,
     "metadata": {},
     "output_type": "execute_result"
    },
    {
     "data": {
      "image/png": "[encoded data removed]",
      "text/plain": [
       "<Figure size 432x288 with 1 Axes>"
      ]
     },
     "metadata": {
      "needs_background": "light"
     },
     "output_type": "display_data"
    },
    {
     "data": {
      "image/png": "[encoded data removed]",
      "text/plain": [
       "<Figure size 432x288 with 1 Axes>"
      ]
     },
     "metadata": {
      "needs_background": "light"
     },
     "output_type": "display_data"
    }
   ],
   "source": [
    "# Use kind='hbar' for horizontal bars, and stacked=True to stack the groups\n",
    "plot_df.plot(kind='bar')\n",
    "plot_df.plot(kind='bar', stacked=True)"
   ]
  },
  {
   "cell_type": "markdown",
   "metadata": {},
   "source": [
    "Boxplots are displayed with the `kind=’box’` options. Each box represents a numeric column."
   ]
  },
  {
   "cell_type": "code",
   "execution_count": 38,
   "metadata": {},
   "outputs": [
    {
     "data": {
      "text/plain": [
       "<matplotlib.axes._subplots.AxesSubplot at 0x7f612a0d2fd0>"
      ]
     },
     "execution_count": 38,
     "metadata": {},
     "output_type": "execute_result"
    },
    {
     "data": {
      "image/png": "[encoded data removed]",
      "text/plain": [
       "<Figure size 432x288 with 1 Axes>"
      ]
     },
     "metadata": {
      "needs_background": "light"
     },
     "output_type": "display_data"
    }
   ],
   "source": [
    "plot_df.plot(kind='box')"
   ]
  },
  {
   "cell_type": "markdown",
   "metadata": {},
   "source": [
    "## <a name=\"ex4\"></a> Exercise 4 - Pie chart\n",
    "\n",
    "- Read file 'company_sales_data.csv' stored in data folder using Pandas.\n",
    "- Calculate total sale data for last year for each product and show it using a Pie chart.\n",
    "\n",
    "*NB. Use the `sum` function from Pandas*\n",
    "\n",
    "The Pie chart should look like this:\n",
    "\n",
    "<figure>\n",
    "<center>\n",
    "<img src=\"./data/matplotlib_pandas_exerise_8_show_pie_chart.png\" width=500px>\n",
    "</figure>"
   ]
  },
  {
   "cell_type": "code",
   "execution_count": null,
   "metadata": {},
   "outputs": [],
   "source": [
    "df = ...\n",
    "monthList = ....tolist()\n",
    "labels = [...]\n",
    "salesData = ...\n",
    "plt.axis(\"equal\")\n",
    "plt.pie(..., labels=labels, autopct='%1.1f%%')\n",
    "plt.legend(loc='lower right')\n",
    "..."
   ]
  },
  {
   "cell_type": "markdown",
   "metadata": {},
   "source": [
    "<a href=\"#ex4answer\">Answer to Exercise 4</a>"
   ]
  },
  {
   "cell_type": "markdown",
   "metadata": {},
   "source": [
    "---\n",
    "# Answers for the exercises\n",
    "---"
   ]
  },
  {
   "cell_type": "markdown",
   "metadata": {},
   "source": [
    "<a name=\"ex1answer\">Answer to Exercise 1</a>"
   ]
  },
  {
   "cell_type": "code",
   "execution_count": 40,
   "metadata": {},
   "outputs": [
    {
     "data": {
      "text/plain": [
       "Text(0.5, 1.0, 'My first nice Python figure')"
      ]
     },
     "execution_count": 40,
     "metadata": {},
     "output_type": "execute_result"
    },
    {
     "data": {
      "image/png": "[encoded data removed]",
      "text/plain": [
       "<Figure size 432x288 with 1 Axes>"
      ]
     },
     "metadata": {
      "needs_background": "light"
     },
     "output_type": "display_data"
    }
   ],
   "source": [
    "x = np.linspace(-3, 3, 100)\n",
    "y = (x + 2) * (x - 1) * (x - 2)\n",
    "plt.plot(x, y, 'r--')\n",
    "plt.plot([-2, 1, 2], [0, 0, 0], 'bo', markersize=10)\n",
    "plt.xlabel('x-axis')\n",
    "plt.ylabel('y-axis')\n",
    "plt.title('My first nice Python figure')"
   ]
  },
  {
   "cell_type": "markdown",
   "metadata": {},
   "source": [
    "<a href=\"#ex1\">Back to Exercise 1</a>\n",
    "\n",
    "<a name=\"ex2answer\">Answer to Exercise 2</a>"
   ]
  },
  {
   "cell_type": "code",
   "execution_count": 42,
   "metadata": {},
   "outputs": [
    {
     "data": {
      "text/plain": [
       "<matplotlib.legend.Legend at 0x7f6129ecac88>"
      ]
     },
     "execution_count": 42,
     "metadata": {},
     "output_type": "execute_result"
    },
    {
     "data": {
      "image/png": "[encoded data removed]",
      "text/plain": [
       "<Figure size 432x288 with 1 Axes>"
      ]
     },
     "metadata": {
      "needs_background": "light"
     },
     "output_type": "display_data"
    }
   ],
   "source": [
    "holland = np.loadtxt('./data/holland_temperature.dat')\n",
    "newyork= np.loadtxt('./data/newyork_temperature.dat')\n",
    "beijing = np.loadtxt('./data/beijing_temperature.dat')\n",
    "plt.plot(np.linspace(1, 12, 12), holland)\n",
    "plt.plot(np.linspace(1, 12, 12), newyork)\n",
    "plt.plot(np.linspace(1, 12, 12), beijing)\n",
    "plt.xlabel('Number of the month')\n",
    "plt.ylabel('Mean monthly temperature (Celcius)')\n",
    "plt.xticks(np.linspace(1, 12, 12))\n",
    "plt.legend(['Holland','New York','Beijing'], loc='best')"
   ]
  },
  {
   "cell_type": "markdown",
   "metadata": {},
   "source": [
    "<a href=\"#ex2\">Back to Exercise 2</a>\n",
    "\n",
    "<a name=\"ex3answer\">Answer to Exercise 3</a>"
   ]
  },
  {
   "cell_type": "code",
   "execution_count": 43,
   "metadata": {},
   "outputs": [
    {
     "name": "stdout",
     "output_type": "stream",
     "text": [
      "[ 3.1  3.3  6.2  9.2 13.1 15.6 17.9 17.5 14.5 10.7  6.7  3.7]\n"
     ]
    },
    {
     "data": {
      "text/plain": [
       "Text(0, 0.5, 'air - sea temp (Celcius)')"
      ]
     },
     "execution_count": 43,
     "metadata": {},
     "output_type": "execute_result"
    },
    {
     "data": {
      "image/png": "[encoded data removed]",
      "text/plain": [
       "<Figure size 432x288 with 2 Axes>"
      ]
     },
     "metadata": {
      "needs_background": "light"
     },
     "output_type": "display_data"
    }
   ],
   "source": [
    "air = np.loadtxt('./data/holland_temperature.dat') \n",
    "print(air)\n",
    "sea = np.loadtxt('./data/holland_seawater.dat')\n",
    "plt.subplot(211)\n",
    "plt.plot(air, 'b', label='air temp')\n",
    "plt.plot(sea, 'r', label='sea temp')\n",
    "plt.legend(loc='best')\n",
    "plt.ylabel('temp (Celcius)')\n",
    "plt.xlim(0, 11)\n",
    "plt.xticks([])\n",
    "plt.subplot(212)\n",
    "plt.plot(air-sea, 'ko')\n",
    "plt.xticks(np.linspace(0, 11, 12), ['jan','feb','mar','apr','may','jun','jul','aug','sep','oct','nov','dec'])\n",
    "plt.xlim(0, 11)\n",
    "plt.ylabel('air - sea temp (Celcius)')"
   ]
  },
  {
   "cell_type": "markdown",
   "metadata": {},
   "source": [
    "<a href=\"#ex3\">Back to Exercise 3</a>\n",
    "\n",
    "<a name=\"ex4answer\">Answer to Exercise 4</a>"
   ]
  },
  {
   "cell_type": "code",
   "execution_count": 44,
   "metadata": {},
   "outputs": [
    {
     "name": "stdout",
     "output_type": "stream",
     "text": [
      "['month_number', 'facecream', 'facewash', 'toothpaste', 'bathingsoap', 'shampoo', 'moisturizer', 'total_units', 'total_profit']\n"
     ]
    },
    {
     "data": {
      "text/plain": [
       "Text(0.5, 1.0, 'Sales data')"
      ]
     },
     "execution_count": 44,
     "metadata": {},
     "output_type": "execute_result"
    },
    {
     "data": {
      "image/png": "[encoded data removed]",
      "text/plain": [
       "<Figure size 432x288 with 1 Axes>"
      ]
     },
     "metadata": {},
     "output_type": "display_data"
    }
   ],
   "source": [
    "df = pd.read_csv('./data/company_sales_data.csv')\n",
    "products=df.columns.tolist()\n",
    "print(products)\n",
    "products.pop(0) #remove month_number from products list\n",
    "salesData = []\n",
    "for product in products[:6]: # iterate list only to moisturizer\n",
    "    salesData.append(df[product].sum())\n",
    "plt.axis(\"equal\")\n",
    "plt.pie(salesData, labels=products[:6], autopct='%1.1f%%')\n",
    "plt.legend(loc='lower right')\n",
    "plt.title('Sales data')"
   ]
  },
  {
   "cell_type": "markdown",
   "metadata": {},
   "source": [
    "<a href=\"#ex4\">Back to Exercise 4</a>"
   ]
  },
  {
   "cell_type": "code",
   "execution_count": null,
   "metadata": {},
   "outputs": [],
   "source": []
  }
 ],
 "metadata": {
  "kernelspec": {
   "display_name": "Python 3",
   "language": "python",
   "name": "python3"
  },
  "language_info": {
   "codemirror_mode": {
    "name": "ipython",
    "version": 3
   },
   "file_extension": ".py",
   "mimetype": "text/x-python",
   "name": "python",
   "nbconvert_exporter": "python",
   "pygments_lexer": "ipython3",
   "version": "3.6.9"
  }
 },
 "nbformat": 4,
 "nbformat_minor": 4
}
