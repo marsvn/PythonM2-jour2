{
 "cells": [
  {
   "cell_type": "markdown",
   "metadata": {},
   "source": [
    "# DQPRM : Analyse quantitative d'images scintigraphiques\n",
    "Version de septembre 2021\n",
    "\n",
    "### Albertine Dubois et Ludovic Ferrer\n",
    "#### <span class=\"glyphicon glyphicon-envelope\"></span> albertine.dubois@cea.fr\n",
    "#### <span class=\"glyphicon glyphicon-envelope\"></span> ludovic.ferrer@ico.unicancer.fr\n",
    "*****"
   ]
  },
  {
   "cell_type": "markdown",
   "metadata": {},
   "source": [
    "## 1. Rappels sur le SUV (Standardized uptake value)\n",
    "\n",
    "La valeur de fixation normalisée (SUV en anglais pour Standardized Uptake Value) est l'index semi-quantitatif le plus communément utilisé en routine clinique pour caractériser la fixation du FDG en TEP. \n",
    "\n",
    "Dans  sa  définition  la  plus  classique,  le  SUV  se  calcule comme   le   rapport   de   la   concentration moyenne du radiotraceur dans   un   tissu   d’intérêt (en Bq/mL) à un instant donné à l'activité totale injectée au patient (en Bq), rapporté à son volume (en mL). En supposant que le patient a une masse volumique de 1 g/mL, la valeur du volume en mL est la même que celle de la masse en grammes. \n",
    "\n",
    "Le SUV est calculé en pratique en rapportant l'activité injectée au poids du patient.\n",
    "\n",
    "$$ SUV_{BW}=\\frac{[^{18}F-FDG]}{\\frac{A_{inj}(t_{acq})}{W}} $$\n",
    "\n",
    "Bien sûr, il faut tenir compte dans la formule ci-dessus du délai de temps $\\Delta t$ entre l'injection et l'acquisition.\n",
    "\n",
    "$$ A_{inj_{c}}=A_{inj}(t_{acq})\\times 2^{(\\frac{-\\Delta t}{T_{1/2}})} $$\n",
    "\n",
    "Le SUV est donc une quantité sans dimension, dont l’usage fréquent est en particulier dû à la simplicité de sa méthode de calcul.\n",
    "* Si le radiotraceur se répartissait uniformément dans tout l’organisme,   le   SUV   serait   identique   en   tout   point   de l’organisme  et  égal  à 1.Tout  écart  du  SUV à 1  traduit  une répartition non uniforme du radiotraceur dans le volume dans lequel il s’est distribué.\n",
    "* Le pouvoir de normalisation du SUV facilite l’interprétation   semi-quantitative   des   images.   En   effet,   même   si   la normalisation sous-jacente au calcul du SUV est grossière, elle est   tout   de   même   largement   préférable   à l’absence   de normalisation.  \n",
    "* L’expression  des  images  en  échelle  SUV  rend comparables des images acquises chez différents patients, et des images acquises chez un patient à différents stades de la prise en charge thérapeutique. \n",
    "* La normalisation n’est certes pas parfaite mais elle réduit tout de même considérablement la variabilité inter-patients et inter-examens.  \n",
    "* Le SUV reste donc un index simpliste pour caractériser le métabolisme du glucose."
   ]
  },
  {
   "cell_type": "code",
   "execution_count": 11,
   "metadata": {},
   "outputs": [],
   "source": [
    "# Import required packages\n",
    "import numpy as np\n",
    "import sys, os, subprocess\n",
    "import matplotlib.pyplot as plt\n",
    "\n",
    "# Import SimpleITK\n",
    "import SimpleITK as sitk\n",
    "\n",
    "# Import Pydicom\n",
    "import pydicom\n",
    "\n",
    "# Define current working directory\n",
    "pwd_dir = os.getcwd()\n",
    "\n",
    "# Define target directory\n",
    "data_dir = os.path.join(pwd_dir,'data')\n",
    "\n",
    "# Define target directory\n",
    "target_dir = os.path.join(pwd_dir,'output')\n",
    "# If it doesn't exist, create it\n",
    "if not os.path.exists(target_dir):\n",
    "    os.makedirs(target_dir)"
   ]
  },
  {
   "cell_type": "markdown",
   "metadata": {},
   "source": [
    "## 2. Lecture de l'image TEP `1-PT.nii` préalablement enregistrée au format Nifti"
   ]
  },
  {
   "cell_type": "code",
   "execution_count": 16,
   "metadata": {},
   "outputs": [],
   "source": [
    "# On peut désormais directement travailler avec le volume TEP préalablement enregistré au format Nifti\n",
    "IMAGE = sitk.ReadImage(os.path.join(data_dir,'1-PT.nii'))"
   ]
  },
  {
   "cell_type": "markdown",
   "metadata": {},
   "source": [
    "## 3. Calcul du facteur de conversion TEP en unités SUV \n",
    "\n",
    "Pour calculer le facteur de conversion de ces images TEP en unités SUV, il est nécessaire d'accéder aux valeurs des certains attributs DICOM.\n",
    "* `Series Time`: Time the series started. Series Date and Series Time are used as the reference time for all PET Image Attributes that are temporally related, including activity measurements.\n",
    "* `Radiopharmaceutical Start Time`: Time of start of administration. The actual time of radiopharmaceutical administration to the patient for imaging purposes, using the same time base as Series Time. Example: \"070907.0705\" represents a time of 7 hours, 9 minutes and 7.0705 seconds. \n",
    "* `Radionuclide Total Dose`: The radiopharmaceutical dose administered to the patient measured in Becquerels (Bq) at the Radiopharmaceutical Start Time.\n",
    "* `Radionuclide Half Life`: The radionuclide half life, in seconds, to be used in the correction of this image.\n",
    "* `Patient's Weight`: Weight of the Patient, in kilograms.\n",
    "\n",
    "Le site internet https://dicom.innolitics.com/ciods/pet-image regroupe l'ensemble des attributs DICOM relatif à la modalité d'imagerie TEP et renseigne les valeurs de tag number correspondants.\n",
    "\n",
    "Il est parfaitement possible d'y accéder de manière automatique avec Python et sa librairie `pydicom` mais ce n'est pas l'objet ici (cf. cours de Ludovic Ferrer). C'est pourquoi la valeur de ces attributs vous est directement donnée."
   ]
  },
  {
   "cell_type": "code",
   "execution_count": 20,
   "metadata": {},
   "outputs": [
    {
     "name": "stdout",
     "output_type": "stream",
     "text": [
      "Valeur du facteur de conversion TEP en unités SUV = 0.0004719280293222231\n",
      "Image TEP en unités SUV enregistrée\n"
     ]
    }
   ],
   "source": [
    "# Valeurs des champs DICOM extraits des fichiers .dcm correspondants à l'image TEP\n",
    "RST = 52244          # RadiopharmaceuticalStartTime [sec]\n",
    "ST = 55477           # SeriesTime [sec]\n",
    "RTD =  268000000     # RadionuclideTotalDose [Bq]\n",
    "RHL = 6586.2         # RadionuclideHalfLife [s]\n",
    "PW  = 90             # PatientWeight [kg]\n",
    "\n",
    "CD = RTD * pow(2,- (ST - RST) / RHL )      # CorrectedDose (activitée injectée et corrigée de la décroissance radioactive au temps de l'acquisition)\n",
    "PET_SUV_ScaleFactor = PET_SUV_ScaleFactor = PW * 1000 / CD             \n",
    "            \n",
    "print(\"Valeur du facteur de conversion TEP en unités SUV =\", PET_SUV_ScaleFactor) \n",
    "\n",
    "# Sauvegarde de l'image TEP après conversion en unités SUV\n",
    "sitk.WriteImage(IMAGE*PET_SUV_ScaleFactor, os.path.join(target_dir,'1-PT_SUV.nii'))\n",
    "print('Image TEP en unités SUV enregistrée')"
   ]
  },
  {
   "cell_type": "markdown",
   "metadata": {},
   "source": [
    "## 4. Calcul du facteur de conversion vox<->mm<sup>3</sup>"
   ]
  },
  {
   "cell_type": "code",
   "execution_count": 21,
   "metadata": {},
   "outputs": [
    {
     "name": "stdout",
     "output_type": "stream",
     "text": [
      "Taille du pixel (mm) : : [4.0728302001953125, 4.0728302001953125]\n",
      "Epaisseur de coupe (mm) : 2.027008056640625\n",
      "Facteur de conversion voxel<->mm3 = 33.623899860034136 (mm3/voxel)\n"
     ]
    }
   ],
   "source": [
    "# Calcul de la taille du voxel permettant la conversion vox<->mm<sup>3</sup>\n",
    "\n",
    "print('Taille du pixel (mm) : :', [IMAGE.GetSpacing()[0],IMAGE.GetSpacing()[1]])\n",
    "print('Epaisseur de coupe (mm) :', IMAGE.GetSpacing()[2])\n",
    "\n",
    "# Calcul du volume (en mm3) du voxel directement\n",
    "vox2vol_Factor = IMAGE.GetSpacing()[0] * IMAGE.GetSpacing()[1] * IMAGE.GetSpacing()[2]\n",
    "\n",
    "print(\"Facteur de conversion voxel<->mm3 = \" + str(vox2vol_Factor) + \" (mm3/voxel)\")"
   ]
  },
  {
   "cell_type": "markdown",
   "metadata": {},
   "source": [
    "## 4. Ouvrir le volume TEP avec ITK-SNAP et trouver manuellement la coupe passant par la tumeur pulmonaire pour vérifier la cohérence entre les valeurs d'intensité des pixels"
   ]
  },
  {
   "cell_type": "markdown",
   "metadata": {},
   "source": [
    "On commence par récupérer la valeur de l'intensité d'un voxel pris au hasard puis on la compare à celle donnée par ITK-SNAP.\n",
    "\n",
    "Essayons avec le voxel de coordonnées **(89,131,329)**.<br>\n",
    "**<span style='color:red'>Attention, les index commencent à zéro dans Python mais ... à 1 dans ITK-SNAP</span>** (il faudra donc mettre les valeurs (90,132,330) pour 'cursor position'). \n",
    "\n",
    "On trouve pour ce voxel 5892 Bq/mL dans ITK-SNAP"
   ]
  },
  {
   "cell_type": "code",
   "execution_count": 22,
   "metadata": {},
   "outputs": [
    {
     "name": "stdout",
     "output_type": "stream",
     "text": [
      "Intensité du pixel : 5891.86032\n"
     ]
    }
   ],
   "source": [
    "print('Intensité du pixel :', IMAGE[89,131,329])"
   ]
  },
  {
   "cell_type": "markdown",
   "metadata": {},
   "source": [
    "## 5. Rogner (crop) le volume TEP à +/- 10 coupes dans chaque direction (pour ne pas etre gêné par l'activité cardiaque qui est intense chez ce patient)"
   ]
  },
  {
   "cell_type": "markdown",
   "metadata": {},
   "source": [
    "On choisit le voxel de coordonnées **(90,130,337)** comme centre de la tumeur.\n",
    "\n",
    "En réalité, on ne va pas réellement \"rogner\" le volume, mais on va mettre à 0 toutes les valeurs en dehors de cette \"boite englobante\" définie autour de la tumeur (ce qui permettra de faire un masque de la tumeur par la suite)"
   ]
  },
  {
   "cell_type": "code",
   "execution_count": 23,
   "metadata": {},
   "outputs": [
    {
     "data": {
      "text/plain": [
       "(-0.5, 199.5, 199.5, -0.5)"
      ]
     },
     "execution_count": 23,
     "metadata": {},
     "output_type": "execute_result"
    },
    {
     "data": {
      "image/png": "[encoded data removed]",
      "text/plain": [
       "<Figure size 720x360 with 2 Axes>"
      ]
     },
     "metadata": {
      "needs_background": "light"
     },
     "output_type": "display_data"
    }
   ],
   "source": [
    "tumor_center = [90,130,337] # Définition du centre de la tumeur\n",
    "nb_slices_to_crop = 10      # Demi-taille de la boîte englobante\n",
    "TC , NS = tumor_center, nb_slices_to_crop   \n",
    "# Pour faciliter la lecture des lignes suivantes, on crée un nouveau volume 'croped'\n",
    "IMAGE_cropped = IMAGE   # Sur la base du volume TEP initial\n",
    "IMAGE_cropped_np = sitk.GetArrayFromImage(IMAGE_cropped)  # Copie du volume TEP initial\n",
    "\n",
    "# On va mettre à 0 ce qui est en dehors de notre boîte englobante\n",
    "# Attention à l'indexation des arrays NumPy dont l'ordre est inversé par rapport à l'image SimpleITK de départ\n",
    "IMAGE_cropped_np[:,:,TC[0] + NS:] = 0\n",
    "IMAGE_cropped_np[:,:,:TC[0] - NS] = 0\n",
    "\n",
    "IMAGE_cropped_np[:,TC[1] + NS:,:] = 0\n",
    "IMAGE_cropped_np[:,:TC[1] - NS,:] = 0\n",
    "\n",
    "IMAGE_cropped_np[TC[2] + NS:,:,:] = 0\n",
    "IMAGE_cropped_np[:TC[2] - NS,:,:] = 0\n",
    "\n",
    "plt.subplots(1,2,figsize=(10,5))\n",
    "plt.subplot(121)\n",
    "plt.imshow(sitk.GetArrayFromImage(IMAGE)[TC[2],:,:],cmap='jet')\n",
    "plt.title('Image originale')\n",
    "plt.axis('off')\n",
    "plt.subplot(122)\n",
    "plt.imshow(IMAGE_cropped_np[TC[2],:,:],cmap='jet')\n",
    "plt.title('Image croppée')\n",
    "plt.axis('off')"
   ]
  },
  {
   "cell_type": "markdown",
   "metadata": {},
   "source": [
    "## 6. Récupération de la valeur du pixel d'intensité maximale en Bq/mL et conversion en unités SUV"
   ]
  },
  {
   "cell_type": "code",
   "execution_count": 24,
   "metadata": {},
   "outputs": [
    {
     "name": "stdout",
     "output_type": "stream",
     "text": [
      "Mesures obtenues en utilisant le volume TEP rogné (cropped)\n",
      "Valeur d'intensité maximale : 61027.0224 Bq/mL\n",
      "Vérifier cette valeur en ouvrant le volume 1-PT.nii dans ITK-SNAP\n",
      "En utilisant l'inspecteur (menu Tools>Image Contrast>Contrast Adjustement...  \n",
      "ou [Ctrl]+[I] puis l'onglet contraste qui donne la valeur maximale (en Bq/mL)\n",
      "Voxel le + intense : 61027.0224 Bq/mL <=> 28.800362416635163 SUVmax\n"
     ]
    }
   ],
   "source": [
    "total_flag = False     # Sélectionne si on travaillera sur le volume TEP entier (total_flag=True)\n",
    "                       # ou si on travaillera sur le volume rogné (total_flag=False)\n",
    "\n",
    "if total_flag:\n",
    "    print(\"Mesures obtenues en utilisant tout le volume TEP\")\n",
    "    IMAGE_np = sitk.GetArrayFromImage(IMAGE)\n",
    "else:\n",
    "    print(\"Mesures obtenues en utilisant le volume TEP rogné (cropped)\")\n",
    "    IMAGE_np = IMAGE_cropped_np\n",
    "\n",
    "IMAGE_np_max = IMAGE_np.max() \n",
    "print(\"Valeur d'intensité maximale : \" + str(IMAGE_np_max) + \" Bq/mL\")\n",
    "print(\"Vérifier cette valeur en ouvrant le volume 1-PT.nii dans ITK-SNAP\")\n",
    "print(\"En utilisant l'inspecteur (menu Tools>Image Contrast>Contrast Adjustement...  \")\n",
    "print(\"ou [Ctrl]+[I] puis l'onglet contraste qui donne la valeur maximale (en Bq/mL)\")\n",
    "# Conversion Bq/mL<->SUV \n",
    "\n",
    "IMAGE_np_max_SUV = IMAGE_np_max * PET_SUV_ScaleFactor\n",
    "print(\"Voxel le + intense : \" + str(IMAGE_np_max) + \" Bq/mL <=> \" + \\\n",
    "      str(IMAGE_np_max_SUV) + \" SUVmax\")"
   ]
  },
  {
   "cell_type": "markdown",
   "metadata": {},
   "source": [
    "## 7. Seuillage de l'image à 15 ou 40% de cette valeur max et sauvegarde du masque binaire obtenu"
   ]
  },
  {
   "cell_type": "code",
   "execution_count": 25,
   "metadata": {},
   "outputs": [
    {
     "name": "stdout",
     "output_type": "stream",
     "text": [
      "Valeur max   :  61027.0224  Bq/mL\n",
      "Valeur seuil :  9154.05336 Bq/mL  <=>  4.3200543624952745  SUV\n",
      "Fichier SEG.nii écrit.. OK\n",
      "Essayer d'autres seuils de segmentation [0;1] (0,40 est très sélectif, tenter 0,15 pour le volume rogne et 0,05 pour le volume entier)\n",
      "Essayer sur l'image TEP entiere et sur l'image rognée (étape 6 mettre total_flag = False)\n",
      "Ne pas oublier dans le quart inferieur gauche d'ITK-SNAP de cliquer sur 'update' pour visualiser\n",
      "la segmentation en 3D\n"
     ]
    },
    {
     "data": {
      "image/png": "[encoded data removed]",
      "text/plain": [
       "<Figure size 432x288 with 1 Axes>"
      ]
     },
     "metadata": {
      "needs_background": "light"
     },
     "output_type": "display_data"
    }
   ],
   "source": [
    "seuil = 0.15\n",
    "\n",
    "IMAGE_np_seuil = seuil * IMAGE_np.max()    # Calcul du seuil relatif pour cette image\n",
    "SEG_size = IMAGE.GetSize()                 # Récupère la taille de l'image, ce sera la taille de l'image segmentation\n",
    "SEG = sitk.Image(SEG_size,sitk.sitkUInt8)  # Crée une image segmentation (masque binaire) 8 bits suffisent\n",
    "SEG.CopyInformation(IMAGE)                 # Copie pixel_size, spacing , etc\n",
    "\n",
    "SEG_mask = IMAGE_np >= IMAGE_np_seuil  # Masque qui correspond a notre condition de segmentation\n",
    "plt.imshow(SEG_mask[TC[2],:,:],cmap='gray')\n",
    "plt.axis('off')\n",
    "print(\"Valeur max   : \",IMAGE_np.max(),\" Bq/mL\")\n",
    "print(\"Valeur seuil : \",IMAGE_np_seuil, \"Bq/mL \",end = \"\")\n",
    "print(\" <=> \",IMAGE_np_seuil * PET_SUV_ScaleFactor,\" SUV\")\n",
    "\n",
    "# Créer l'objet sitk de segmentation a partir du masque (que l'on multiplie a une matrice de 'ones')\n",
    "SEG = sitk.GetImageFromArray(np.multiply(SEG_mask,np.ones(SEG_mask.shape)))\n",
    "# Sauvegarder la segmentation dans un fichier SEG.nii\n",
    "sitk.WriteImage(SEG,os.path.join(target_dir,\"SEG.nii\"))\n",
    "print(\"Fichier SEG.nii écrit.. OK\")\n",
    "\n",
    "print(\"Essayer d'autres seuils de segmentation [0;1] (0,40 est très sélectif, tenter 0,15 pour le volume rogne et 0,05 pour le volume entier)\")\n",
    "print(\"Essayer sur l'image TEP entiere et sur l'image rognée (étape 6 mettre total_flag = False)\")\n",
    "print(\"Ne pas oublier dans le quart inferieur gauche d'ITK-SNAP de cliquer sur 'update' pour visualiser\")\n",
    "print(\"la segmentation en 3D\")\n"
   ]
  },
  {
   "cell_type": "code",
   "execution_count": 26,
   "metadata": {},
   "outputs": [
    {
     "data": {
      "text/plain": [
       "127"
      ]
     },
     "execution_count": 26,
     "metadata": {},
     "output_type": "execute_result"
    }
   ],
   "source": [
    "import subprocess\n",
    "subprocess.call('/usr/local/itksnap-3.8.0-20190612-Linux-gcc64/bin/itksnap -g ' + os.path.join(data_dir,\"1-PT.nii\" + \" -s \" + \\\n",
    "                                            os.path.join(target_dir,\"SEG.nii\")),shell=True)"
   ]
  },
  {
   "cell_type": "markdown",
   "metadata": {},
   "source": [
    "## 8. Calcul du volume tumoral correspondant "
   ]
  },
  {
   "cell_type": "markdown",
   "metadata": {},
   "source": [
    "#### On fait le calcul en nombre de voxels puis en mm3"
   ]
  },
  {
   "cell_type": "code",
   "execution_count": 27,
   "metadata": {},
   "outputs": [
    {
     "name": "stdout",
     "output_type": "stream",
     "text": [
      "Seuil : 15 %\n",
      "601 voxels de segmentation / 21720000 voxels\n",
      "601 voxels <=> 20207.963815880517 mm3\n",
      "Comparer ces valeurs (en voxels et en mm3)\n",
      "aux valeurs donnees dans ITK-SNAP (menu Segmentation>Volumes and Statistics...)\n"
     ]
    }
   ],
   "source": [
    "seg_nb_vox = len(SEG_mask[SEG_mask==1])\n",
    "seg_nb_mm3 = seg_nb_vox * vox2vol_Factor\n",
    "print(\"Seuil :\",str(int(100*seuil))+\" %\")\n",
    "print(seg_nb_vox,\"voxels de segmentation /\",len(SEG),\"voxels\")\n",
    "print(str(seg_nb_vox) + \" voxels <=> \" + str(seg_nb_mm3) + \" mm3\")\n",
    "print(\"Comparer ces valeurs (en voxels et en mm3)\")\n",
    "print(\"aux valeurs donnees dans ITK-SNAP (menu Segmentation>Volumes and Statistics...)\")"
   ]
  },
  {
   "cell_type": "markdown",
   "metadata": {},
   "source": [
    "## 9. Evaluation de la charge métabolique "
   ]
  },
  {
   "cell_type": "markdown",
   "metadata": {},
   "source": [
    "#### On utilise la somme cumulée des valeurs des voxels du volume segmenté "
   ]
  },
  {
   "cell_type": "code",
   "execution_count": 28,
   "metadata": {},
   "outputs": [
    {
     "name": "stdout",
     "output_type": "stream",
     "text": [
      "Total cumulé    =  14206997.107199991\n",
      "Moyenne         =  23638.930294841914\n",
      "Comparer cette valeur moyenne a la valeur donnée dans ITK-SNAP(menu Segmentation>Volumes and Statistics...)\n"
     ]
    }
   ],
   "source": [
    "seg_cumsum = IMAGE_np[IMAGE_np >= IMAGE_np_seuil].cumsum()[-1]\n",
    "print(\"Total cumulé    = \" , seg_cumsum)\n",
    "print(\"Moyenne         = \" , seg_cumsum/seg_nb_vox)\n",
    "print(\"Comparer cette valeur moyenne a la valeur donnée dans ITK-SNAP(menu Segmentation>Volumes and Statistics...)\")"
   ]
  },
  {
   "cell_type": "code",
   "execution_count": null,
   "metadata": {},
   "outputs": [],
   "source": []
  }
 ],
 "metadata": {
  "kernelspec": {
   "display_name": "Python 3",
   "language": "python",
   "name": "python3"
  },
  "language_info": {
   "codemirror_mode": {
    "name": "ipython",
    "version": 3
   },
   "file_extension": ".py",
   "mimetype": "text/x-python",
   "name": "python",
   "nbconvert_exporter": "python",
   "pygments_lexer": "ipython3",
   "version": "3.6.9"
  }
 },
 "nbformat": 4,
 "nbformat_minor": 4
}
