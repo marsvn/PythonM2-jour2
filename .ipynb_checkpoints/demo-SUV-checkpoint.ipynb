{
 "cells": [
  {
   "cell_type": "markdown",
   "metadata": {},
   "source": [
    "# Demo 3: Evaluation of tumor volume and metabolic load in lung cancer"
   ]
  },
  {
   "cell_type": "markdown",
   "metadata": {},
   "source": [
    "## Standardized uptake value (SUV)\n",
    "\n",
    "Standardized uptake value, $SUV$, (also referred to as the dose uptake ratio, DUR) is a widely used, robust PET quantifier, calculated simply as a ratio of tissue radioactivity concentration (for example in units [Bq/mL]) at time t, $A_c(t)$, and administered dose $D$ (for example in units [Bq]) at the time of injection divided by body weight $W$ (usually in units [g]).\n",
    "\n",
    "$ SUV_{BW}=\\frac{A_c(t)}{D} \\times W $\n",
    "\n",
    "Tissue radioactivity and dose must be decay corrected to the same time point (delay between the injection time and the scan start time in [s]). The divider of the equation represents the average radioactivity concentration (per weight) in the whole body, and thus the SUV equals regional-to-whole body ratio of radioactivity concentrations. \n",
    "\n",
    "$ D_c=D \\times 2^{(\\frac{-\\Delta t}{T_{1/2}})} $\n",
    "\n",
    "Cancer treatment response is usually assessed with FDG PET by calculating the SUV on the highest image pixel in the tumour regions ($SUV_{max}$), because this provides lower inter-observer variability than averaged SUV ($SUV{mean}$). Alternatively, metabolic tumour volume can be estimated using threshold or region growing techniques, and average SUV inside the region is reported as such or multiplied by tumour volume to calculate the total glycolytic volume."
   ]
  },
  {
   "cell_type": "code",
   "execution_count": 3,
   "metadata": {},
   "outputs": [],
   "source": [
    "# Import required packages\n",
    "import numpy as np\n",
    "import sys, os, subprocess\n",
    "\n",
    "# Import SimpleITK\n",
    "import SimpleITK as sitk\n",
    "\n",
    "# Import Pydicom\n",
    "import pydicom\n",
    "\n",
    "# Define current working directory\n",
    "pwd_dir = os.getcwd()\n",
    "# Define input data directory\n",
    "data_dir = './data/patient4'\n",
    "# Define target directory\n",
    "target_dir = os.path.join(pwd_dir,'output')\n",
    "# If it doesn't exist, create it\n",
    "if not os.path.exists(target_dir):\n",
    "    os.makedirs(target_dir)"
   ]
  },
  {
   "cell_type": "markdown",
   "metadata": {},
   "source": [
    "## 1. Open CT and PET DICOM series and write them as single 3D .nii files. \n",
    "\n",
    "When DICOM series modality is refered as PET ($PT$), add a step to compute PET to SUV scale factor allowing further conversion of PET image into SUV units.\n",
    "\n",
    "\n",
    "\n",
    "To do so, you need to extract from DICOM metadata, the following attributes values:\n",
    "\n",
    "* `Radiopharmaceutical Start Time`: Time of start of administration. The actual time of radiopharmaceutical administration to the patient for imaging purposes, using the same time base as Series Time. Example: \"070907.0705\" represents a time of 7 hours, 9 minutes and 7.0705 seconds. \n",
    "* `Series Time`: Time the series started. Series Date and Series Time are used as the reference time for all PET Image Attributes that are temporally related, including activity measurements.\n",
    "* `Radionuclide Total Dose`: The radiopharmaceutical dose administered to the patient measured in Becquerels (Bq) at the Radiopharmaceutical Start Time.\n",
    "* `Radionuclide Half Life`: The radionuclide half life, in seconds, that was used in the correction of this image.\n",
    "* `Patient's Weight`: Weight of the Patient, in kilograms.\n",
    "\n",
    "Have a look at https://dicom.innolitics.com/ciods/pet-image to find corresponding tag values."
   ]
  },
  {
   "cell_type": "code",
   "execution_count": 4,
   "metadata": {},
   "outputs": [
    {
     "name": "stdout",
     "output_type": "stream",
     "text": [
      "There is 5 serie(s) in the input data directory ./data/patient4\n",
      "1.3.12.2.1107.5.1.4.11061.30000019101106360497600028758\n",
      "1.3.12.2.1107.5.1.4.11061.30000019101106363026100031935\n",
      "1.3.12.2.1107.5.8.15.101920.30000019112815175293800000226\n",
      "1.3.12.2.1107.5.8.15.101920.30000019112815251995200000106\n",
      "1.3.12.2.1107.5.8.15.101920.30000019112815253199500000055\n",
      "0...CT-CT|2|TEP FDG : IMAGES->0-CT.nii-> OK\n",
      "1...PT-PT|2|TEP FDG : IMAGES->1-PT.nii-> OK\n",
      "Dataset.file_meta -------------------------------\n",
      "(0002, 0000) File Meta Information Group Length  UL: 196\n",
      "(0002, 0001) File Meta Information Version       OB: b'\\x00\\x01'\n",
      "(0002, 0002) Media Storage SOP Class UID         UI: Positron Emission Tomography Image Storage\n",
      "(0002, 0003) Media Storage SOP Instance UID      UI: 1.3.12.2.1107.5.1.4.11061.30000019101106363026100031392\n",
      "(0002, 0010) Transfer Syntax UID                 UI: Explicit VR Little Endian\n",
      "(0002, 0012) Implementation Class UID            UI: 1.3.12.2.1107.5.99.3.20080101\n",
      "(0002, 0013) Implementation Version Name         SH: 'SIEMENS'\n",
      "-------------------------------------------------\n",
      "(0008, 0005) Specific Character Set              CS: 'ISO_IR 100'\n",
      "(0008, 0008) Image Type                          CS: ['ORIGINAL', 'PRIMARY']\n",
      "(0008, 0016) SOP Class UID                       UI: Positron Emission Tomography Image Storage\n",
      "(0008, 0018) SOP Instance UID                    UI: 1.3.12.2.1107.5.1.4.11061.30000019101106363026100031392\n",
      "(0008, 0020) Study Date                          DA: '20191011'\n",
      "(0008, 0021) Series Date                         DA: '20191011'\n",
      "(0008, 0022) Acquisition Date                    DA: '20191011'\n",
      "(0008, 0023) Content Date                        DA: '20191011'\n",
      "(0008, 0030) Study Time                          TM: '152238.854000'\n",
      "(0008, 0031) Series Time                         TM: '152437.000000'\n",
      "(0008, 0032) Acquisition Time                    TM: '152436.999995'\n",
      "(0008, 0033) Content Time                        TM: '154654.790000'\n",
      "(0008, 0050) Accession Number                    SH: ''\n",
      "(0008, 0060) Modality                            CS: 'PT'\n",
      "(0008, 0070) Manufacturer                        LO: 'SIEMENS'\n",
      "(0008, 0080) Institution Name                    LO: ''\n",
      "(0008, 0090) Referring Physician's Name          PN: ''\n",
      "(0008, 1010) Station Name                        SH: ''\n",
      "(0008, 1032)  Procedure Code Sequence   1 item(s) ---- \n",
      "   (0008, 0100) Code Value                          SH: 'TTEPCE2'\n",
      "   (0008, 0102) Coding Scheme Designator            SH: 'EDL'\n",
      "   (0008, 0104) Code Meaning                        LO: 'TEP FDG : IMAGES'\n",
      "   ---------\n",
      "(0008, 1090) Manufacturer's Model Name           LO: 'Biograph128_mCT'\n",
      "(0008, 1110)  Referenced Study Sequence   1 item(s) ---- \n",
      "   (0008, 1150) Referenced SOP Class UID            UI: Detached Study Management SOP Class\n",
      "   (0008, 1155) Referenced SOP Instance UID         UI: 2.16.840.1.113669.632.20.670001.900002661517\n",
      "   ---------\n",
      "(0008, 1250)  Related Series Sequence   1 item(s) ---- \n",
      "   (0020, 000d) Study Instance UID                  UI: 2.16.840.1.113669.632.20.670001.900002661517\n",
      "   (0020, 000e) Series Instance UID                 UI: 1.3.12.2.1107.5.1.4.11061.30000019101106360497600028315\n",
      "   (0040, a170)  Purpose of Reference Code Sequence   1 item(s) ---- \n",
      "      (0008, 0100) Code Value                          SH: '122403'\n",
      "      (0008, 0102) Coding Scheme Designator            SH: 'DCM'\n",
      "      (0008, 0104) Code Meaning                        LO: 'For Attenuation Correction'\n",
      "      (0008, 0105) Mapping Resource                    CS: 'DCMR'\n",
      "      (0008, 0106) Context Group Version               DT: '20030619000000.000000'\n",
      "      (0008, 010f) Context Identifier                  CS: '7210'\n",
      "      ---------\n",
      "   ---------\n",
      "(0010, 0010) Patient's Name                      PN: 'patient3DCOM'\n",
      "(0010, 0020) Patient ID                          LO: 'patient3DCOM'\n",
      "(0010, 0030) Patient's Birth Date                DA: '20191128'\n",
      "(0010, 0040) Patient's Sex                       CS: 'M'\n",
      "(0010, 1010) Patient's Age                       AS: '059Y'\n",
      "(0010, 1030) Patient's Weight                    DS: \"90.0\"\n",
      "(0012, 0062) Patient Identity Removed            CS: 'YES'\n",
      "(0012, 0063) De-identification Method            LO: ['Deidentified', 'Basic Application Confidentiality Profile applied', 'Retain Longitudinal Temporal Information With Full Dates Option', 'Retain Patient Characteristics Option', 'Retain UIDs Option']\n",
      "(0012, 0064)  De-identification Method Code Sequence   3 item(s) ---- \n",
      "   (0008, 0100) Code Value                          SH: '113106'\n",
      "   (0008, 0102) Coding Scheme Designator            SH: 'DCM'\n",
      "   (0008, 0104) Code Meaning                        LO: 'Retain Longitudinal Temporal Information With Full Dates Option'\n",
      "   ---------\n",
      "   (0008, 0100) Code Value                          SH: '113108'\n",
      "   (0008, 0102) Coding Scheme Designator            SH: 'DCM'\n",
      "   (0008, 0104) Code Meaning                        LO: 'Retain Patient Characteristics Option'\n",
      "   ---------\n",
      "   (0008, 0100) Code Value                          SH: '113110'\n",
      "   (0008, 0102) Coding Scheme Designator            SH: 'DCM'\n",
      "   (0008, 0104) Code Meaning                        LO: 'Retain UIDs Option'\n",
      "   ---------\n",
      "(0018, 0050) Slice Thickness                     DS: \"2.027\"\n",
      "(0018, 1000) Device Serial Number                LO: 'DeIdentified'\n",
      "(0018, 1020) Software Versions                   LO: 'VG51C'\n",
      "(0018, 1181) Collimator Type                     CS: 'NONE'\n",
      "(0018, 1200) Date of Last Calibration            DA: ['20191011', '20190531']\n",
      "(0018, 1201) Time of Last Calibration            TM: ['075249.000000', '124050.000000']\n",
      "(0018, 1210) Convolution Kernel                  SH: 'XYZ Gauss3.00'\n",
      "(0018, 1242) Actual Frame Duration               IS: \"150000\"\n",
      "(0018, 5100) Patient Position                    CS: 'HFS'\n",
      "(0020, 000d) Study Instance UID                  UI: 2.16.840.1.113669.632.20.670001.900002661517\n",
      "(0020, 000e) Series Instance UID                 UI: 1.3.12.2.1107.5.1.4.11061.30000019101106363026100031935\n",
      "(0020, 0010) Study ID                            SH: ''\n",
      "(0020, 0011) Series Number                       IS: \"3\"\n",
      "(0020, 0012) Acquisition Number                  IS: \"2001\"\n",
      "(0020, 0013) Instance Number                     IS: \"1\"\n",
      "(0020, 0032) Image Position (Patient)            DS: [-407.397, -605.875, -282.797]\n",
      "(0020, 0037) Image Orientation (Patient)         DS: [1, 0, 0, 0, 1, 0]\n",
      "(0020, 0052) Frame of Reference UID              UI: 1.3.12.2.1107.5.1.4.11061.30000019101106312570300000048\n",
      "(0020, 1040) Position Reference Indicator        LO: ''\n",
      "(0020, 1041) Slice Location                      DS: \"-282.797\"\n",
      "(0028, 0002) Samples per Pixel                   US: 1\n",
      "(0028, 0004) Photometric Interpretation          CS: 'MONOCHROME2'\n",
      "(0028, 0010) Rows                                US: 200\n",
      "(0028, 0011) Columns                             US: 200\n",
      "(0028, 0030) Pixel Spacing                       DS: [4.07283, 4.07283]\n",
      "(0028, 0051) Corrected Image                     CS: ['NORM', 'DTIM', 'ATTN', 'SCAT', 'DECY', 'RAN']\n",
      "(0028, 0100) Bits Allocated                      US: 16\n",
      "(0028, 0101) Bits Stored                         US: 16\n",
      "(0028, 0102) High Bit                            US: 15\n",
      "(0028, 0103) Pixel Representation                US: 0\n",
      "(0028, 0106) Smallest Image Pixel Value          US: 0\n",
      "(0028, 0107) Largest Image Pixel Value           US: 3714\n",
      "(0028, 1050) Window Center                       DS: \"10876.0\"\n",
      "(0028, 1051) Window Width                        DS: \"21751.0\"\n",
      "(0028, 1052) Rescale Intercept                   DS: \"0.0\"\n",
      "(0028, 1053) Rescale Slope                       DS: \"5.85672\"\n",
      "(0028, 1054) Rescale Type                        LO: 'BQML'\n",
      "(0029, 0010) Private Creator                     LO: 'SIEMENS CSA HEADER'\n",
      "(0029, 1018) [CSA Series Header Type]            CS: 'PET_REPLAY_PARAM'\n",
      "(0029, 1019) [CSA Series Header Version]         LO: '1.3'\n",
      "(0029, 1020) [CSA Series Header Info]            OB: Array of 214 elements\n",
      "(0032, 1060) Requested Procedure Description     LO: ''\n",
      "(0032, 1064)  Requested Procedure Code Sequence   1 item(s) ---- \n",
      "   (0008, 0100) Code Value                          SH: 'TTEPCE2'\n",
      "   (0008, 0102) Coding Scheme Designator            SH: 'EDL'\n",
      "   (0008, 0104) Code Meaning                        LO: 'TEP FDG : IMAGES'\n",
      "   ---------\n",
      "(0040, 2017) Filler Order Number / Imaging Servi LO: ''\n",
      "(0054, 0013)  Energy Window Range Sequence   1 item(s) ---- \n",
      "   (0054, 0014) Energy Window Lower Limit           DS: \"435.0\"\n",
      "   (0054, 0015) Energy Window Upper Limit           DS: \"650.0\"\n",
      "   ---------\n",
      "(0054, 0016)  Radiopharmaceutical Information Sequence   1 item(s) ---- \n",
      "   (0018, 0031) Radiopharmaceutical                 LO: 'Fluorodeoxyglucose'\n",
      "   (0018, 1072) Radiopharmaceutical Start Time      TM: '143044.000000'\n",
      "   (0018, 1074) Radionuclide Total Dose             DS: \"268000000.0\"\n",
      "   (0018, 1075) Radionuclide Half Life              DS: \"6586.2\"\n",
      "   (0018, 1076) Radionuclide Positron Fraction      DS: \"0.97\"\n",
      "   (0018, 1078) Radiopharmaceutical Start DateTime  DT: '20191011143044.000000'\n",
      "   (0054, 0300)  Radionuclide Code Sequence   1 item(s) ---- \n",
      "      (0008, 0100) Code Value                          SH: 'C-111A1'\n",
      "      (0008, 0102) Coding Scheme Designator            SH: 'SRT'\n",
      "      (0008, 0104) Code Meaning                        LO: '^18^Fluorine'\n",
      "      (0008, 0105) Mapping Resource                    CS: 'DCMR'\n",
      "      (0008, 0106) Context Group Version               DT: '20070625000000.000000'\n",
      "      (0008, 010f) Context Identifier                  CS: '4020'\n",
      "      ---------\n",
      "   (0054, 0304)  Radiopharmaceutical Code Sequence   1 item(s) ---- \n",
      "      (0008, 0100) Code Value                          SH: 'C-B1031'\n",
      "      (0008, 0102) Coding Scheme Designator            SH: 'SRT'\n",
      "      (0008, 0104) Code Meaning                        LO: 'Fluorodeoxyglucose F^18^'\n",
      "      (0008, 0105) Mapping Resource                    CS: 'DCMR'\n",
      "      (0008, 0106) Context Group Version               DT: '20070625000000.000000'\n",
      "      (0008, 010f) Context Identifier                  CS: '4021'\n",
      "      ---------\n",
      "   ---------\n",
      "(0054, 0081) Number of Slices                    US: 543\n",
      "(0054, 0410)  Patient Orientation Code Sequence   1 item(s) ---- \n",
      "   (0008, 0100) Code Value                          SH: 'F-10450'\n",
      "   (0008, 0102) Coding Scheme Designator            SH: '99SDM'\n",
      "   (0008, 0104) Code Meaning                        LO: 'recumbent'\n",
      "   (0008, 0105) Mapping Resource                    CS: 'DCMR'\n",
      "   (0008, 0106) Context Group Version               DT: '20020904000000.000000'\n",
      "   (0008, 010f) Context Identifier                  CS: '19'\n",
      "   (0054, 0412)  Patient Orientation Modifier Code Sequence   1 item(s) ---- \n",
      "      (0008, 0100) Code Value                          SH: 'F-10340'\n",
      "      (0008, 0102) Coding Scheme Designator            SH: '99SDM'\n",
      "      (0008, 0104) Code Meaning                        LO: 'supine'\n",
      "      (0008, 0105) Mapping Resource                    CS: 'DCMR'\n",
      "      (0008, 0106) Context Group Version               DT: '20020904000000.000000'\n",
      "      (0008, 010f) Context Identifier                  CS: '20'\n",
      "      ---------\n",
      "   ---------\n",
      "(0054, 0414)  Patient Gantry Relationship Code Sequence   1 item(s) ---- \n",
      "   (0008, 0100) Code Value                          SH: 'F-10470'\n",
      "   (0008, 0102) Coding Scheme Designator            SH: '99SDM'\n",
      "   (0008, 0104) Code Meaning                        LO: 'headfirst'\n",
      "   (0008, 0105) Mapping Resource                    CS: 'DCMR'\n",
      "   (0008, 0106) Context Group Version               DT: '20020904000000.000000'\n",
      "   (0008, 010f) Context Identifier                  CS: '21'\n",
      "   ---------\n",
      "(0054, 1000) Series Type                         CS: ['WHOLE BODY', 'IMAGE']\n",
      "(0054, 1001) Units                               CS: 'BQML'\n",
      "(0054, 1002) Counts Source                       CS: 'EMISSION'\n",
      "(0054, 1100) Randoms Correction Method           CS: 'DLYD'\n",
      "(0054, 1101) Attenuation Correction Method       LO: 'measured,AC CT TAP TAP'\n",
      "(0054, 1102) Decay Correction                    CS: 'START'\n",
      "(0054, 1103) Reconstruction Method               LO: 'PSF+TOF 2i21s'\n",
      "(0054, 1105) Scatter Correction Method           LO: 'Model-based'\n",
      "(0054, 1200) Axial Acceptance                    DS: \"49.0\"\n",
      "(0054, 1201) Axial Mash                          IS: [5, 6]\n",
      "(0054, 1300) Frame Reference Time                DS: \"74901.335499637\"\n",
      "(0054, 1321) Decay Factor                        DS: \"1.00791\"\n",
      "(0054, 1322) Dose Calibration Factor             DS: \"30499800.0\"\n",
      "(0054, 1323) Scatter Fraction Factor             DS: \"0.367461\"\n",
      "(0054, 1330) Image Index                         US: 1\n",
      "(7fe0, 0000) Group Length                        UL: 80012\n",
      "(7fe0, 0010) Pixel Data                          OW: Array of 80000 elements\n",
      "(fffa, fffa)  Digital Signatures Sequence   0 item(s) ---- \n",
      "(fffc, fffc) Data Set Trailing Padding           OB: None\n",
      "PET_SUV_ScaleFactor =  0.0004719280293222231\n",
      "Series Time       : 152437.000000\n",
      "Dose              : 268000000 Bq ou 268.0 MBq\n",
      "Patient's Weight  : 90 kg\n",
      "Half-life         : 6586.2 sec ou 109.77 min\n",
      "Start Time        : 143044.000000\n"
     ]
    },
    {
     "name": "stdout",
     "output_type": "stream",
     "text": [
      "2...SEG-SEG|1|TEP FDG : IMAGES\n",
      "3...PT-PT|1|TEP FDG : IMAGES\n",
      "4...PT-PT|1|TEP FDG : IMAGES\n",
      "end\n"
     ]
    }
   ],
   "source": [
    "count = 0\n",
    "# List all DICOM series in input data directory\n",
    "series_IDs = sitk.ImageSeriesReader.GetGDCMSeriesIDs(data_dir)\n",
    "print(\"There is \" + str(len(series_IDs)) + \" serie(s) in the input data directory \" + data_dir)\n",
    "print(*series_IDs,sep='\\n')\n",
    "for serie in series_IDs: \n",
    "    print(str(count) + \"...\",end = '')\n",
    "    reader=sitk.ImageSeriesReader() \n",
    "    # List all files for the considered series\n",
    "    series_file_names = sitk.ImageSeriesReader.GetGDCMSeriesFileNames(data_dir,series_IDs[count])\n",
    "    reader.SetFileNames(series_file_names)\n",
    "    # Retrieve all DICOM tags of the series by reading the first file of the series\n",
    "    ds=pydicom.filereader.dcmread(series_file_names[0])\n",
    "    print(ds[0x0008,0x0060].value,end='-')\n",
    "    print(ds.Modality,end='|')\n",
    "    print(ds.pixel_array.itemsize,end='|')\n",
    "    print(ds.ProcedureCodeSequence[0][0x0008,0x0104].value,end='')\n",
    "    if ds.pixel_array.itemsize!=1: # itemsize() function return the length of one array element in bytes\n",
    "        try:\n",
    "            IMAGE=reader.Execute()\n",
    "            chaine=str(count)+\"-\"+ds.Modality+\".nii\"\n",
    "            sitk.WriteImage(IMAGE,os.path.join(target_dir,chaine))\n",
    "            print(\"->\"+chaine+\"-> OK\")\n",
    "            #break\n",
    "        except:\n",
    "            print(\"->fail\")\n",
    "        verif_flag = True\n",
    "        if ds.Modality == \"PT\":\n",
    "            #print(ds)\n",
    "            # Compute scale factor allowing Bq/mL<->SUV conversion\n",
    "            RST = (ds[0x0054,0x0016][0][0x0018,0x1072].value) # RadiopharmaceuticalStartTime\n",
    "            RST = 3600 * int(RST[0:2]) + 60 * int(RST[2:4]) + int(RST[4:6]) # string to numerical value in sec\n",
    "            RTD = (ds[0x0054,0x0016][0][0x0018,0x1074].value) # RadionuclideTotalDose [Bq]\n",
    "            RHL = (ds[0x0054,0x0016][0][0x0018,0x1075].value) # RadionuclideHalfLife [s]\n",
    "            ST  = (ds[0x0008,0x0031].value)                   # SeriesTime\n",
    "            ST  = 3600 * int(ST[0:2]) + 60 * int(ST[2:4]) + int(ST[4:6]) # string to numerical value in sec\n",
    "            PW  = (ds[0x0010,0x1030].value)                   # PatientWeight [kg]\n",
    "            # RSD=(ds[0x0054,0x0016][0][0x0018,0x1078].value) # \n",
    "            CD = RTD * pow(2,- (ST - RST) / RHL )             # CorrectedDose\n",
    "            PET_SUV_ScaleFactor = PW * 1000 / CD\n",
    "            print(\"PET_SUV_ScaleFactor = \",PET_SUV_ScaleFactor)\n",
    "            if verif_flag:\n",
    "                print(\"Series Time       : \" + (ds[0x0008,0x0031].value))\n",
    "                print(\"Dose              : \" + str(RTD) + \" Bq ou \" + str(RTD/1e6) + \" MBq\")\n",
    "                print(\"Patient's Weight  : \" + str(PW)+\" kg\")\n",
    "                print(\"Half-life         : \" + str(RHL) + \" sec ou \" + str(RHL/60) + \" min\")\n",
    "                print(\"Start Time        : \" + ds[0x0054,0x0016][0][0x0018,0x1072].value)\n",
    "    else:\n",
    "        print()\n",
    "    count+=1\n",
    "print(\"end\")"
   ]
  },
  {
   "cell_type": "markdown",
   "metadata": {},
   "source": [
    "## 2. Compute PET volume voxel size allowing vox<->mm3 conversion"
   ]
  },
  {
   "cell_type": "code",
   "execution_count": 5,
   "metadata": {},
   "outputs": [
    {
     "name": "stdout",
     "output_type": "stream",
     "text": [
      "Pixel spacing: [4.0728302001953125, 4.0728302001953125]\n",
      "Slice thickness: 2.027008056640625\n",
      "vox2vol_Factor = 33.623899860034136 (mm3/voxel)\n"
     ]
    }
   ],
   "source": [
    "# Acces to PET image attributes using SimpleITK GetSpacing() method\n",
    "IMAGE = sitk.ReadImage(os.path.join(target_dir,'1-PT.nii'))\n",
    "print('Pixel spacing:', [IMAGE.GetSpacing()[0],IMAGE.GetSpacing()[1]])\n",
    "print('Slice thickness:', IMAGE.GetSpacing()[2])\n",
    "# Compute the volume (in mm3) of each voxel\n",
    "vox2vol_Factor = IMAGE.GetSpacing()[0] * IMAGE.GetSpacing()[1] * IMAGE.GetSpacing()[2]\n",
    "print(\"vox2vol_Factor = \" + str(vox2vol_Factor) + \" (mm3/voxel)\")"
   ]
  },
  {
   "cell_type": "markdown",
   "metadata": {},
   "source": [
    "## 3. Open PET volume with ITK-snap, manually find one of the set of slices encompasing the patient lung tumor and check out the consistency between a given pixel intensity values "
   ]
  },
  {
   "cell_type": "code",
   "execution_count": 10,
   "metadata": {},
   "outputs": [
    {
     "name": "stdout",
     "output_type": "stream",
     "text": [
      "Pixel intensity: 5891.86032\n"
     ]
    }
   ],
   "source": [
    "# Try with pixel coordinates 89,131,329\n",
    "# Be careful, array indices start at 0 in Python\n",
    "# but ... at 1 with ITK-snap (then you should set 'cursor position' to 90,132,330)\n",
    "# We find 5892 Bq/mL in ITK-snap\n",
    "print('Pixel intensity:', IMAGE[89,131,329])"
   ]
  },
  {
   "cell_type": "markdown",
   "metadata": {},
   "source": [
    "## 4. Crop the original PET volume at +/- 10 slices from the previous slice (to suppress the cardiac uptake that is very intense in this patient)"
   ]
  },
  {
   "cell_type": "code",
   "execution_count": 11,
   "metadata": {},
   "outputs": [],
   "source": [
    "tumor_center = [90,130,337] # definition of the tumor center\n",
    "nb_slices_to_crop = 10      # dimension of the half bounding box\n",
    "TC , NS = tumor_center, nb_slices_to_crop   \n",
    "# Create a new 'cropped' volume\n",
    "IMAGE_croped = IMAGE   # initial PET volume\n",
    "IMAGE_croped_np = sitk.GetArrayFromImage(IMAGE_croped)  # copy of the initial PET volume\n",
    "# Set to 0 each voxel outside the bounding box\n",
    "# Remember, SimpleITK and NumPy indexing access is in opposite order!\n",
    "IMAGE_croped_np[:,:,TC[0] + NS:] = 0\n",
    "IMAGE_croped_np[:,:,:TC[0] - NS] = 0\n",
    "\n",
    "IMAGE_croped_np[:,TC[1] + NS:,:] = 0\n",
    "IMAGE_croped_np[:,:TC[1] - NS,:] = 0\n",
    "\n",
    "IMAGE_croped_np[TC[2] + NS:,:,:] = 0\n",
    "IMAGE_croped_np[:TC[2] - NS,:,:] = 0"
   ]
  },
  {
   "cell_type": "markdown",
   "metadata": {},
   "source": [
    "## 5. Retrieve the most intense voxel value in Bq/mL and convert it to SUV"
   ]
  },
  {
   "cell_type": "code",
   "execution_count": 22,
   "metadata": {
    "scrolled": true
   },
   "outputs": [
    {
     "name": "stdout",
     "output_type": "stream",
     "text": [
      "Measurements derived from the cropped PET volume\n",
      "Maximum value: 61027.0224 Bq/mL\n",
      "Check this value by opening 1-PT.nii in ITK-snap\n",
      "Use the following sequence: Menu Tools>Image Contrast>Contrast Adjustement... \n",
      "or [Ctrl]+[I]. Look then at Contrast tab that displays the maximum value (in Bq/mL)\n",
      "Most intense voxel: 61027.0224 Bq/mL <=> 28.800362416635163 SUVmax\n"
     ]
    }
   ],
   "source": [
    "total_flag = False   # select if the analysis will be performed on the whole TEP volume (total_flag=True)\n",
    "                    # or on the cropped one (total_flag=False)\n",
    "\n",
    "if total_flag:\n",
    "    print(\"Measurements derived from the whole PET volume\")\n",
    "    IMAGE_np = sitk.GetArrayFromImage(IMAGE)\n",
    "else:\n",
    "    print(\"Measurements derived from the cropped PET volume\")\n",
    "    IMAGE_np = IMAGE_croped_np\n",
    "\n",
    "IMAGE_np_max = IMAGE_np.max() \n",
    "print(\"Maximum value: \" + str(IMAGE_np_max) + \" Bq/mL\")\n",
    "print(\"Check this value by opening 1-PT.nii in ITK-snap\")\n",
    "print(\"Use the following sequence: Menu Tools>Image Contrast>Contrast Adjustement... \")\n",
    "print(\"or [Ctrl]+[I]. Look then at Contrast tab that displays the maximum value (in Bq/mL)\")\n",
    "# Bq/mL to SUV conversion\n",
    "IMAGE_np_max_SUV = IMAGE_np_max * PET_SUV_ScaleFactor\n",
    "print(\"Most intense voxel: \" + str(IMAGE_np_max) + \" Bq/mL <=> \" + \\\n",
    "      str(IMAGE_np_max_SUV) + \" SUVmax\")"
   ]
  },
  {
   "cell_type": "markdown",
   "metadata": {},
   "source": [
    "## 6. Threshold at 15-40% maximum value, save this segmentation and open it in ITK-snap"
   ]
  },
  {
   "cell_type": "code",
   "execution_count": 6,
   "metadata": {},
   "outputs": [
    {
     "ename": "NameError",
     "evalue": "name 'IMAGE_np' is not defined",
     "output_type": "error",
     "traceback": [
      "\u001b[0;31m---------------------------------------------------------------------------\u001b[0m",
      "\u001b[0;31mNameError\u001b[0m                                 Traceback (most recent call last)",
      "\u001b[0;32m<ipython-input-6-01118d407b6a>\u001b[0m in \u001b[0;36m<module>\u001b[0;34m\u001b[0m\n\u001b[1;32m      1\u001b[0m \u001b[0mthreshold\u001b[0m \u001b[0;34m=\u001b[0m \u001b[0;36m0.15\u001b[0m\u001b[0;34m\u001b[0m\u001b[0;34m\u001b[0m\u001b[0m\n\u001b[1;32m      2\u001b[0m \u001b[0;34m\u001b[0m\u001b[0m\n\u001b[0;32m----> 3\u001b[0;31m \u001b[0mIMAGE_np_thresh\u001b[0m \u001b[0;34m=\u001b[0m \u001b[0mthreshold\u001b[0m \u001b[0;34m*\u001b[0m \u001b[0mIMAGE_np\u001b[0m\u001b[0;34m.\u001b[0m\u001b[0mmax\u001b[0m\u001b[0;34m(\u001b[0m\u001b[0;34m)\u001b[0m    \u001b[0;31m# absolute threshold\u001b[0m\u001b[0;34m\u001b[0m\u001b[0;34m\u001b[0m\u001b[0m\n\u001b[0m\u001b[1;32m      4\u001b[0m \u001b[0mSEG_size\u001b[0m \u001b[0;34m=\u001b[0m \u001b[0mIMAGE\u001b[0m\u001b[0;34m.\u001b[0m\u001b[0mGetSize\u001b[0m\u001b[0;34m(\u001b[0m\u001b[0;34m)\u001b[0m                 \u001b[0;31m# the segmentation image size will be the same as iput PET volume one\u001b[0m\u001b[0;34m\u001b[0m\u001b[0;34m\u001b[0m\u001b[0m\n\u001b[1;32m      5\u001b[0m \u001b[0mSEG\u001b[0m \u001b[0;34m=\u001b[0m \u001b[0msitk\u001b[0m\u001b[0;34m.\u001b[0m\u001b[0mImage\u001b[0m\u001b[0;34m(\u001b[0m\u001b[0mSEG_size\u001b[0m\u001b[0;34m,\u001b[0m\u001b[0msitk\u001b[0m\u001b[0;34m.\u001b[0m\u001b[0msitkUInt8\u001b[0m\u001b[0;34m)\u001b[0m  \u001b[0;31m# create a new segmentation image, 8 bits will be enough\u001b[0m\u001b[0;34m\u001b[0m\u001b[0;34m\u001b[0m\u001b[0m\n",
      "\u001b[0;31mNameError\u001b[0m: name 'IMAGE_np' is not defined"
     ]
    }
   ],
   "source": [
    "threshold = 0.15\n",
    "\n",
    "IMAGE_np_thresh = threshold * IMAGE_np.max()    # absolute threshold\n",
    "SEG_size = IMAGE.GetSize()                 # the segmentation image size will be the same as iput PET volume one\n",
    "SEG = sitk.Image(SEG_size,sitk.sitkUInt8)  # create a new segmentation image, 8 bits will be enough\n",
    "SEG.CopyInformation(IMAGE)                 # retrieve basic attributes of input PET volume (pixel_size, spacing)\n",
    "\n",
    "SEG_mask = (IMAGE_np >= IMAGE_np_thresh)  # segmented image\n",
    "print(\"Maximum value: \",IMAGE_np.max(),\" Bq/mL\")\n",
    "print(\"Theshold value: \",IMAGE_np_thresh, \"Bq/mL \",end = \"\")\n",
    "print(\" <=> \",IMAGE_np_thresh * PET_SUV_ScaleFactor,\" SUV\")\n",
    "\n",
    "# Create a sitk object for the segmentation from the mask\n",
    "SEG = sitk.GetImageFromArray(np.multiply(SEG_mask,np.ones(SEG.GetSize()[::-1])))\n",
    "# Save the segmentation as a SEG.nii file\n",
    "sitk.WriteImage(SEG,os.path.join(target_dir,\"SEG.nii\"))\n",
    "print(\"File SEG.nii written on disk..ok\")\n",
    "\n",
    "print(\"Attempt other segmentation thresholds [0;1] (0.40 is very selective, try 0.15 for the cropped PET volume and 0.05 for the whole one)\")\n",
    "print(\"Try on the whole TEP volume and the cropped one (step 5. put total_flag to False)\")\n",
    "print(\"\\nClick on 'update' to visualize a 3D surface rendering of your segmentation\")\n"
   ]
  },
  {
   "cell_type": "code",
   "execution_count": 24,
   "metadata": {},
   "outputs": [
    {
     "data": {
      "text/plain": [
       "0"
      ]
     },
     "execution_count": 24,
     "metadata": {},
     "output_type": "execute_result"
    }
   ],
   "source": [
    "import subprocess\n",
    "subprocess.call('itksnap -g ' + os.path.join(target_dir,\"1-PT.nii\" + \" -s \" + \\\n",
    "                                            os.path.join(target_dir,\"SEG.nii\")),shell=True)"
   ]
  },
  {
   "cell_type": "markdown",
   "metadata": {},
   "source": [
    "## 7. Retrieve the corresponding metabolic tumor volume (in number of voxels then in mm3)"
   ]
  },
  {
   "cell_type": "code",
   "execution_count": 25,
   "metadata": {},
   "outputs": [
    {
     "name": "stdout",
     "output_type": "stream",
     "text": [
      "\n",
      "Threshold :  0.15\n",
      "601 segmented voxels /  21720000  total voxels\n",
      "601 voxels <=> 20207.963815880517 mm3\n",
      "Compare these values (in voxels and in mm3)\n",
      "to corresponding data provided by ITK-snap (menu Segmentation>Volumes and Statistics...)\n"
     ]
    }
   ],
   "source": [
    "seg_nb_vox = len(SEG_mask[SEG_mask==1])\n",
    "seg_nb_mm3 = seg_nb_vox * vox2vol_Factor\n",
    "print(\"\\nThreshold : \",threshold)\n",
    "print(seg_nb_vox,\"segmented voxels / \",len(SEG),\" total voxels\")\n",
    "print(str(seg_nb_vox) + \" voxels <=> \" + str(seg_nb_mm3) + \" mm3\")\n",
    "print(\"Compare these values (in voxels and in mm3)\")\n",
    "print(\"to corresponding data provided by ITK-snap (menu Segmentation>Volumes and Statistics...)\")"
   ]
  },
  {
   "cell_type": "markdown",
   "metadata": {},
   "source": [
    "## 8. Assess the metabolic load by computing the cumulative sum of the segmented voxel values"
   ]
  },
  {
   "cell_type": "code",
   "execution_count": 26,
   "metadata": {},
   "outputs": [
    {
     "name": "stdout",
     "output_type": "stream",
     "text": [
      "Cumulated total =  14206997.107199991\n",
      "Mean            =  23638.930294841914\n",
      "Compared this mean value to this provided by ITK-snap (menu Segmentation>Volumes and Statistics...)\n"
     ]
    }
   ],
   "source": [
    "seg_cumsum = IMAGE_np[IMAGE_np >= IMAGE_np_thresh].cumsum()[-1]\n",
    "print(\"Cumulated total = \" , seg_cumsum)\n",
    "print(\"Mean            = \" , seg_cumsum/seg_nb_vox)\n",
    "print(\"Compared this mean value to this provided by ITK-snap (menu Segmentation>Volumes and Statistics...)\")"
   ]
  },
  {
   "cell_type": "code",
   "execution_count": null,
   "metadata": {},
   "outputs": [],
   "source": []
  },
  {
   "cell_type": "code",
   "execution_count": null,
   "metadata": {},
   "outputs": [],
   "source": []
  }
 ],
 "metadata": {
  "kernelspec": {
   "display_name": "Python 3",
   "language": "python",
   "name": "python3"
  },
  "language_info": {
   "codemirror_mode": {
    "name": "ipython",
    "version": 3
   },
   "file_extension": ".py",
   "mimetype": "text/x-python",
   "name": "python",
   "nbconvert_exporter": "python",
   "pygments_lexer": "ipython3",
   "version": "3.6.9"
  }
 },
 "nbformat": 4,
 "nbformat_minor": 2
}
