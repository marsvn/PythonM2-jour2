{
 "cells": [
  {
   "cell_type": "markdown",
   "metadata": {},
   "source": [
    "# A la découverte de Python et des jupyter notebooks\n",
    "*****\n",
    "\n",
    "### Albertine Dubois<sup>a</sup>, Fabrice Hubelé<sup>b</sup>, David Morland<sup>c</sup> et Edmond Rust<sup>d</sup> \n",
    "\n",
    "#### <sup>a</sup>INSTN, Saclay <span class=\"glyphicon glyphicon-envelope\"></span> albertine.dubois@cea.fr\n",
    "#### <sup>b</sup>Hôpital de Hautepierre, Strasbourg <span class=\"glyphicon glyphicon-envelope\"></span> fabrice.hubele@chru-strasbourg.fr \n",
    "#### <sup>c</sup>Institut Godinot, Reims <span class=\"glyphicon glyphicon-envelope\"></span> david.morland@reims.unicancer.fr\n",
    "#### <sup>d</sup>Fondation de la maison du Diaconat, Mulhouse <span class=\"glyphicon glyphicon-envelope\"></span> edmondrust@gmail.com"
   ]
  },
  {
   "cell_type": "markdown",
   "metadata": {},
   "source": [
    "## Prise en main de votre espace de travail"
   ]
  },
  {
   "cell_type": "markdown",
   "metadata": {},
   "source": [
    "### L'interpréteur python\n",
    "Python est un language de programmation *interprété*, cela veut dire qu'il n'est pas nécessaire de compiler votre programme pour executer les codes que vous auriez créer, simplifiant ainsi le processus de développement. C'est un language moderne (1989 [Van Rossum](http://fr.wikipedia.org/wiki/Guido_van_Rossum)) qui permet le développement avec une [approche procédurale](http://fr.wikipedia.org/wiki/Programmation_procédurale) ou bien [objet](http://fr.wikipedia.org/wiki/Programmation_orientée_objet) ( et voire même, par certains aspects, [fonctionnelle](http://fr.wikipedia.org/wiki/Programmation_fonctionnelle) grâce au faible typage des données). De plus, ce language est gratuitement disponible pour de nombreux systèmes d'exploitations tels que Windows, Linux, macOSX et bien d'autres.\n",
    "La bibliothèque standard et les paquetages disponibles simplifient grandement le développement d'applications aux fonctionnalités très puissantes et cela en très peu de lignes de codes."
   ]
  },
  {
   "cell_type": "markdown",
   "metadata": {},
   "source": [
    "#### Ipython\n",
    "Il existe un interpreteur python qui possède des fonctionnalités étendues par rapport à la distribution standard qui simplifient encore plus le prototypage d'applications. Son nom est [*Ipython*](http://ipython.org). Un des fonctionnalités particulièrement intéressante est son interaction avec une interface web qui permet de créer très facilement des *cahiers de notes* (*notebook* en anglais et dans la suite de ce document) de façon très similaire à ce que peuvent produire des logiciels *propriétaires* tels que [mathematica](http://www.wolfram.com/mathematica/) ou [mapple](http://www.maplesoft.com) (le prix en moins puisque *python* est gratuit :)). Nous illustrerons ces fonctionnalités dans les différents exercices qui seront réalisés au cours de cet optionnel."
   ]
  },
  {
   "cell_type": "markdown",
   "metadata": {},
   "source": [
    "### Prise en main de l'interpreteur\n",
    "Dans un terminal, déplacer vous dans un répertoire de travail (que vous créerez au besoin) et taper :\n",
    "\n",
    "    jupyter-notebook\n",
    "***\n",
    "Cela va ouvrir une nouvelle page dans votre explorateur web favori comme celle-ci :\n",
    "***\n",
    "\n",
    "<figure>\n",
    "<img src=\"./data/prise-en-main1.png\">\n",
    "</figure>"
   ]
  },
  {
   "cell_type": "markdown",
   "metadata": {},
   "source": [
    "***\n",
    "Vous pouvez créer un nouveau notebook en cliquant sur le bouton `Nouveau`. Une nouvelle fenêtre apparaît à l'écran telle que ci-dessous et avec laquelle vous pouvez intéragir par l'intermédiaire de *cellules*.\n",
    "***\n",
    "\n",
    "<figure>\n",
    "<img src=\"./data/prise-en-main2.png\">\n",
    "</figure>"
   ]
  },
  {
   "cell_type": "markdown",
   "metadata": {},
   "source": [
    "### Les cellules\n",
    "La cellule est l'élement avec lequel vous intéragissez avec votre cahier de notes. Elle permet aussi bien de rentrer du code dans un langage informatique comme `python` ou bien du texte que l'on peut formater selon un langage à balises simples nommé [*Markdown*](http://fr.wikipedia.org/wiki/Markdown). Cela permet de simplifier l'écriture de texte pour les pages de texte affichées dans un navigateur internet.\n",
    "\n",
    "La bascule d'un mode à l'autre se fait par l'intermédiaire du bouton à menu déroulant `code`. Il suffit de sélectionner la ligne *Markdown* pour pouvoir éditer du texte ou bien *code* pour entrer du code.\n",
    "\n",
    "Pour executer le contenu d'une cellule, il faut cliquer sur le bouton <button class='btn btn-default btn-xs'><i class=\"fa fa-play icon-play\"></i></button> de la barre d'outil ou bien taper la combinaison de touches `ctrl+Enter`"
   ]
  },
  {
   "cell_type": "markdown",
   "metadata": {},
   "source": [
    "Le notebook d'Ipython est particulièrement intéressant dans l'écriture de documents scientifiques puisqu'il permet d'écrire des formules mathématiques à l'aide d'un balisage identique à celui utilisé par [*Latex*](http://fr.wikipedia.org/wiki/LaTeX), par ex :\n",
    "\n",
    "$$ \\int\\int_\\sum \\vec{E}\\cdot \\vec{S} = \\frac{Q_{int}}{\\epsilon_0}$$"
   ]
  },
  {
   "cell_type": "markdown",
   "metadata": {},
   "source": [
    "En d'autres termes, il est tout à fait possible de réaliser *complétement* votre travail scientifique à l'intérieur d'un notebook. Vous avez tout sous la main, le code qui générent les données et/ou les exploitent et l'analyse de ces données/résultats sous la forme d'un document textuel. \n",
    "\n",
    "De plus, si vous souhaitez partager votre travail avec d'autres collègues, il suffit de leur donner votre notebook et les éventuels fichiers qui ont servis lors de votre analyse pour qu'ils soient capables de reproduire votre travail."
   ]
  },
  {
   "cell_type": "markdown",
   "metadata": {},
   "source": [
    "### Echange/Exportation du notebook\n",
    "Il est même possible d'exporter votre notebook dans des formats de fichiers tels que des fichiers pdf (et bien d'autres tout aussi intéressants) par l'intermédiaire de la commande `ipython nbconvert`."
   ]
  },
  {
   "cell_type": "markdown",
   "metadata": {},
   "source": [
    "### Interaction avec le système d'exploitation\n",
    "Par l'intermedaire des cellules, il aussi possible d'intéragir avec votre système d'exploitation en préfixant les commandes systèmes par un point d'exclamation. Par exemple :"
   ]
  },
  {
   "cell_type": "code",
   "execution_count": 1,
   "metadata": {},
   "outputs": [
    {
     "name": "stdout",
     "output_type": "stream",
     "text": [
      "1_Prise-en-main.ipynb\t\tAnalyse.ipynb\tcourbe5.png\r\n",
      "2_notebook-intro.ipynb\t\tcourbe1bis.png\tcourbe6.png\r\n",
      "3_notebook-modules-part1.ipynb\tcourbe1.png\tdata\r\n",
      "4_demo_oximeter.ipynb\t\tcourbe1ter.png\texo_scintigraphy.ipynb\r\n",
      "5_notebook-modules-part2.ipynb\tcourbe2bis.png\texo_SUV.ipynb\r\n",
      "6_notebook-DICOM.ipynb\t\tcourbe2.png\toutput\r\n",
      "7_demo_SUV.ipynb\t\tcourbe3.png\r\n",
      "8_demo_scintigraphy.ipynb\tcourbe4.png\r\n"
     ]
    }
   ],
   "source": [
    "!ls"
   ]
  },
  {
   "cell_type": "code",
   "execution_count": null,
   "metadata": {},
   "outputs": [],
   "source": []
  }
 ],
 "metadata": {
  "kernelspec": {
   "display_name": "Python 3",
   "language": "python",
   "name": "python3"
  },
  "language_info": {
   "codemirror_mode": {
    "name": "ipython",
    "version": 3
   },
   "file_extension": ".py",
   "mimetype": "text/x-python",
   "name": "python",
   "nbconvert_exporter": "python",
   "pygments_lexer": "ipython3",
   "version": "3.6.9"
  }
 },
 "nbformat": 4,
 "nbformat_minor": 4
}
