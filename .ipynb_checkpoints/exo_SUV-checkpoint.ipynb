{
 "cells": [
  {
   "cell_type": "markdown",
   "metadata": {},
   "source": [
    "# Assessment of tumor volume and metabolic load in lung cancer"
   ]
  },
  {
   "cell_type": "markdown",
   "metadata": {},
   "source": [
    "La conversion des images en SUV permet de « normaliser » les images et de les rendre comparables d’un sujet à l’autre, et d’un examen à l’autre, puisque la valeur attendue est toujours 1, qq soit l’activité injectée et la corpulence du sujet"
   ]
  },
  {
   "cell_type": "markdown",
   "metadata": {},
   "source": [
    "## Standardized uptake value (SUV)\n",
    "\n",
    "Standardized uptake value, $SUV$, (also referred to as the dose uptake ratio, DUR) is a widely used, robust PET quantifier, calculated simply as a ratio of tissue radioactivity concentration (for example in units [Bq/mL]) at time $t$, $A_c(t)$, and administered dose $D$ (for example in units [Bq]) at the time of injection divided by body weight $W$ (usually in units [g]).\n",
    "\n",
    "$ SUV_{BW}=\\frac{A_c(t)}{D} \\times W $\n",
    "\n",
    "Tissue radioactivity and dose must be decay corrected to the same time point (delay between the injection time and the scan start time in units [s]). The divider of the equation represents the average radioactivity concentration (per weight) in the whole body, and thus the $SUV$ equals regional-to-whole body ratio of radioactivity concentrations. \n",
    "\n",
    "$ D_c=D \\times 2^{(\\frac{-\\Delta t}{T_{1/2}})} $\n",
    "\n",
    "Cancer treatment response is usually assessed with FDG PET by calculating the SUV on the highest image pixel in the tumour regions ($SUV_{max}$), because this provides lower inter-observer variability than averaged SUV ($SUV{mean}$). Alternatively, metabolic tumour volume can be estimated using threshold or region growing techniques, and average $SUV$ inside the region is reported as such or multiplied by tumour volume to calculate the total glycolytic volume."
   ]
  },
  {
   "cell_type": "markdown",
   "metadata": {},
   "source": [
    "## Metabolic volume\n",
    "\n",
    "Glycolysis is increased in metabolically active tumours and in inflamed tissue, which can be detected using FDG PET imaging. FDG uptake is usually quantitated using semi-quantitative methods, most frequently $SUV$ and especially $SUV_{max}$, despite its well-known limitations. In many recent studies, volume-based parameters such as metabolic tumour volume ($MTV$) and total lesion glycolysis ($TLG$) have been used (Hirata et al., 2014) and found to provide better prognostic indices than traditional $SUV$ (Im et al., 2015; Vallius et al., 2018); comparison of the results is difficult since different methods are being used, and parameters are also heavily dependent on the PET scanner and reconstruction methods (Strandberg et al., 2018).\n",
    "\n",
    "Metabolic volume is defined as the lesion volume within a delineated boundary. Several delineation methods have been used, including\n",
    "\n",
    "* fixed threshold based on certain SUV (Im et al., 2016)\n",
    "* relative threshold based on certain voxel $SUV$ per $SUV_{max}$ or $SUV_{peak}$\n",
    "* tumour-to-background or contrast based methods (Schaefer et al., 2013; Avramovic et al., 2017)\n",
    "* gradient (watershed) based region-growing methods (Geets et al., 2007; Lee et al., 2007; Liao et al., 2012; Kao et al., 2012)\n",
    "* cluster based methods\n",
    "\n",
    "Fixed and relative threshold based and lesion-to-background methods are easily applicable, but dependent on the image quality (resolution and noise) and lesion size."
   ]
  },
  {
   "cell_type": "code",
   "execution_count": null,
   "metadata": {},
   "outputs": [],
   "source": [
    "# Import required packages\n",
    "import numpy as np\n",
    "import sys, os, subprocess\n",
    "\n",
    "# Import SimpleITK\n",
    "import SimpleITK as sitk\n",
    "\n",
    "# Import Pydicom\n",
    "import pydicom\n",
    "\n",
    "# Define current working directory\n",
    "pwd_dir = os.getcwd()\n",
    "# Define input data directory\n",
    "data_dir = './data/patient4'\n",
    "# Define target directory\n",
    "target_dir = os.path.join(pwd_dir,'output')\n",
    "# If it doesn't exist, create it\n",
    "if not os.path.exists(target_dir):\n",
    "    os.makedirs(target_dir)"
   ]
  },
  {
   "cell_type": "markdown",
   "metadata": {},
   "source": [
    "## 1. Open CT and PET DICOM series and write them as single 3D .nii files \n",
    "\n",
    "When DICOM series modality is refered as PET ($PT$), add a step to compute PET to SUV scale factor allowing further conversion of PET image into SUV units.\n",
    "\n",
    "\n",
    "\n",
    "To do so, you need to extract from the DICOM meta-data information, the following attributes values:\n",
    "\n",
    "* `Series Time`: Time the series started. Series Date and Series Time are used as the reference time for all PET Image Attributes that are temporally related, including activity measurements.\n",
    "* `Radiopharmaceutical Start Time`: Time of start of administration. The actual time of radiopharmaceutical administration to the patient for imaging purposes, using the same time base as Series Time. Example: \"070907.0705\" represents a time of 7 hours, 9 minutes and 7.0705 seconds. \n",
    "* `Radionuclide Total Dose`: The radiopharmaceutical dose administered to the patient measured in Becquerels (Bq) at the Radiopharmaceutical Start Time.\n",
    "* `Radionuclide Half Life`: The radionuclide half life, in seconds, to be used in the correction of this image.\n",
    "* `Patient's Weight`: Weight of the Patient, in kilograms.\n",
    "\n",
    "Have a look at https://dicom.innolitics.com/ciods/pet-image to find out corresponding tag numbers."
   ]
  },
  {
   "cell_type": "code",
   "execution_count": null,
   "metadata": {},
   "outputs": [],
   "source": [
    "count = 0\n",
    "# List all DICOM series in input data directory\n",
    "series_IDs = sitk.ImageSeriesReader.GetGDCMSeriesIDs(data_dir)\n",
    "print(\"There is \" + str(len(series_IDs)) + \" serie(s) in the input data directory \" + data_dir)\n",
    "print(*series_IDs,sep='\\n')\n",
    "for serie in series_IDs: \n",
    "    print(str(count) + \"...\",end = '')\n",
    "    reader=sitk.ImageSeriesReader() \n",
    "    # List all files for the considered series\n",
    "    series_file_names = sitk.ImageSeriesReader.GetGDCMSeriesFileNames(data_dir,series_IDs[count])\n",
    "    reader.SetFileNames(series_file_names)\n",
    "    # Retrieve all DICOM tags of the series by reading the first file of the series\n",
    "    ds=pydicom.filereader.dcmread(series_file_names[0])\n",
    "    print(ds[0x0008,0x0060].value,end='-')\n",
    "    print(ds.Modality,end='|')\n",
    "    print(ds.pixel_array.itemsize,end='|')\n",
    "    print(ds.ProcedureCodeSequence[0][0x0008,0x0104].value,end='')\n",
    "    if ds.pixel_array.itemsize!=1: # itemsize() function return the length of one array element in bytes\n",
    "        try:\n",
    "            IMAGE=reader.Execute()\n",
    "            chaine=str(count)+\"-\"+ds.Modality+\".nii\"\n",
    "            sitk.WriteImage(IMAGE,os.path.join(target_dir,chaine))\n",
    "            print(\"->\"+chaine+\"-> OK\")\n",
    "            #break\n",
    "        except:\n",
    "            print(\"->fail\")\n",
    "        verif_flag = True\n",
    "        if ds.Modality == \"PT\":\n",
    "            #print(ds)\n",
    "            # Compute scale factor allowing Bq/mL<->SUV conversion\n",
    "            RST = ... # RadiopharmaceuticalStartTime\n",
    "            RST = 3600 * ... + 60 * ... + ... # string to numerical value in sec\n",
    "            RTD = ... # RadionuclideTotalDose [Bq]\n",
    "            RHL = ... # RadionuclideHalfLife [s]\n",
    "            ST  = ...                 # SeriesTime\n",
    "            ST  = 3600 * ... + 60 * ... + ... # string to numerical value in sec\n",
    "            PW  = ...                # PatientWeight [kg]\n",
    "            # RSD=(ds[0x0054,0x0016][0][0x0018,0x1078].value) # \n",
    "            CD = ...            # CorrectedDose\n",
    "            PET_SUV_ScaleFactor = ...\n",
    "            print(\"PET_SUV_ScaleFactor = \",PET_SUV_ScaleFactor)\n",
    "            if verif_flag:\n",
    "                print(\"Series Time       : \" + ...\n",
    "                print(\"Dose              : \" + str(RTD) + \" Bq ou \" + ... + \" MBq\")\n",
    "                print(\"Patient's Weight  : \" + str(PW)+\" kg\")\n",
    "                print(\"Half-life         : \" + str(RHL) + \" sec ou \" + ... + \" min\")\n",
    "                print(\"Start Time        : \" + ...\n",
    "    else:\n",
    "        print()\n",
    "    count+=1\n",
    "print(\"end\")"
   ]
  },
  {
   "cell_type": "markdown",
   "metadata": {},
   "source": [
    "## 2. Compute PET volume voxel size allowing vox<->mm3 conversion"
   ]
  },
  {
   "cell_type": "code",
   "execution_count": null,
   "metadata": {},
   "outputs": [],
   "source": [
    "# Acces to PET image attributes using SimpleITK GetSpacing() method\n",
    "IMAGE = sitk.ReadImage(os.path.join(target_dir,'1-PT.nii'))\n",
    "print('Pixel spacing:', [...,...)\n",
    "print('Slice thickness:', ...)\n",
    "# Compute the volume (in mm3) of each voxel\n",
    "Vox_Vol_ScaleFactor = ... * ... * ...\n",
    "print(\"Vox_Vol_ScaleFactor = \" + str(Vox_Vol_ScaleFactor) + \" (mm3/voxel)\")"
   ]
  },
  {
   "cell_type": "markdown",
   "metadata": {},
   "source": [
    "## 3. Open PET volume with ITK-snap, manually find one of the set of slices encompasing the patient lung tumor and check out the consistency between a given pixel intensity values "
   ]
  },
  {
   "cell_type": "code",
   "execution_count": null,
   "metadata": {},
   "outputs": [],
   "source": [
    "# Try with pixel coordinates 89,131,329\n",
    "# Be careful, array indices start at 0 in Python\n",
    "# but ... at 1 with ITK-snap (then you should set 'cursor position' to 90,132,330)\n",
    "# We find 5892 Bq/mL in ITK-snap\n",
    "print('Pixel intensity:', IMAGE[89,131,329])"
   ]
  },
  {
   "cell_type": "markdown",
   "metadata": {},
   "source": [
    "## 4. Crop the original PET volume at +/- 10 slices from the previous slice (to suppress the cardiac uptake that is very intense in this patient)"
   ]
  },
  {
   "cell_type": "code",
   "execution_count": null,
   "metadata": {},
   "outputs": [],
   "source": [
    "tumor_center = [90,130,337] # definition of the tumor center\n",
    "nb_slices_to_crop = 10      # dimension of the half bounding box\n",
    "TC , NS = tumor_center, nb_slices_to_crop   \n",
    "# Create a new 'cropped' volume\n",
    "IMAGE_cropped = IMAGE   # initial PET volume\n",
    "IMAGE_cropped_np = sitk.GetArrayFromImage(IMAGE_cropped)  # copy of the initial PET volume\n",
    "# Set to 0 each voxel outside the bounding box\n",
    "# Remember, SimpleITK and NumPy indexing access is in opposite order!\n",
    "IMAGE_cropped_np[:,:,...:] = 0\n",
    "IMAGE_cropped_np[:,:,:...] = 0\n",
    "\n",
    "IMAGE_cropped_np[:,...:,:] = 0\n",
    "IMAGE_cropped_np[:,:...,:] = 0\n",
    "\n",
    "IMAGE_cropped_np[...:,:,:] = 0\n",
    "IMAGE_cropped_np[:...,:,:] = 0"
   ]
  },
  {
   "cell_type": "markdown",
   "metadata": {},
   "source": [
    "## 5. Retrieve the most intense voxel value in Bq/mL and convert it to SUV"
   ]
  },
  {
   "cell_type": "code",
   "execution_count": null,
   "metadata": {
    "scrolled": true
   },
   "outputs": [],
   "source": [
    "total_flag = False   # select if the analysis will be performed on the whole TEP volume (total_flag=True)\n",
    "                    # or on the cropped one (total_flag=False)\n",
    "\n",
    "if total_flag:\n",
    "    print(\"Measurements derived from the whole PET volume\")\n",
    "    IMAGE_np = sitk.GetArrayFromImage(IMAGE)\n",
    "else:\n",
    "    print(\"Measurements derived from the cropped PET volume\")\n",
    "    IMAGE_np = IMAGE_cropped_np\n",
    "\n",
    "IMAGE_np_max = IMAGE_np.max() \n",
    "print(\"Maximum value: \" + ... + \" Bq/mL\")\n",
    "print(\"Check this value by opening 1-PT.nii in ITK-snap\")\n",
    "print(\"Use the following sequence: Menu Tools>Image Contrast>Contrast Adjustement... \")\n",
    "print(\"or [Ctrl]+[I]. Look then at Contrast tab that displays the maximum value (in Bq/mL)\")\n",
    "# Bq/mL to SUV conversion\n",
    "IMAGE_np_max_SUV = IMAGE_np_max * ...\n",
    "print(\"Most intense voxel: \" + str(IMAGE_np_max) + \" Bq/mL <=> \" + \\\n",
    "      str(IMAGE_np_max_SUV) + \" SUVmax\")"
   ]
  },
  {
   "cell_type": "markdown",
   "metadata": {},
   "source": [
    "## 6. Threshold at 15-40% maximum value, save this segmentation and open it in ITK-snap"
   ]
  },
  {
   "cell_type": "code",
   "execution_count": null,
   "metadata": {},
   "outputs": [],
   "source": [
    "threshold = 0.15\n",
    "\n",
    "IMAGE_np_thresh = ...    # absolute threshold\n",
    "SEG_size = IMAGE.GetSize()                 # the segmentation image size will be the same as iput PET volume one\n",
    "SEG = sitk.Image(...)  # create a new segmentation image, 8 bits will be enough\n",
    "SEG.CopyInformation(IMAGE)                 # retrieve basic attributes of input PET volume (pixel_size, spacing)\n",
    "\n",
    "SEG_mask = (IMAGE_np >= ...)  # segmented image\n",
    "print(\"Maximum value: \",IMAGE_np.max(),\" Bq/mL\")\n",
    "print(\"Theshold value: \",IMAGE_np_thresh, \"Bq/mL \",end = \"\")\n",
    "print(\" <=> \",IMAGE_np_thresh * PET_SUV_ScaleFactor,\" SUV\")\n",
    "\n",
    "# Create a sitk object for the segmentation from the mask\n",
    "SEG = sitk.GetImageFromArray(np.multiply(SEG_mask,np.ones(SEG.GetSize()[::-1])))\n",
    "# Save the segmentation as a SEG.nii file\n",
    "sitk.WriteImage(SEG,os.path.join(target_dir,\"SEG.nii\"))\n",
    "print(\"File SEG.nii written on disk..ok\")\n",
    "\n",
    "print(\"Attempt other segmentation thresholds [0;1] (0.40 is very selective, try 0.15 for the cropped PET volume and 0.05 for the whole one)\")\n",
    "print(\"Try on the whole TEP volume and the cropped one (step 5. put total_flag to False)\")\n",
    "print(\"\\nClick on 'update' to visualize a 3D surface rendering of your segmentation\")\n"
   ]
  },
  {
   "cell_type": "code",
   "execution_count": null,
   "metadata": {},
   "outputs": [],
   "source": [
    "import subprocess\n",
    "subprocess.call('/usr/local/itksnap-3.8.0-20190612-Linux-gcc64/bin/itksnap -g ' + os.path.join(target_dir,\"1-PT.nii\" + \" -s \" + \\\n",
    "                                            os.path.join(target_dir,\"SEG.nii\")),shell=True)"
   ]
  },
  {
   "cell_type": "markdown",
   "metadata": {},
   "source": [
    "## 7. Retrieve the corresponding metabolic tumor volume (in number of voxels then in mm3)"
   ]
  },
  {
   "cell_type": "code",
   "execution_count": null,
   "metadata": {},
   "outputs": [],
   "source": [
    "seg_nb_vox = ...\n",
    "seg_nb_mm3 = ...\n",
    "print(\"\\nThreshold : \",threshold)\n",
    "print(seg_nb_vox,\"segmented voxels / \",...,\" total voxels\")\n",
    "print(str(seg_nb_vox) + \" voxels <=> \" + str(seg_nb_mm3) + \" mm3\")\n",
    "print(\"Compare these values (in voxels and in mm3)\")\n",
    "print(\"to corresponding data provided by ITK-snap (menu Segmentation>Volumes and Statistics...)\")"
   ]
  },
  {
   "cell_type": "markdown",
   "metadata": {},
   "source": [
    "## 8. Assess the metabolic load by computing the cumulative sum of the segmented voxel values"
   ]
  },
  {
   "cell_type": "code",
   "execution_count": null,
   "metadata": {},
   "outputs": [],
   "source": [
    "seg_cumsum = ...\n",
    "print(\"Cumulated total = \" , seg_cumsum)\n",
    "print(\"Mean            = \" , seg_cumsum/seg_nb_vox)\n",
    "print(\"Compared this mean value to this provided by ITK-snap (menu Segmentation>Volumes and Statistics...)\")"
   ]
  }
 ],
 "metadata": {
  "kernelspec": {
   "display_name": "Python 3",
   "language": "python",
   "name": "python3"
  },
  "language_info": {
   "codemirror_mode": {
    "name": "ipython",
    "version": 3
   },
   "file_extension": ".py",
   "mimetype": "text/x-python",
   "name": "python",
   "nbconvert_exporter": "python",
   "pygments_lexer": "ipython3",
   "version": "3.6.9"
  }
 },
 "nbformat": 4,
 "nbformat_minor": 2
}
